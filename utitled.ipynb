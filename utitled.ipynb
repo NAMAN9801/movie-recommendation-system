{
 "cells": [
  {
   "cell_type": "code",
   "execution_count": 3,
   "metadata": {},
   "outputs": [],
   "source": [
    "import numpy as np\n",
    "import pandas as pd"
   ]
  },
  {
   "cell_type": "code",
   "execution_count": 4,
   "metadata": {},
   "outputs": [],
   "source": [
    "movies = pd.read_csv('tmdb_5000_movies.csv')\n",
    "credits = pd.read_csv('tmdb_5000_credits.csv')"
   ]
  },
  {
   "cell_type": "code",
   "execution_count": 5,
   "metadata": {},
   "outputs": [
    {
     "data": {
      "text/html": [
       "<div>\n",
       "<style scoped>\n",
       "    .dataframe tbody tr th:only-of-type {\n",
       "        vertical-align: middle;\n",
       "    }\n",
       "\n",
       "    .dataframe tbody tr th {\n",
       "        vertical-align: top;\n",
       "    }\n",
       "\n",
       "    .dataframe thead th {\n",
       "        text-align: right;\n",
       "    }\n",
       "</style>\n",
       "<table border=\"1\" class=\"dataframe\">\n",
       "  <thead>\n",
       "    <tr style=\"text-align: right;\">\n",
       "      <th></th>\n",
       "      <th>budget</th>\n",
       "      <th>genres</th>\n",
       "      <th>homepage</th>\n",
       "      <th>id</th>\n",
       "      <th>keywords</th>\n",
       "      <th>original_language</th>\n",
       "      <th>original_title</th>\n",
       "      <th>overview</th>\n",
       "      <th>popularity</th>\n",
       "      <th>production_companies</th>\n",
       "      <th>production_countries</th>\n",
       "      <th>release_date</th>\n",
       "      <th>revenue</th>\n",
       "      <th>runtime</th>\n",
       "      <th>spoken_languages</th>\n",
       "      <th>status</th>\n",
       "      <th>tagline</th>\n",
       "      <th>title</th>\n",
       "      <th>vote_average</th>\n",
       "      <th>vote_count</th>\n",
       "    </tr>\n",
       "  </thead>\n",
       "  <tbody>\n",
       "    <tr>\n",
       "      <th>0</th>\n",
       "      <td>237000000</td>\n",
       "      <td>[{\"id\": 28, \"name\": \"Action\"}, {\"id\": 12, \"nam...</td>\n",
       "      <td>http://www.avatarmovie.com/</td>\n",
       "      <td>19995</td>\n",
       "      <td>[{\"id\": 1463, \"name\": \"culture clash\"}, {\"id\":...</td>\n",
       "      <td>en</td>\n",
       "      <td>Avatar</td>\n",
       "      <td>In the 22nd century, a paraplegic Marine is di...</td>\n",
       "      <td>150.437577</td>\n",
       "      <td>[{\"name\": \"Ingenious Film Partners\", \"id\": 289...</td>\n",
       "      <td>[{\"iso_3166_1\": \"US\", \"name\": \"United States o...</td>\n",
       "      <td>2009-12-10</td>\n",
       "      <td>2787965087</td>\n",
       "      <td>162.0</td>\n",
       "      <td>[{\"iso_639_1\": \"en\", \"name\": \"English\"}, {\"iso...</td>\n",
       "      <td>Released</td>\n",
       "      <td>Enter the World of Pandora.</td>\n",
       "      <td>Avatar</td>\n",
       "      <td>7.2</td>\n",
       "      <td>11800</td>\n",
       "    </tr>\n",
       "    <tr>\n",
       "      <th>1</th>\n",
       "      <td>300000000</td>\n",
       "      <td>[{\"id\": 12, \"name\": \"Adventure\"}, {\"id\": 14, \"...</td>\n",
       "      <td>http://disney.go.com/disneypictures/pirates/</td>\n",
       "      <td>285</td>\n",
       "      <td>[{\"id\": 270, \"name\": \"ocean\"}, {\"id\": 726, \"na...</td>\n",
       "      <td>en</td>\n",
       "      <td>Pirates of the Caribbean: At World's End</td>\n",
       "      <td>Captain Barbossa, long believed to be dead, ha...</td>\n",
       "      <td>139.082615</td>\n",
       "      <td>[{\"name\": \"Walt Disney Pictures\", \"id\": 2}, {\"...</td>\n",
       "      <td>[{\"iso_3166_1\": \"US\", \"name\": \"United States o...</td>\n",
       "      <td>2007-05-19</td>\n",
       "      <td>961000000</td>\n",
       "      <td>169.0</td>\n",
       "      <td>[{\"iso_639_1\": \"en\", \"name\": \"English\"}]</td>\n",
       "      <td>Released</td>\n",
       "      <td>At the end of the world, the adventure begins.</td>\n",
       "      <td>Pirates of the Caribbean: At World's End</td>\n",
       "      <td>6.9</td>\n",
       "      <td>4500</td>\n",
       "    </tr>\n",
       "    <tr>\n",
       "      <th>2</th>\n",
       "      <td>245000000</td>\n",
       "      <td>[{\"id\": 28, \"name\": \"Action\"}, {\"id\": 12, \"nam...</td>\n",
       "      <td>http://www.sonypictures.com/movies/spectre/</td>\n",
       "      <td>206647</td>\n",
       "      <td>[{\"id\": 470, \"name\": \"spy\"}, {\"id\": 818, \"name...</td>\n",
       "      <td>en</td>\n",
       "      <td>Spectre</td>\n",
       "      <td>A cryptic message from Bond’s past sends him o...</td>\n",
       "      <td>107.376788</td>\n",
       "      <td>[{\"name\": \"Columbia Pictures\", \"id\": 5}, {\"nam...</td>\n",
       "      <td>[{\"iso_3166_1\": \"GB\", \"name\": \"United Kingdom\"...</td>\n",
       "      <td>2015-10-26</td>\n",
       "      <td>880674609</td>\n",
       "      <td>148.0</td>\n",
       "      <td>[{\"iso_639_1\": \"fr\", \"name\": \"Fran\\u00e7ais\"},...</td>\n",
       "      <td>Released</td>\n",
       "      <td>A Plan No One Escapes</td>\n",
       "      <td>Spectre</td>\n",
       "      <td>6.3</td>\n",
       "      <td>4466</td>\n",
       "    </tr>\n",
       "    <tr>\n",
       "      <th>3</th>\n",
       "      <td>250000000</td>\n",
       "      <td>[{\"id\": 28, \"name\": \"Action\"}, {\"id\": 80, \"nam...</td>\n",
       "      <td>http://www.thedarkknightrises.com/</td>\n",
       "      <td>49026</td>\n",
       "      <td>[{\"id\": 849, \"name\": \"dc comics\"}, {\"id\": 853,...</td>\n",
       "      <td>en</td>\n",
       "      <td>The Dark Knight Rises</td>\n",
       "      <td>Following the death of District Attorney Harve...</td>\n",
       "      <td>112.312950</td>\n",
       "      <td>[{\"name\": \"Legendary Pictures\", \"id\": 923}, {\"...</td>\n",
       "      <td>[{\"iso_3166_1\": \"US\", \"name\": \"United States o...</td>\n",
       "      <td>2012-07-16</td>\n",
       "      <td>1084939099</td>\n",
       "      <td>165.0</td>\n",
       "      <td>[{\"iso_639_1\": \"en\", \"name\": \"English\"}]</td>\n",
       "      <td>Released</td>\n",
       "      <td>The Legend Ends</td>\n",
       "      <td>The Dark Knight Rises</td>\n",
       "      <td>7.6</td>\n",
       "      <td>9106</td>\n",
       "    </tr>\n",
       "    <tr>\n",
       "      <th>4</th>\n",
       "      <td>260000000</td>\n",
       "      <td>[{\"id\": 28, \"name\": \"Action\"}, {\"id\": 12, \"nam...</td>\n",
       "      <td>http://movies.disney.com/john-carter</td>\n",
       "      <td>49529</td>\n",
       "      <td>[{\"id\": 818, \"name\": \"based on novel\"}, {\"id\":...</td>\n",
       "      <td>en</td>\n",
       "      <td>John Carter</td>\n",
       "      <td>John Carter is a war-weary, former military ca...</td>\n",
       "      <td>43.926995</td>\n",
       "      <td>[{\"name\": \"Walt Disney Pictures\", \"id\": 2}]</td>\n",
       "      <td>[{\"iso_3166_1\": \"US\", \"name\": \"United States o...</td>\n",
       "      <td>2012-03-07</td>\n",
       "      <td>284139100</td>\n",
       "      <td>132.0</td>\n",
       "      <td>[{\"iso_639_1\": \"en\", \"name\": \"English\"}]</td>\n",
       "      <td>Released</td>\n",
       "      <td>Lost in our world, found in another.</td>\n",
       "      <td>John Carter</td>\n",
       "      <td>6.1</td>\n",
       "      <td>2124</td>\n",
       "    </tr>\n",
       "  </tbody>\n",
       "</table>\n",
       "</div>"
      ],
      "text/plain": [
       "      budget                                             genres  \\\n",
       "0  237000000  [{\"id\": 28, \"name\": \"Action\"}, {\"id\": 12, \"nam...   \n",
       "1  300000000  [{\"id\": 12, \"name\": \"Adventure\"}, {\"id\": 14, \"...   \n",
       "2  245000000  [{\"id\": 28, \"name\": \"Action\"}, {\"id\": 12, \"nam...   \n",
       "3  250000000  [{\"id\": 28, \"name\": \"Action\"}, {\"id\": 80, \"nam...   \n",
       "4  260000000  [{\"id\": 28, \"name\": \"Action\"}, {\"id\": 12, \"nam...   \n",
       "\n",
       "                                       homepage      id  \\\n",
       "0                   http://www.avatarmovie.com/   19995   \n",
       "1  http://disney.go.com/disneypictures/pirates/     285   \n",
       "2   http://www.sonypictures.com/movies/spectre/  206647   \n",
       "3            http://www.thedarkknightrises.com/   49026   \n",
       "4          http://movies.disney.com/john-carter   49529   \n",
       "\n",
       "                                            keywords original_language  \\\n",
       "0  [{\"id\": 1463, \"name\": \"culture clash\"}, {\"id\":...                en   \n",
       "1  [{\"id\": 270, \"name\": \"ocean\"}, {\"id\": 726, \"na...                en   \n",
       "2  [{\"id\": 470, \"name\": \"spy\"}, {\"id\": 818, \"name...                en   \n",
       "3  [{\"id\": 849, \"name\": \"dc comics\"}, {\"id\": 853,...                en   \n",
       "4  [{\"id\": 818, \"name\": \"based on novel\"}, {\"id\":...                en   \n",
       "\n",
       "                             original_title  \\\n",
       "0                                    Avatar   \n",
       "1  Pirates of the Caribbean: At World's End   \n",
       "2                                   Spectre   \n",
       "3                     The Dark Knight Rises   \n",
       "4                               John Carter   \n",
       "\n",
       "                                            overview  popularity  \\\n",
       "0  In the 22nd century, a paraplegic Marine is di...  150.437577   \n",
       "1  Captain Barbossa, long believed to be dead, ha...  139.082615   \n",
       "2  A cryptic message from Bond’s past sends him o...  107.376788   \n",
       "3  Following the death of District Attorney Harve...  112.312950   \n",
       "4  John Carter is a war-weary, former military ca...   43.926995   \n",
       "\n",
       "                                production_companies  \\\n",
       "0  [{\"name\": \"Ingenious Film Partners\", \"id\": 289...   \n",
       "1  [{\"name\": \"Walt Disney Pictures\", \"id\": 2}, {\"...   \n",
       "2  [{\"name\": \"Columbia Pictures\", \"id\": 5}, {\"nam...   \n",
       "3  [{\"name\": \"Legendary Pictures\", \"id\": 923}, {\"...   \n",
       "4        [{\"name\": \"Walt Disney Pictures\", \"id\": 2}]   \n",
       "\n",
       "                                production_countries release_date     revenue  \\\n",
       "0  [{\"iso_3166_1\": \"US\", \"name\": \"United States o...   2009-12-10  2787965087   \n",
       "1  [{\"iso_3166_1\": \"US\", \"name\": \"United States o...   2007-05-19   961000000   \n",
       "2  [{\"iso_3166_1\": \"GB\", \"name\": \"United Kingdom\"...   2015-10-26   880674609   \n",
       "3  [{\"iso_3166_1\": \"US\", \"name\": \"United States o...   2012-07-16  1084939099   \n",
       "4  [{\"iso_3166_1\": \"US\", \"name\": \"United States o...   2012-03-07   284139100   \n",
       "\n",
       "   runtime                                   spoken_languages    status  \\\n",
       "0    162.0  [{\"iso_639_1\": \"en\", \"name\": \"English\"}, {\"iso...  Released   \n",
       "1    169.0           [{\"iso_639_1\": \"en\", \"name\": \"English\"}]  Released   \n",
       "2    148.0  [{\"iso_639_1\": \"fr\", \"name\": \"Fran\\u00e7ais\"},...  Released   \n",
       "3    165.0           [{\"iso_639_1\": \"en\", \"name\": \"English\"}]  Released   \n",
       "4    132.0           [{\"iso_639_1\": \"en\", \"name\": \"English\"}]  Released   \n",
       "\n",
       "                                          tagline  \\\n",
       "0                     Enter the World of Pandora.   \n",
       "1  At the end of the world, the adventure begins.   \n",
       "2                           A Plan No One Escapes   \n",
       "3                                 The Legend Ends   \n",
       "4            Lost in our world, found in another.   \n",
       "\n",
       "                                      title  vote_average  vote_count  \n",
       "0                                    Avatar           7.2       11800  \n",
       "1  Pirates of the Caribbean: At World's End           6.9        4500  \n",
       "2                                   Spectre           6.3        4466  \n",
       "3                     The Dark Knight Rises           7.6        9106  \n",
       "4                               John Carter           6.1        2124  "
      ]
     },
     "execution_count": 5,
     "metadata": {},
     "output_type": "execute_result"
    }
   ],
   "source": [
    "movies.head()"
   ]
  },
  {
   "cell_type": "code",
   "execution_count": 6,
   "metadata": {},
   "outputs": [
    {
     "name": "stdout",
     "output_type": "stream",
     "text": [
      "<class 'pandas.core.frame.DataFrame'>\n",
      "RangeIndex: 4803 entries, 0 to 4802\n",
      "Data columns (total 20 columns):\n",
      " #   Column                Non-Null Count  Dtype  \n",
      "---  ------                --------------  -----  \n",
      " 0   budget                4803 non-null   int64  \n",
      " 1   genres                4803 non-null   object \n",
      " 2   homepage              1712 non-null   object \n",
      " 3   id                    4803 non-null   int64  \n",
      " 4   keywords              4803 non-null   object \n",
      " 5   original_language     4803 non-null   object \n",
      " 6   original_title        4803 non-null   object \n",
      " 7   overview              4800 non-null   object \n",
      " 8   popularity            4803 non-null   float64\n",
      " 9   production_companies  4803 non-null   object \n",
      " 10  production_countries  4803 non-null   object \n",
      " 11  release_date          4802 non-null   object \n",
      " 12  revenue               4803 non-null   int64  \n",
      " 13  runtime               4801 non-null   float64\n",
      " 14  spoken_languages      4803 non-null   object \n",
      " 15  status                4803 non-null   object \n",
      " 16  tagline               3959 non-null   object \n",
      " 17  title                 4803 non-null   object \n",
      " 18  vote_average          4803 non-null   float64\n",
      " 19  vote_count            4803 non-null   int64  \n",
      "dtypes: float64(3), int64(4), object(13)\n",
      "memory usage: 750.6+ KB\n"
     ]
    }
   ],
   "source": [
    "movies.info()"
   ]
  },
  {
   "cell_type": "code",
   "execution_count": 7,
   "metadata": {},
   "outputs": [
    {
     "data": {
      "text/html": [
       "<div>\n",
       "<style scoped>\n",
       "    .dataframe tbody tr th:only-of-type {\n",
       "        vertical-align: middle;\n",
       "    }\n",
       "\n",
       "    .dataframe tbody tr th {\n",
       "        vertical-align: top;\n",
       "    }\n",
       "\n",
       "    .dataframe thead th {\n",
       "        text-align: right;\n",
       "    }\n",
       "</style>\n",
       "<table border=\"1\" class=\"dataframe\">\n",
       "  <thead>\n",
       "    <tr style=\"text-align: right;\">\n",
       "      <th></th>\n",
       "      <th>movie_id</th>\n",
       "      <th>title</th>\n",
       "      <th>cast</th>\n",
       "      <th>crew</th>\n",
       "    </tr>\n",
       "  </thead>\n",
       "  <tbody>\n",
       "    <tr>\n",
       "      <th>0</th>\n",
       "      <td>19995</td>\n",
       "      <td>Avatar</td>\n",
       "      <td>[{\"cast_id\": 242, \"character\": \"Jake Sully\", \"...</td>\n",
       "      <td>[{\"credit_id\": \"52fe48009251416c750aca23\", \"de...</td>\n",
       "    </tr>\n",
       "    <tr>\n",
       "      <th>1</th>\n",
       "      <td>285</td>\n",
       "      <td>Pirates of the Caribbean: At World's End</td>\n",
       "      <td>[{\"cast_id\": 4, \"character\": \"Captain Jack Spa...</td>\n",
       "      <td>[{\"credit_id\": \"52fe4232c3a36847f800b579\", \"de...</td>\n",
       "    </tr>\n",
       "    <tr>\n",
       "      <th>2</th>\n",
       "      <td>206647</td>\n",
       "      <td>Spectre</td>\n",
       "      <td>[{\"cast_id\": 1, \"character\": \"James Bond\", \"cr...</td>\n",
       "      <td>[{\"credit_id\": \"54805967c3a36829b5002c41\", \"de...</td>\n",
       "    </tr>\n",
       "    <tr>\n",
       "      <th>3</th>\n",
       "      <td>49026</td>\n",
       "      <td>The Dark Knight Rises</td>\n",
       "      <td>[{\"cast_id\": 2, \"character\": \"Bruce Wayne / Ba...</td>\n",
       "      <td>[{\"credit_id\": \"52fe4781c3a36847f81398c3\", \"de...</td>\n",
       "    </tr>\n",
       "    <tr>\n",
       "      <th>4</th>\n",
       "      <td>49529</td>\n",
       "      <td>John Carter</td>\n",
       "      <td>[{\"cast_id\": 5, \"character\": \"John Carter\", \"c...</td>\n",
       "      <td>[{\"credit_id\": \"52fe479ac3a36847f813eaa3\", \"de...</td>\n",
       "    </tr>\n",
       "  </tbody>\n",
       "</table>\n",
       "</div>"
      ],
      "text/plain": [
       "   movie_id                                     title  \\\n",
       "0     19995                                    Avatar   \n",
       "1       285  Pirates of the Caribbean: At World's End   \n",
       "2    206647                                   Spectre   \n",
       "3     49026                     The Dark Knight Rises   \n",
       "4     49529                               John Carter   \n",
       "\n",
       "                                                cast  \\\n",
       "0  [{\"cast_id\": 242, \"character\": \"Jake Sully\", \"...   \n",
       "1  [{\"cast_id\": 4, \"character\": \"Captain Jack Spa...   \n",
       "2  [{\"cast_id\": 1, \"character\": \"James Bond\", \"cr...   \n",
       "3  [{\"cast_id\": 2, \"character\": \"Bruce Wayne / Ba...   \n",
       "4  [{\"cast_id\": 5, \"character\": \"John Carter\", \"c...   \n",
       "\n",
       "                                                crew  \n",
       "0  [{\"credit_id\": \"52fe48009251416c750aca23\", \"de...  \n",
       "1  [{\"credit_id\": \"52fe4232c3a36847f800b579\", \"de...  \n",
       "2  [{\"credit_id\": \"54805967c3a36829b5002c41\", \"de...  \n",
       "3  [{\"credit_id\": \"52fe4781c3a36847f81398c3\", \"de...  \n",
       "4  [{\"credit_id\": \"52fe479ac3a36847f813eaa3\", \"de...  "
      ]
     },
     "execution_count": 7,
     "metadata": {},
     "output_type": "execute_result"
    }
   ],
   "source": [
    "credits.head()"
   ]
  },
  {
   "cell_type": "code",
   "execution_count": 8,
   "metadata": {},
   "outputs": [
    {
     "data": {
      "text/plain": [
       "array(['[{\"credit_id\": \"52fe48009251416c750aca23\", \"department\": \"Editing\", \"gender\": 0, \"id\": 1721, \"job\": \"Editor\", \"name\": \"Stephen E. Rivkin\"}, {\"credit_id\": \"539c47ecc3a36810e3001f87\", \"department\": \"Art\", \"gender\": 2, \"id\": 496, \"job\": \"Production Design\", \"name\": \"Rick Carter\"}, {\"credit_id\": \"54491c89c3a3680fb4001cf7\", \"department\": \"Sound\", \"gender\": 0, \"id\": 900, \"job\": \"Sound Designer\", \"name\": \"Christopher Boyes\"}, {\"credit_id\": \"54491cb70e0a267480001bd0\", \"department\": \"Sound\", \"gender\": 0, \"id\": 900, \"job\": \"Supervising Sound Editor\", \"name\": \"Christopher Boyes\"}, {\"credit_id\": \"539c4a4cc3a36810c9002101\", \"department\": \"Production\", \"gender\": 1, \"id\": 1262, \"job\": \"Casting\", \"name\": \"Mali Finn\"}, {\"credit_id\": \"5544ee3b925141499f0008fc\", \"department\": \"Sound\", \"gender\": 2, \"id\": 1729, \"job\": \"Original Music Composer\", \"name\": \"James Horner\"}, {\"credit_id\": \"52fe48009251416c750ac9c3\", \"department\": \"Directing\", \"gender\": 2, \"id\": 2710, \"job\": \"Director\", \"name\": \"James Cameron\"}, {\"credit_id\": \"52fe48009251416c750ac9d9\", \"department\": \"Writing\", \"gender\": 2, \"id\": 2710, \"job\": \"Writer\", \"name\": \"James Cameron\"}, {\"credit_id\": \"52fe48009251416c750aca17\", \"department\": \"Editing\", \"gender\": 2, \"id\": 2710, \"job\": \"Editor\", \"name\": \"James Cameron\"}, {\"credit_id\": \"52fe48009251416c750aca29\", \"department\": \"Production\", \"gender\": 2, \"id\": 2710, \"job\": \"Producer\", \"name\": \"James Cameron\"}, {\"credit_id\": \"52fe48009251416c750aca3f\", \"department\": \"Writing\", \"gender\": 2, \"id\": 2710, \"job\": \"Screenplay\", \"name\": \"James Cameron\"}, {\"credit_id\": \"539c4987c3a36810ba0021a4\", \"department\": \"Art\", \"gender\": 2, \"id\": 7236, \"job\": \"Art Direction\", \"name\": \"Andrew Menzies\"}, {\"credit_id\": \"549598c3c3a3686ae9004383\", \"department\": \"Visual Effects\", \"gender\": 0, \"id\": 6690, \"job\": \"Visual Effects Producer\", \"name\": \"Jill Brooks\"}, {\"credit_id\": \"52fe48009251416c750aca4b\", \"department\": \"Production\", \"gender\": 1, \"id\": 6347, \"job\": \"Casting\", \"name\": \"Margery Simkin\"}, {\"credit_id\": \"570b6f419251417da70032fe\", \"department\": \"Art\", \"gender\": 2, \"id\": 6878, \"job\": \"Supervising Art Director\", \"name\": \"Kevin Ishioka\"}, {\"credit_id\": \"5495a0fac3a3686ae9004468\", \"department\": \"Sound\", \"gender\": 0, \"id\": 6883, \"job\": \"Music Editor\", \"name\": \"Dick Bernstein\"}, {\"credit_id\": \"54959706c3a3686af3003e81\", \"department\": \"Sound\", \"gender\": 0, \"id\": 8159, \"job\": \"Sound Effects Editor\", \"name\": \"Shannon Mills\"}, {\"credit_id\": \"54491d58c3a3680fb1001ccb\", \"department\": \"Sound\", \"gender\": 0, \"id\": 8160, \"job\": \"Foley\", \"name\": \"Dennie Thorpe\"}, {\"credit_id\": \"54491d6cc3a3680fa5001b2c\", \"department\": \"Sound\", \"gender\": 0, \"id\": 8163, \"job\": \"Foley\", \"name\": \"Jana Vance\"}, {\"credit_id\": \"52fe48009251416c750aca57\", \"department\": \"Costume & Make-Up\", \"gender\": 1, \"id\": 8527, \"job\": \"Costume Design\", \"name\": \"Deborah Lynn Scott\"}, {\"credit_id\": \"52fe48009251416c750aca2f\", \"department\": \"Production\", \"gender\": 2, \"id\": 8529, \"job\": \"Producer\", \"name\": \"Jon Landau\"}, {\"credit_id\": \"539c4937c3a36810ba002194\", \"department\": \"Art\", \"gender\": 0, \"id\": 9618, \"job\": \"Art Direction\", \"name\": \"Sean Haworth\"}, {\"credit_id\": \"539c49b6c3a36810c10020e6\", \"department\": \"Art\", \"gender\": 1, \"id\": 12653, \"job\": \"Set Decoration\", \"name\": \"Kim Sinclair\"}, {\"credit_id\": \"570b6f2f9251413a0e00020d\", \"department\": \"Art\", \"gender\": 1, \"id\": 12653, \"job\": \"Supervising Art Director\", \"name\": \"Kim Sinclair\"}, {\"credit_id\": \"54491a6c0e0a26748c001b19\", \"department\": \"Art\", \"gender\": 2, \"id\": 14350, \"job\": \"Set Designer\", \"name\": \"Richard F. Mays\"}, {\"credit_id\": \"56928cf4c3a3684cff0025c4\", \"department\": \"Production\", \"gender\": 1, \"id\": 20294, \"job\": \"Executive Producer\", \"name\": \"Laeta Kalogridis\"}, {\"credit_id\": \"52fe48009251416c750aca51\", \"department\": \"Costume & Make-Up\", \"gender\": 0, \"id\": 17675, \"job\": \"Costume Design\", \"name\": \"Mayes C. Rubeo\"}, {\"credit_id\": \"52fe48009251416c750aca11\", \"department\": \"Camera\", \"gender\": 2, \"id\": 18265, \"job\": \"Director of Photography\", \"name\": \"Mauro Fiore\"}, {\"credit_id\": \"5449194d0e0a26748f001b39\", \"department\": \"Art\", \"gender\": 0, \"id\": 42281, \"job\": \"Set Designer\", \"name\": \"Scott Herbertson\"}, {\"credit_id\": \"52fe48009251416c750aca05\", \"department\": \"Crew\", \"gender\": 0, \"id\": 42288, \"job\": \"Stunts\", \"name\": \"Woody Schultz\"}, {\"credit_id\": \"5592aefb92514152de0010f5\", \"department\": \"Costume & Make-Up\", \"gender\": 0, \"id\": 29067, \"job\": \"Makeup Artist\", \"name\": \"Linda DeVetta\"}, {\"credit_id\": \"5592afa492514152de00112c\", \"department\": \"Costume & Make-Up\", \"gender\": 0, \"id\": 29067, \"job\": \"Hairstylist\", \"name\": \"Linda DeVetta\"}, {\"credit_id\": \"54959ed592514130fc002e5d\", \"department\": \"Camera\", \"gender\": 2, \"id\": 33302, \"job\": \"Camera Operator\", \"name\": \"Richard Bluck\"}, {\"credit_id\": \"539c4891c3a36810ba002147\", \"department\": \"Art\", \"gender\": 2, \"id\": 33303, \"job\": \"Art Direction\", \"name\": \"Simon Bright\"}, {\"credit_id\": \"54959c069251417a81001f3a\", \"department\": \"Visual Effects\", \"gender\": 0, \"id\": 113145, \"job\": \"Visual Effects Supervisor\", \"name\": \"Richard Martin\"}, {\"credit_id\": \"54959a0dc3a3680ff5002c8d\", \"department\": \"Crew\", \"gender\": 2, \"id\": 58188, \"job\": \"Visual Effects Editor\", \"name\": \"Steve R. Moore\"}, {\"credit_id\": \"52fe48009251416c750aca1d\", \"department\": \"Editing\", \"gender\": 2, \"id\": 58871, \"job\": \"Editor\", \"name\": \"John Refoua\"}, {\"credit_id\": \"54491a4dc3a3680fc30018ca\", \"department\": \"Art\", \"gender\": 0, \"id\": 92359, \"job\": \"Set Designer\", \"name\": \"Karl J. Martin\"}, {\"credit_id\": \"52fe48009251416c750aca35\", \"department\": \"Camera\", \"gender\": 1, \"id\": 72201, \"job\": \"Director of Photography\", \"name\": \"Chiling Lin\"}, {\"credit_id\": \"52fe48009251416c750ac9ff\", \"department\": \"Crew\", \"gender\": 0, \"id\": 89714, \"job\": \"Stunts\", \"name\": \"Ilram Choi\"}, {\"credit_id\": \"54959c529251416e2b004394\", \"department\": \"Visual Effects\", \"gender\": 2, \"id\": 93214, \"job\": \"Visual Effects Supervisor\", \"name\": \"Steven Quale\"}, {\"credit_id\": \"54491edf0e0a267489001c37\", \"department\": \"Crew\", \"gender\": 1, \"id\": 122607, \"job\": \"Dialect Coach\", \"name\": \"Carla Meyer\"}, {\"credit_id\": \"539c485bc3a368653d001a3a\", \"department\": \"Art\", \"gender\": 2, \"id\": 132585, \"job\": \"Art Direction\", \"name\": \"Nick Bassett\"}, {\"credit_id\": \"539c4903c3a368653d001a74\", \"department\": \"Art\", \"gender\": 0, \"id\": 132596, \"job\": \"Art Direction\", \"name\": \"Jill Cormack\"}, {\"credit_id\": \"539c4967c3a368653d001a94\", \"department\": \"Art\", \"gender\": 0, \"id\": 132604, \"job\": \"Art Direction\", \"name\": \"Andy McLaren\"}, {\"credit_id\": \"52fe48009251416c750aca45\", \"department\": \"Crew\", \"gender\": 0, \"id\": 236696, \"job\": \"Motion Capture Artist\", \"name\": \"Terry Notary\"}, {\"credit_id\": \"54959e02c3a3680fc60027d2\", \"department\": \"Crew\", \"gender\": 2, \"id\": 956198, \"job\": \"Stunt Coordinator\", \"name\": \"Garrett Warren\"}, {\"credit_id\": \"54959ca3c3a3686ae300438c\", \"department\": \"Visual Effects\", \"gender\": 2, \"id\": 957874, \"job\": \"Visual Effects Supervisor\", \"name\": \"Jonathan Rothbart\"}, {\"credit_id\": \"570b6f519251412c74001b2f\", \"department\": \"Art\", \"gender\": 0, \"id\": 957889, \"job\": \"Supervising Art Director\", \"name\": \"Stefan Dechant\"}, {\"credit_id\": \"570b6f62c3a3680b77007460\", \"department\": \"Art\", \"gender\": 2, \"id\": 959555, \"job\": \"Supervising Art Director\", \"name\": \"Todd Cherniawsky\"}, {\"credit_id\": \"539c4a3ac3a36810da0021cc\", \"department\": \"Production\", \"gender\": 0, \"id\": 1016177, \"job\": \"Casting\", \"name\": \"Miranda Rivers\"}, {\"credit_id\": \"539c482cc3a36810c1002062\", \"department\": \"Art\", \"gender\": 0, \"id\": 1032536, \"job\": \"Production Design\", \"name\": \"Robert Stromberg\"}, {\"credit_id\": \"539c4b65c3a36810c9002125\", \"department\": \"Costume & Make-Up\", \"gender\": 2, \"id\": 1071680, \"job\": \"Costume Design\", \"name\": \"John Harding\"}, {\"credit_id\": \"54959e6692514130fc002e4e\", \"department\": \"Camera\", \"gender\": 0, \"id\": 1177364, \"job\": \"Steadicam Operator\", \"name\": \"Roberto De Angelis\"}, {\"credit_id\": \"539c49f1c3a368653d001aac\", \"department\": \"Costume & Make-Up\", \"gender\": 2, \"id\": 1202850, \"job\": \"Makeup Department Head\", \"name\": \"Mike Smithson\"}, {\"credit_id\": \"5495999ec3a3686ae100460c\", \"department\": \"Visual Effects\", \"gender\": 0, \"id\": 1204668, \"job\": \"Visual Effects Producer\", \"name\": \"Alain Lalanne\"}, {\"credit_id\": \"54959cdfc3a3681153002729\", \"department\": \"Visual Effects\", \"gender\": 0, \"id\": 1206410, \"job\": \"Visual Effects Supervisor\", \"name\": \"Lucas Salton\"}, {\"credit_id\": \"549596239251417a81001eae\", \"department\": \"Crew\", \"gender\": 0, \"id\": 1234266, \"job\": \"Post Production Supervisor\", \"name\": \"Janace Tashjian\"}, {\"credit_id\": \"54959c859251416e1e003efe\", \"department\": \"Visual Effects\", \"gender\": 0, \"id\": 1271932, \"job\": \"Visual Effects Supervisor\", \"name\": \"Stephen Rosenbaum\"}, {\"credit_id\": \"5592af28c3a368775a00105f\", \"department\": \"Costume & Make-Up\", \"gender\": 0, \"id\": 1310064, \"job\": \"Makeup Artist\", \"name\": \"Frankie Karena\"}, {\"credit_id\": \"539c4adfc3a36810e300203b\", \"department\": \"Costume & Make-Up\", \"gender\": 1, \"id\": 1319844, \"job\": \"Costume Supervisor\", \"name\": \"Lisa Lovaas\"}, {\"credit_id\": \"54959b579251416e2b004371\", \"department\": \"Visual Effects\", \"gender\": 0, \"id\": 1327028, \"job\": \"Visual Effects Supervisor\", \"name\": \"Jonathan Fawkner\"}, {\"credit_id\": \"539c48a7c3a36810b5001fa7\", \"department\": \"Art\", \"gender\": 0, \"id\": 1330561, \"job\": \"Art Direction\", \"name\": \"Robert Bavin\"}, {\"credit_id\": \"539c4a71c3a36810da0021e0\", \"department\": \"Costume & Make-Up\", \"gender\": 0, \"id\": 1330567, \"job\": \"Costume Supervisor\", \"name\": \"Anthony Almaraz\"}, {\"credit_id\": \"539c4a8ac3a36810ba0021e4\", \"department\": \"Costume & Make-Up\", \"gender\": 0, \"id\": 1330570, \"job\": \"Costume Supervisor\", \"name\": \"Carolyn M. Fenton\"}, {\"credit_id\": \"539c4ab6c3a36810da0021f0\", \"department\": \"Costume & Make-Up\", \"gender\": 0, \"id\": 1330574, \"job\": \"Costume Supervisor\", \"name\": \"Beth Koenigsberg\"}, {\"credit_id\": \"54491ab70e0a267480001ba2\", \"department\": \"Art\", \"gender\": 0, \"id\": 1336191, \"job\": \"Set Designer\", \"name\": \"Sam Page\"}, {\"credit_id\": \"544919d9c3a3680fc30018bd\", \"department\": \"Art\", \"gender\": 0, \"id\": 1339441, \"job\": \"Set Designer\", \"name\": \"Tex Kadonaga\"}, {\"credit_id\": \"54491cf50e0a267483001b0c\", \"department\": \"Editing\", \"gender\": 0, \"id\": 1352422, \"job\": \"Dialogue Editor\", \"name\": \"Kim Foscato\"}, {\"credit_id\": \"544919f40e0a26748c001b09\", \"department\": \"Art\", \"gender\": 0, \"id\": 1352962, \"job\": \"Set Designer\", \"name\": \"Tammy S. Lee\"}, {\"credit_id\": \"5495a115c3a3680ff5002d71\", \"department\": \"Crew\", \"gender\": 0, \"id\": 1357070, \"job\": \"Transportation Coordinator\", \"name\": \"Denny Caira\"}, {\"credit_id\": \"5495a12f92514130fc002e94\", \"department\": \"Crew\", \"gender\": 0, \"id\": 1357071, \"job\": \"Transportation Coordinator\", \"name\": \"James Waitkus\"}, {\"credit_id\": \"5495976fc3a36811530026b0\", \"department\": \"Sound\", \"gender\": 0, \"id\": 1360103, \"job\": \"Supervising Sound Editor\", \"name\": \"Addison Teague\"}, {\"credit_id\": \"54491837c3a3680fb1001c5a\", \"department\": \"Art\", \"gender\": 2, \"id\": 1376887, \"job\": \"Set Designer\", \"name\": \"C. Scott Baker\"}, {\"credit_id\": \"54491878c3a3680fb4001c9d\", \"department\": \"Art\", \"gender\": 0, \"id\": 1376888, \"job\": \"Set Designer\", \"name\": \"Luke Caska\"}, {\"credit_id\": \"544918dac3a3680fa5001ae0\", \"department\": \"Art\", \"gender\": 0, \"id\": 1376889, \"job\": \"Set Designer\", \"name\": \"David Chow\"}, {\"credit_id\": \"544919110e0a267486001b68\", \"department\": \"Art\", \"gender\": 0, \"id\": 1376890, \"job\": \"Set Designer\", \"name\": \"Jonathan Dyer\"}, {\"credit_id\": \"54491967c3a3680faa001b5e\", \"department\": \"Art\", \"gender\": 0, \"id\": 1376891, \"job\": \"Set Designer\", \"name\": \"Joseph Hiura\"}, {\"credit_id\": \"54491997c3a3680fb1001c8a\", \"department\": \"Art\", \"gender\": 0, \"id\": 1376892, \"job\": \"Art Department Coordinator\", \"name\": \"Rebecca Jellie\"}, {\"credit_id\": \"544919ba0e0a26748f001b42\", \"department\": \"Art\", \"gender\": 0, \"id\": 1376893, \"job\": \"Set Designer\", \"name\": \"Robert Andrew Johnson\"}, {\"credit_id\": \"54491b1dc3a3680faa001b8c\", \"department\": \"Art\", \"gender\": 0, \"id\": 1376895, \"job\": \"Assistant Art Director\", \"name\": \"Mike Stassi\"}, {\"credit_id\": \"54491b79c3a3680fbb001826\", \"department\": \"Art\", \"gender\": 0, \"id\": 1376897, \"job\": \"Construction Coordinator\", \"name\": \"John Villarino\"}, {\"credit_id\": \"54491baec3a3680fb4001ce6\", \"department\": \"Art\", \"gender\": 2, \"id\": 1376898, \"job\": \"Assistant Art Director\", \"name\": \"Jeffrey Wisniewski\"}, {\"credit_id\": \"54491d2fc3a3680fb4001d07\", \"department\": \"Editing\", \"gender\": 0, \"id\": 1376899, \"job\": \"Dialogue Editor\", \"name\": \"Cheryl Nardi\"}, {\"credit_id\": \"54491d86c3a3680fa5001b2f\", \"department\": \"Editing\", \"gender\": 0, \"id\": 1376901, \"job\": \"Dialogue Editor\", \"name\": \"Marshall Winn\"}, {\"credit_id\": \"54491d9dc3a3680faa001bb0\", \"department\": \"Sound\", \"gender\": 0, \"id\": 1376902, \"job\": \"Supervising Sound Editor\", \"name\": \"Gwendolyn Yates Whittle\"}, {\"credit_id\": \"54491dc10e0a267486001bce\", \"department\": \"Sound\", \"gender\": 0, \"id\": 1376903, \"job\": \"Sound Re-Recording Mixer\", \"name\": \"William Stein\"}, {\"credit_id\": \"54491f500e0a26747c001c07\", \"department\": \"Crew\", \"gender\": 0, \"id\": 1376909, \"job\": \"Choreographer\", \"name\": \"Lula Washington\"}, {\"credit_id\": \"549599239251412c4e002a2e\", \"department\": \"Visual Effects\", \"gender\": 0, \"id\": 1391692, \"job\": \"Visual Effects Producer\", \"name\": \"Chris Del Conte\"}, {\"credit_id\": \"54959d54c3a36831b8001d9a\", \"department\": \"Visual Effects\", \"gender\": 2, \"id\": 1391695, \"job\": \"Visual Effects Supervisor\", \"name\": \"R. Christopher White\"}, {\"credit_id\": \"54959bdf9251412c4e002a66\", \"department\": \"Visual Effects\", \"gender\": 0, \"id\": 1394070, \"job\": \"Visual Effects Supervisor\", \"name\": \"Dan Lemmon\"}, {\"credit_id\": \"5495971d92514132ed002922\", \"department\": \"Sound\", \"gender\": 0, \"id\": 1394129, \"job\": \"Sound Effects Editor\", \"name\": \"Tim Nielsen\"}, {\"credit_id\": \"5592b25792514152cc0011aa\", \"department\": \"Crew\", \"gender\": 0, \"id\": 1394286, \"job\": \"CG Supervisor\", \"name\": \"Michael Mulholland\"}, {\"credit_id\": \"54959a329251416e2b004355\", \"department\": \"Crew\", \"gender\": 0, \"id\": 1394750, \"job\": \"Visual Effects Editor\", \"name\": \"Thomas Nittmann\"}, {\"credit_id\": \"54959d6dc3a3686ae9004401\", \"department\": \"Visual Effects\", \"gender\": 0, \"id\": 1394755, \"job\": \"Visual Effects Supervisor\", \"name\": \"Edson Williams\"}, {\"credit_id\": \"5495a08fc3a3686ae300441c\", \"department\": \"Editing\", \"gender\": 0, \"id\": 1394953, \"job\": \"Digital Intermediate\", \"name\": \"Christine Carr\"}, {\"credit_id\": \"55402d659251413d6d000249\", \"department\": \"Visual Effects\", \"gender\": 0, \"id\": 1395269, \"job\": \"Visual Effects Supervisor\", \"name\": \"John Bruno\"}, {\"credit_id\": \"54959e7b9251416e1e003f3e\", \"department\": \"Camera\", \"gender\": 0, \"id\": 1398970, \"job\": \"Steadicam Operator\", \"name\": \"David Emmerichs\"}, {\"credit_id\": \"54959734c3a3686ae10045e0\", \"department\": \"Sound\", \"gender\": 0, \"id\": 1400906, \"job\": \"Sound Effects Editor\", \"name\": \"Christopher Scarabosio\"}, {\"credit_id\": \"549595dd92514130fc002d79\", \"department\": \"Production\", \"gender\": 0, \"id\": 1401784, \"job\": \"Production Supervisor\", \"name\": \"Jennifer Teves\"}, {\"credit_id\": \"549596009251413af70028cc\", \"department\": \"Production\", \"gender\": 0, \"id\": 1401785, \"job\": \"Production Manager\", \"name\": \"Brigitte Yorke\"}, {\"credit_id\": \"549596e892514130fc002d99\", \"department\": \"Sound\", \"gender\": 0, \"id\": 1401786, \"job\": \"Sound Effects Editor\", \"name\": \"Ken Fischer\"}, {\"credit_id\": \"549598229251412c4e002a1c\", \"department\": \"Crew\", \"gender\": 0, \"id\": 1401787, \"job\": \"Special Effects Coordinator\", \"name\": \"Iain Hutton\"}, {\"credit_id\": \"549598349251416e2b00432b\", \"department\": \"Crew\", \"gender\": 0, \"id\": 1401788, \"job\": \"Special Effects Coordinator\", \"name\": \"Steve Ingram\"}, {\"credit_id\": \"54959905c3a3686ae3004324\", \"department\": \"Visual Effects\", \"gender\": 0, \"id\": 1401789, \"job\": \"Visual Effects Producer\", \"name\": \"Joyce Cox\"}, {\"credit_id\": \"5495994b92514132ed002951\", \"department\": \"Visual Effects\", \"gender\": 0, \"id\": 1401790, \"job\": \"Visual Effects Producer\", \"name\": \"Jenny Foster\"}, {\"credit_id\": \"549599cbc3a3686ae1004613\", \"department\": \"Crew\", \"gender\": 0, \"id\": 1401791, \"job\": \"Visual Effects Editor\", \"name\": \"Christopher Marino\"}, {\"credit_id\": \"549599f2c3a3686ae100461e\", \"department\": \"Crew\", \"gender\": 0, \"id\": 1401792, \"job\": \"Visual Effects Editor\", \"name\": \"Jim Milton\"}, {\"credit_id\": \"54959a51c3a3686af3003eb5\", \"department\": \"Visual Effects\", \"gender\": 0, \"id\": 1401793, \"job\": \"Visual Effects Producer\", \"name\": \"Cyndi Ochs\"}, {\"credit_id\": \"54959a7cc3a36811530026f4\", \"department\": \"Crew\", \"gender\": 0, \"id\": 1401794, \"job\": \"Visual Effects Editor\", \"name\": \"Lucas Putnam\"}, {\"credit_id\": \"54959b91c3a3680ff5002cb4\", \"department\": \"Visual Effects\", \"gender\": 0, \"id\": 1401795, \"job\": \"Visual Effects Supervisor\", \"name\": \"Anthony \\'Max\\' Ivins\"}, {\"credit_id\": \"54959bb69251412c4e002a5f\", \"department\": \"Visual Effects\", \"gender\": 0, \"id\": 1401796, \"job\": \"Visual Effects Supervisor\", \"name\": \"John Knoll\"}, {\"credit_id\": \"54959cbbc3a3686ae3004391\", \"department\": \"Visual Effects\", \"gender\": 2, \"id\": 1401799, \"job\": \"Visual Effects Supervisor\", \"name\": \"Eric Saindon\"}, {\"credit_id\": \"54959d06c3a3686ae90043f6\", \"department\": \"Visual Effects\", \"gender\": 0, \"id\": 1401800, \"job\": \"Visual Effects Supervisor\", \"name\": \"Wayne Stables\"}, {\"credit_id\": \"54959d259251416e1e003f11\", \"department\": \"Visual Effects\", \"gender\": 0, \"id\": 1401801, \"job\": \"Visual Effects Supervisor\", \"name\": \"David Stinnett\"}, {\"credit_id\": \"54959db49251413af7002975\", \"department\": \"Visual Effects\", \"gender\": 0, \"id\": 1401803, \"job\": \"Visual Effects Supervisor\", \"name\": \"Guy Williams\"}, {\"credit_id\": \"54959de4c3a3681153002750\", \"department\": \"Crew\", \"gender\": 0, \"id\": 1401804, \"job\": \"Stunt Coordinator\", \"name\": \"Stuart Thorp\"}, {\"credit_id\": \"54959ef2c3a3680fc60027f2\", \"department\": \"Lighting\", \"gender\": 0, \"id\": 1401805, \"job\": \"Best Boy Electric\", \"name\": \"Giles Coburn\"}, {\"credit_id\": \"54959f07c3a3680fc60027f9\", \"department\": \"Camera\", \"gender\": 2, \"id\": 1401806, \"job\": \"Still Photographer\", \"name\": \"Mark Fellman\"}, {\"credit_id\": \"54959f47c3a3681153002774\", \"department\": \"Lighting\", \"gender\": 0, \"id\": 1401807, \"job\": \"Lighting Technician\", \"name\": \"Scott Sprague\"}, {\"credit_id\": \"54959f8cc3a36831b8001df2\", \"department\": \"Visual Effects\", \"gender\": 0, \"id\": 1401808, \"job\": \"Animation Director\", \"name\": \"Jeremy Hollobon\"}, {\"credit_id\": \"54959fa0c3a36831b8001dfb\", \"department\": \"Visual Effects\", \"gender\": 0, \"id\": 1401809, \"job\": \"Animation Director\", \"name\": \"Orlando Meunier\"}, {\"credit_id\": \"54959fb6c3a3686af3003f54\", \"department\": \"Visual Effects\", \"gender\": 0, \"id\": 1401810, \"job\": \"Animation Director\", \"name\": \"Taisuke Tanimura\"}, {\"credit_id\": \"54959fd2c3a36831b8001e02\", \"department\": \"Costume & Make-Up\", \"gender\": 0, \"id\": 1401812, \"job\": \"Set Costumer\", \"name\": \"Lilia Mishel Acevedo\"}, {\"credit_id\": \"54959ff9c3a3686ae300440c\", \"department\": \"Costume & Make-Up\", \"gender\": 0, \"id\": 1401814, \"job\": \"Set Costumer\", \"name\": \"Alejandro M. Hernandez\"}, {\"credit_id\": \"5495a0ddc3a3686ae10046fe\", \"department\": \"Editing\", \"gender\": 0, \"id\": 1401815, \"job\": \"Digital Intermediate\", \"name\": \"Marvin Hall\"}, {\"credit_id\": \"5495a1f7c3a3686ae3004443\", \"department\": \"Production\", \"gender\": 0, \"id\": 1401816, \"job\": \"Publicist\", \"name\": \"Judy Alley\"}, {\"credit_id\": \"5592b29fc3a36869d100002f\", \"department\": \"Crew\", \"gender\": 0, \"id\": 1418381, \"job\": \"CG Supervisor\", \"name\": \"Mike Perry\"}, {\"credit_id\": \"5592b23a9251415df8001081\", \"department\": \"Crew\", \"gender\": 0, \"id\": 1426854, \"job\": \"CG Supervisor\", \"name\": \"Andrew Morley\"}, {\"credit_id\": \"55491e1192514104c40002d8\", \"department\": \"Art\", \"gender\": 0, \"id\": 1438901, \"job\": \"Conceptual Design\", \"name\": \"Seth Engstrom\"}, {\"credit_id\": \"5525d5809251417276002b06\", \"department\": \"Crew\", \"gender\": 0, \"id\": 1447362, \"job\": \"Visual Effects Art Director\", \"name\": \"Eric Oliver\"}, {\"credit_id\": \"554427ca925141586500312a\", \"department\": \"Visual Effects\", \"gender\": 0, \"id\": 1447503, \"job\": \"Modeling\", \"name\": \"Matsune Suzuki\"}, {\"credit_id\": \"551906889251415aab001c88\", \"department\": \"Art\", \"gender\": 0, \"id\": 1447524, \"job\": \"Art Department Manager\", \"name\": \"Paul Tobin\"}, {\"credit_id\": \"5592af8492514152cc0010de\", \"department\": \"Costume & Make-Up\", \"gender\": 0, \"id\": 1452643, \"job\": \"Hairstylist\", \"name\": \"Roxane Griffin\"}, {\"credit_id\": \"553d3c109251415852001318\", \"department\": \"Lighting\", \"gender\": 0, \"id\": 1453938, \"job\": \"Lighting Artist\", \"name\": \"Arun Ram-Mohan\"}, {\"credit_id\": \"5592af4692514152d5001355\", \"department\": \"Costume & Make-Up\", \"gender\": 0, \"id\": 1457305, \"job\": \"Makeup Artist\", \"name\": \"Georgia Lockhart-Adams\"}, {\"credit_id\": \"5592b2eac3a36877470012a5\", \"department\": \"Crew\", \"gender\": 0, \"id\": 1466035, \"job\": \"CG Supervisor\", \"name\": \"Thrain Shadbolt\"}, {\"credit_id\": \"5592b032c3a36877450015f1\", \"department\": \"Crew\", \"gender\": 0, \"id\": 1483220, \"job\": \"CG Supervisor\", \"name\": \"Brad Alexander\"}, {\"credit_id\": \"5592b05592514152d80012f6\", \"department\": \"Crew\", \"gender\": 0, \"id\": 1483221, \"job\": \"CG Supervisor\", \"name\": \"Shadi Almassizadeh\"}, {\"credit_id\": \"5592b090c3a36877570010b5\", \"department\": \"Crew\", \"gender\": 0, \"id\": 1483222, \"job\": \"CG Supervisor\", \"name\": \"Simon Clutterbuck\"}, {\"credit_id\": \"5592b0dbc3a368774b00112c\", \"department\": \"Crew\", \"gender\": 0, \"id\": 1483223, \"job\": \"CG Supervisor\", \"name\": \"Graeme Demmocks\"}, {\"credit_id\": \"5592b0fe92514152db0010c1\", \"department\": \"Crew\", \"gender\": 0, \"id\": 1483224, \"job\": \"CG Supervisor\", \"name\": \"Adrian Fernandes\"}, {\"credit_id\": \"5592b11f9251415df8001059\", \"department\": \"Crew\", \"gender\": 0, \"id\": 1483225, \"job\": \"CG Supervisor\", \"name\": \"Mitch Gates\"}, {\"credit_id\": \"5592b15dc3a3687745001645\", \"department\": \"Crew\", \"gender\": 0, \"id\": 1483226, \"job\": \"CG Supervisor\", \"name\": \"Jerry Kung\"}, {\"credit_id\": \"5592b18e925141645a0004ae\", \"department\": \"Crew\", \"gender\": 0, \"id\": 1483227, \"job\": \"CG Supervisor\", \"name\": \"Andy Lomas\"}, {\"credit_id\": \"5592b1bfc3a368775d0010e7\", \"department\": \"Crew\", \"gender\": 0, \"id\": 1483228, \"job\": \"CG Supervisor\", \"name\": \"Sebastian Marino\"}, {\"credit_id\": \"5592b2049251415df8001078\", \"department\": \"Crew\", \"gender\": 0, \"id\": 1483229, \"job\": \"CG Supervisor\", \"name\": \"Matthias Menz\"}, {\"credit_id\": \"5592b27b92514152d800136a\", \"department\": \"Crew\", \"gender\": 0, \"id\": 1483230, \"job\": \"CG Supervisor\", \"name\": \"Sergei Nevshupov\"}, {\"credit_id\": \"5592b2c3c3a36869e800003c\", \"department\": \"Crew\", \"gender\": 0, \"id\": 1483231, \"job\": \"CG Supervisor\", \"name\": \"Philippe Rebours\"}, {\"credit_id\": \"5592b317c3a36877470012af\", \"department\": \"Crew\", \"gender\": 0, \"id\": 1483232, \"job\": \"CG Supervisor\", \"name\": \"Michael Takarangi\"}, {\"credit_id\": \"5592b345c3a36877470012bb\", \"department\": \"Crew\", \"gender\": 0, \"id\": 1483233, \"job\": \"CG Supervisor\", \"name\": \"David Weitzberg\"}, {\"credit_id\": \"5592b37cc3a368775100113b\", \"department\": \"Crew\", \"gender\": 0, \"id\": 1483234, \"job\": \"CG Supervisor\", \"name\": \"Ben White\"}, {\"credit_id\": \"573c8e2f9251413f5d000094\", \"department\": \"Crew\", \"gender\": 1, \"id\": 1621932, \"job\": \"Stunts\", \"name\": \"Min Windle\"}]'],\n",
       "      dtype=object)"
      ]
     },
     "execution_count": 8,
     "metadata": {},
     "output_type": "execute_result"
    }
   ],
   "source": [
    "credits.head(1)['crew'].values"
   ]
  },
  {
   "cell_type": "code",
   "execution_count": 9,
   "metadata": {},
   "outputs": [],
   "source": [
    "movies = movies.merge(credits, on='title')"
   ]
  },
  {
   "cell_type": "code",
   "execution_count": 10,
   "metadata": {},
   "outputs": [
    {
     "data": {
      "text/html": [
       "<div>\n",
       "<style scoped>\n",
       "    .dataframe tbody tr th:only-of-type {\n",
       "        vertical-align: middle;\n",
       "    }\n",
       "\n",
       "    .dataframe tbody tr th {\n",
       "        vertical-align: top;\n",
       "    }\n",
       "\n",
       "    .dataframe thead th {\n",
       "        text-align: right;\n",
       "    }\n",
       "</style>\n",
       "<table border=\"1\" class=\"dataframe\">\n",
       "  <thead>\n",
       "    <tr style=\"text-align: right;\">\n",
       "      <th></th>\n",
       "      <th>budget</th>\n",
       "      <th>genres</th>\n",
       "      <th>homepage</th>\n",
       "      <th>id</th>\n",
       "      <th>keywords</th>\n",
       "      <th>original_language</th>\n",
       "      <th>original_title</th>\n",
       "      <th>overview</th>\n",
       "      <th>popularity</th>\n",
       "      <th>production_companies</th>\n",
       "      <th>...</th>\n",
       "      <th>runtime</th>\n",
       "      <th>spoken_languages</th>\n",
       "      <th>status</th>\n",
       "      <th>tagline</th>\n",
       "      <th>title</th>\n",
       "      <th>vote_average</th>\n",
       "      <th>vote_count</th>\n",
       "      <th>movie_id</th>\n",
       "      <th>cast</th>\n",
       "      <th>crew</th>\n",
       "    </tr>\n",
       "  </thead>\n",
       "  <tbody>\n",
       "    <tr>\n",
       "      <th>0</th>\n",
       "      <td>237000000</td>\n",
       "      <td>[{\"id\": 28, \"name\": \"Action\"}, {\"id\": 12, \"nam...</td>\n",
       "      <td>http://www.avatarmovie.com/</td>\n",
       "      <td>19995</td>\n",
       "      <td>[{\"id\": 1463, \"name\": \"culture clash\"}, {\"id\":...</td>\n",
       "      <td>en</td>\n",
       "      <td>Avatar</td>\n",
       "      <td>In the 22nd century, a paraplegic Marine is di...</td>\n",
       "      <td>150.437577</td>\n",
       "      <td>[{\"name\": \"Ingenious Film Partners\", \"id\": 289...</td>\n",
       "      <td>...</td>\n",
       "      <td>162.0</td>\n",
       "      <td>[{\"iso_639_1\": \"en\", \"name\": \"English\"}, {\"iso...</td>\n",
       "      <td>Released</td>\n",
       "      <td>Enter the World of Pandora.</td>\n",
       "      <td>Avatar</td>\n",
       "      <td>7.2</td>\n",
       "      <td>11800</td>\n",
       "      <td>19995</td>\n",
       "      <td>[{\"cast_id\": 242, \"character\": \"Jake Sully\", \"...</td>\n",
       "      <td>[{\"credit_id\": \"52fe48009251416c750aca23\", \"de...</td>\n",
       "    </tr>\n",
       "  </tbody>\n",
       "</table>\n",
       "<p>1 rows × 23 columns</p>\n",
       "</div>"
      ],
      "text/plain": [
       "      budget                                             genres  \\\n",
       "0  237000000  [{\"id\": 28, \"name\": \"Action\"}, {\"id\": 12, \"nam...   \n",
       "\n",
       "                      homepage     id  \\\n",
       "0  http://www.avatarmovie.com/  19995   \n",
       "\n",
       "                                            keywords original_language  \\\n",
       "0  [{\"id\": 1463, \"name\": \"culture clash\"}, {\"id\":...                en   \n",
       "\n",
       "  original_title                                           overview  \\\n",
       "0         Avatar  In the 22nd century, a paraplegic Marine is di...   \n",
       "\n",
       "   popularity                               production_companies  ... runtime  \\\n",
       "0  150.437577  [{\"name\": \"Ingenious Film Partners\", \"id\": 289...  ...   162.0   \n",
       "\n",
       "                                    spoken_languages    status  \\\n",
       "0  [{\"iso_639_1\": \"en\", \"name\": \"English\"}, {\"iso...  Released   \n",
       "\n",
       "                       tagline   title vote_average vote_count movie_id  \\\n",
       "0  Enter the World of Pandora.  Avatar          7.2      11800    19995   \n",
       "\n",
       "                                                cast  \\\n",
       "0  [{\"cast_id\": 242, \"character\": \"Jake Sully\", \"...   \n",
       "\n",
       "                                                crew  \n",
       "0  [{\"credit_id\": \"52fe48009251416c750aca23\", \"de...  \n",
       "\n",
       "[1 rows x 23 columns]"
      ]
     },
     "execution_count": 10,
     "metadata": {},
     "output_type": "execute_result"
    }
   ],
   "source": [
    "movies.head(1)"
   ]
  },
  {
   "cell_type": "code",
   "execution_count": 11,
   "metadata": {},
   "outputs": [],
   "source": [
    "# We are keeping only important columns which is necessary for Recommendation System\n",
    "movies = movies[['movie_id', 'title', 'overview', 'genres', 'keywords', 'cast', 'crew']]"
   ]
  },
  {
   "cell_type": "code",
   "execution_count": 12,
   "metadata": {},
   "outputs": [
    {
     "data": {
      "text/html": [
       "<div>\n",
       "<style scoped>\n",
       "    .dataframe tbody tr th:only-of-type {\n",
       "        vertical-align: middle;\n",
       "    }\n",
       "\n",
       "    .dataframe tbody tr th {\n",
       "        vertical-align: top;\n",
       "    }\n",
       "\n",
       "    .dataframe thead th {\n",
       "        text-align: right;\n",
       "    }\n",
       "</style>\n",
       "<table border=\"1\" class=\"dataframe\">\n",
       "  <thead>\n",
       "    <tr style=\"text-align: right;\">\n",
       "      <th></th>\n",
       "      <th>movie_id</th>\n",
       "      <th>title</th>\n",
       "      <th>overview</th>\n",
       "      <th>genres</th>\n",
       "      <th>keywords</th>\n",
       "      <th>cast</th>\n",
       "      <th>crew</th>\n",
       "    </tr>\n",
       "  </thead>\n",
       "  <tbody>\n",
       "    <tr>\n",
       "      <th>0</th>\n",
       "      <td>19995</td>\n",
       "      <td>Avatar</td>\n",
       "      <td>In the 22nd century, a paraplegic Marine is di...</td>\n",
       "      <td>[{\"id\": 28, \"name\": \"Action\"}, {\"id\": 12, \"nam...</td>\n",
       "      <td>[{\"id\": 1463, \"name\": \"culture clash\"}, {\"id\":...</td>\n",
       "      <td>[{\"cast_id\": 242, \"character\": \"Jake Sully\", \"...</td>\n",
       "      <td>[{\"credit_id\": \"52fe48009251416c750aca23\", \"de...</td>\n",
       "    </tr>\n",
       "    <tr>\n",
       "      <th>1</th>\n",
       "      <td>285</td>\n",
       "      <td>Pirates of the Caribbean: At World's End</td>\n",
       "      <td>Captain Barbossa, long believed to be dead, ha...</td>\n",
       "      <td>[{\"id\": 12, \"name\": \"Adventure\"}, {\"id\": 14, \"...</td>\n",
       "      <td>[{\"id\": 270, \"name\": \"ocean\"}, {\"id\": 726, \"na...</td>\n",
       "      <td>[{\"cast_id\": 4, \"character\": \"Captain Jack Spa...</td>\n",
       "      <td>[{\"credit_id\": \"52fe4232c3a36847f800b579\", \"de...</td>\n",
       "    </tr>\n",
       "    <tr>\n",
       "      <th>2</th>\n",
       "      <td>206647</td>\n",
       "      <td>Spectre</td>\n",
       "      <td>A cryptic message from Bond’s past sends him o...</td>\n",
       "      <td>[{\"id\": 28, \"name\": \"Action\"}, {\"id\": 12, \"nam...</td>\n",
       "      <td>[{\"id\": 470, \"name\": \"spy\"}, {\"id\": 818, \"name...</td>\n",
       "      <td>[{\"cast_id\": 1, \"character\": \"James Bond\", \"cr...</td>\n",
       "      <td>[{\"credit_id\": \"54805967c3a36829b5002c41\", \"de...</td>\n",
       "    </tr>\n",
       "    <tr>\n",
       "      <th>3</th>\n",
       "      <td>49026</td>\n",
       "      <td>The Dark Knight Rises</td>\n",
       "      <td>Following the death of District Attorney Harve...</td>\n",
       "      <td>[{\"id\": 28, \"name\": \"Action\"}, {\"id\": 80, \"nam...</td>\n",
       "      <td>[{\"id\": 849, \"name\": \"dc comics\"}, {\"id\": 853,...</td>\n",
       "      <td>[{\"cast_id\": 2, \"character\": \"Bruce Wayne / Ba...</td>\n",
       "      <td>[{\"credit_id\": \"52fe4781c3a36847f81398c3\", \"de...</td>\n",
       "    </tr>\n",
       "    <tr>\n",
       "      <th>4</th>\n",
       "      <td>49529</td>\n",
       "      <td>John Carter</td>\n",
       "      <td>John Carter is a war-weary, former military ca...</td>\n",
       "      <td>[{\"id\": 28, \"name\": \"Action\"}, {\"id\": 12, \"nam...</td>\n",
       "      <td>[{\"id\": 818, \"name\": \"based on novel\"}, {\"id\":...</td>\n",
       "      <td>[{\"cast_id\": 5, \"character\": \"John Carter\", \"c...</td>\n",
       "      <td>[{\"credit_id\": \"52fe479ac3a36847f813eaa3\", \"de...</td>\n",
       "    </tr>\n",
       "  </tbody>\n",
       "</table>\n",
       "</div>"
      ],
      "text/plain": [
       "   movie_id                                     title  \\\n",
       "0     19995                                    Avatar   \n",
       "1       285  Pirates of the Caribbean: At World's End   \n",
       "2    206647                                   Spectre   \n",
       "3     49026                     The Dark Knight Rises   \n",
       "4     49529                               John Carter   \n",
       "\n",
       "                                            overview  \\\n",
       "0  In the 22nd century, a paraplegic Marine is di...   \n",
       "1  Captain Barbossa, long believed to be dead, ha...   \n",
       "2  A cryptic message from Bond’s past sends him o...   \n",
       "3  Following the death of District Attorney Harve...   \n",
       "4  John Carter is a war-weary, former military ca...   \n",
       "\n",
       "                                              genres  \\\n",
       "0  [{\"id\": 28, \"name\": \"Action\"}, {\"id\": 12, \"nam...   \n",
       "1  [{\"id\": 12, \"name\": \"Adventure\"}, {\"id\": 14, \"...   \n",
       "2  [{\"id\": 28, \"name\": \"Action\"}, {\"id\": 12, \"nam...   \n",
       "3  [{\"id\": 28, \"name\": \"Action\"}, {\"id\": 80, \"nam...   \n",
       "4  [{\"id\": 28, \"name\": \"Action\"}, {\"id\": 12, \"nam...   \n",
       "\n",
       "                                            keywords  \\\n",
       "0  [{\"id\": 1463, \"name\": \"culture clash\"}, {\"id\":...   \n",
       "1  [{\"id\": 270, \"name\": \"ocean\"}, {\"id\": 726, \"na...   \n",
       "2  [{\"id\": 470, \"name\": \"spy\"}, {\"id\": 818, \"name...   \n",
       "3  [{\"id\": 849, \"name\": \"dc comics\"}, {\"id\": 853,...   \n",
       "4  [{\"id\": 818, \"name\": \"based on novel\"}, {\"id\":...   \n",
       "\n",
       "                                                cast  \\\n",
       "0  [{\"cast_id\": 242, \"character\": \"Jake Sully\", \"...   \n",
       "1  [{\"cast_id\": 4, \"character\": \"Captain Jack Spa...   \n",
       "2  [{\"cast_id\": 1, \"character\": \"James Bond\", \"cr...   \n",
       "3  [{\"cast_id\": 2, \"character\": \"Bruce Wayne / Ba...   \n",
       "4  [{\"cast_id\": 5, \"character\": \"John Carter\", \"c...   \n",
       "\n",
       "                                                crew  \n",
       "0  [{\"credit_id\": \"52fe48009251416c750aca23\", \"de...  \n",
       "1  [{\"credit_id\": \"52fe4232c3a36847f800b579\", \"de...  \n",
       "2  [{\"credit_id\": \"54805967c3a36829b5002c41\", \"de...  \n",
       "3  [{\"credit_id\": \"52fe4781c3a36847f81398c3\", \"de...  \n",
       "4  [{\"credit_id\": \"52fe479ac3a36847f813eaa3\", \"de...  "
      ]
     },
     "execution_count": 12,
     "metadata": {},
     "output_type": "execute_result"
    }
   ],
   "source": [
    "movies.head()"
   ]
  },
  {
   "cell_type": "code",
   "execution_count": 13,
   "metadata": {},
   "outputs": [
    {
     "data": {
      "text/plain": [
       "movie_id    0\n",
       "title       0\n",
       "overview    3\n",
       "genres      0\n",
       "keywords    0\n",
       "cast        0\n",
       "crew        0\n",
       "dtype: int64"
      ]
     },
     "execution_count": 13,
     "metadata": {},
     "output_type": "execute_result"
    }
   ],
   "source": [
    "movies.isnull().sum()"
   ]
  },
  {
   "cell_type": "code",
   "execution_count": 14,
   "metadata": {},
   "outputs": [],
   "source": [
    "movies.dropna(inplace=True)"
   ]
  },
  {
   "cell_type": "code",
   "execution_count": 15,
   "metadata": {},
   "outputs": [
    {
     "data": {
      "text/plain": [
       "np.int64(0)"
      ]
     },
     "execution_count": 15,
     "metadata": {},
     "output_type": "execute_result"
    }
   ],
   "source": [
    "movies.duplicated().sum()"
   ]
  },
  {
   "cell_type": "code",
   "execution_count": 16,
   "metadata": {},
   "outputs": [
    {
     "data": {
      "text/plain": [
       "'[{\"id\": 28, \"name\": \"Action\"}, {\"id\": 12, \"name\": \"Adventure\"}, {\"id\": 14, \"name\": \"Fantasy\"}, {\"id\": 878, \"name\": \"Science Fiction\"}]'"
      ]
     },
     "execution_count": 16,
     "metadata": {},
     "output_type": "execute_result"
    }
   ],
   "source": [
    "movies.iloc[0].genres"
   ]
  },
  {
   "cell_type": "code",
   "execution_count": 17,
   "metadata": {},
   "outputs": [],
   "source": [
    "import ast #Lib which directly converts string of list into list.\n",
    "\n",
    "def convert(obj):\n",
    "    \"\"\"Takes String as input, returns list of genres.\"\"\"\n",
    "    L = []\n",
    "    for i in ast.literal_eval(obj):\n",
    "        L.append(i['name'])\n",
    "    \n",
    "    return L"
   ]
  },
  {
   "cell_type": "code",
   "execution_count": 18,
   "metadata": {},
   "outputs": [
    {
     "data": {
      "text/plain": [
       "['Action', 'Adventure', 'Fantasy', 'Science Fiction']"
      ]
     },
     "execution_count": 18,
     "metadata": {},
     "output_type": "execute_result"
    }
   ],
   "source": [
    "convert('[{\"id\": 28, \"name\": \"Action\"}, {\"id\": 12, \"name\": \"Adventure\"}, {\"id\": 14, \"name\": \"Fantasy\"}, {\"id\": 878, \"name\": \"Science Fiction\"}]')"
   ]
  },
  {
   "cell_type": "code",
   "execution_count": 19,
   "metadata": {},
   "outputs": [],
   "source": [
    "movies['genres'] = movies['genres'].apply(convert)"
   ]
  },
  {
   "cell_type": "code",
   "execution_count": 20,
   "metadata": {},
   "outputs": [
    {
     "data": {
      "text/html": [
       "<div>\n",
       "<style scoped>\n",
       "    .dataframe tbody tr th:only-of-type {\n",
       "        vertical-align: middle;\n",
       "    }\n",
       "\n",
       "    .dataframe tbody tr th {\n",
       "        vertical-align: top;\n",
       "    }\n",
       "\n",
       "    .dataframe thead th {\n",
       "        text-align: right;\n",
       "    }\n",
       "</style>\n",
       "<table border=\"1\" class=\"dataframe\">\n",
       "  <thead>\n",
       "    <tr style=\"text-align: right;\">\n",
       "      <th></th>\n",
       "      <th>movie_id</th>\n",
       "      <th>title</th>\n",
       "      <th>overview</th>\n",
       "      <th>genres</th>\n",
       "      <th>keywords</th>\n",
       "      <th>cast</th>\n",
       "      <th>crew</th>\n",
       "    </tr>\n",
       "  </thead>\n",
       "  <tbody>\n",
       "    <tr>\n",
       "      <th>0</th>\n",
       "      <td>19995</td>\n",
       "      <td>Avatar</td>\n",
       "      <td>In the 22nd century, a paraplegic Marine is di...</td>\n",
       "      <td>[Action, Adventure, Fantasy, Science Fiction]</td>\n",
       "      <td>[{\"id\": 1463, \"name\": \"culture clash\"}, {\"id\":...</td>\n",
       "      <td>[{\"cast_id\": 242, \"character\": \"Jake Sully\", \"...</td>\n",
       "      <td>[{\"credit_id\": \"52fe48009251416c750aca23\", \"de...</td>\n",
       "    </tr>\n",
       "    <tr>\n",
       "      <th>1</th>\n",
       "      <td>285</td>\n",
       "      <td>Pirates of the Caribbean: At World's End</td>\n",
       "      <td>Captain Barbossa, long believed to be dead, ha...</td>\n",
       "      <td>[Adventure, Fantasy, Action]</td>\n",
       "      <td>[{\"id\": 270, \"name\": \"ocean\"}, {\"id\": 726, \"na...</td>\n",
       "      <td>[{\"cast_id\": 4, \"character\": \"Captain Jack Spa...</td>\n",
       "      <td>[{\"credit_id\": \"52fe4232c3a36847f800b579\", \"de...</td>\n",
       "    </tr>\n",
       "    <tr>\n",
       "      <th>2</th>\n",
       "      <td>206647</td>\n",
       "      <td>Spectre</td>\n",
       "      <td>A cryptic message from Bond’s past sends him o...</td>\n",
       "      <td>[Action, Adventure, Crime]</td>\n",
       "      <td>[{\"id\": 470, \"name\": \"spy\"}, {\"id\": 818, \"name...</td>\n",
       "      <td>[{\"cast_id\": 1, \"character\": \"James Bond\", \"cr...</td>\n",
       "      <td>[{\"credit_id\": \"54805967c3a36829b5002c41\", \"de...</td>\n",
       "    </tr>\n",
       "    <tr>\n",
       "      <th>3</th>\n",
       "      <td>49026</td>\n",
       "      <td>The Dark Knight Rises</td>\n",
       "      <td>Following the death of District Attorney Harve...</td>\n",
       "      <td>[Action, Crime, Drama, Thriller]</td>\n",
       "      <td>[{\"id\": 849, \"name\": \"dc comics\"}, {\"id\": 853,...</td>\n",
       "      <td>[{\"cast_id\": 2, \"character\": \"Bruce Wayne / Ba...</td>\n",
       "      <td>[{\"credit_id\": \"52fe4781c3a36847f81398c3\", \"de...</td>\n",
       "    </tr>\n",
       "    <tr>\n",
       "      <th>4</th>\n",
       "      <td>49529</td>\n",
       "      <td>John Carter</td>\n",
       "      <td>John Carter is a war-weary, former military ca...</td>\n",
       "      <td>[Action, Adventure, Science Fiction]</td>\n",
       "      <td>[{\"id\": 818, \"name\": \"based on novel\"}, {\"id\":...</td>\n",
       "      <td>[{\"cast_id\": 5, \"character\": \"John Carter\", \"c...</td>\n",
       "      <td>[{\"credit_id\": \"52fe479ac3a36847f813eaa3\", \"de...</td>\n",
       "    </tr>\n",
       "  </tbody>\n",
       "</table>\n",
       "</div>"
      ],
      "text/plain": [
       "   movie_id                                     title  \\\n",
       "0     19995                                    Avatar   \n",
       "1       285  Pirates of the Caribbean: At World's End   \n",
       "2    206647                                   Spectre   \n",
       "3     49026                     The Dark Knight Rises   \n",
       "4     49529                               John Carter   \n",
       "\n",
       "                                            overview  \\\n",
       "0  In the 22nd century, a paraplegic Marine is di...   \n",
       "1  Captain Barbossa, long believed to be dead, ha...   \n",
       "2  A cryptic message from Bond’s past sends him o...   \n",
       "3  Following the death of District Attorney Harve...   \n",
       "4  John Carter is a war-weary, former military ca...   \n",
       "\n",
       "                                          genres  \\\n",
       "0  [Action, Adventure, Fantasy, Science Fiction]   \n",
       "1                   [Adventure, Fantasy, Action]   \n",
       "2                     [Action, Adventure, Crime]   \n",
       "3               [Action, Crime, Drama, Thriller]   \n",
       "4           [Action, Adventure, Science Fiction]   \n",
       "\n",
       "                                            keywords  \\\n",
       "0  [{\"id\": 1463, \"name\": \"culture clash\"}, {\"id\":...   \n",
       "1  [{\"id\": 270, \"name\": \"ocean\"}, {\"id\": 726, \"na...   \n",
       "2  [{\"id\": 470, \"name\": \"spy\"}, {\"id\": 818, \"name...   \n",
       "3  [{\"id\": 849, \"name\": \"dc comics\"}, {\"id\": 853,...   \n",
       "4  [{\"id\": 818, \"name\": \"based on novel\"}, {\"id\":...   \n",
       "\n",
       "                                                cast  \\\n",
       "0  [{\"cast_id\": 242, \"character\": \"Jake Sully\", \"...   \n",
       "1  [{\"cast_id\": 4, \"character\": \"Captain Jack Spa...   \n",
       "2  [{\"cast_id\": 1, \"character\": \"James Bond\", \"cr...   \n",
       "3  [{\"cast_id\": 2, \"character\": \"Bruce Wayne / Ba...   \n",
       "4  [{\"cast_id\": 5, \"character\": \"John Carter\", \"c...   \n",
       "\n",
       "                                                crew  \n",
       "0  [{\"credit_id\": \"52fe48009251416c750aca23\", \"de...  \n",
       "1  [{\"credit_id\": \"52fe4232c3a36847f800b579\", \"de...  \n",
       "2  [{\"credit_id\": \"54805967c3a36829b5002c41\", \"de...  \n",
       "3  [{\"credit_id\": \"52fe4781c3a36847f81398c3\", \"de...  \n",
       "4  [{\"credit_id\": \"52fe479ac3a36847f813eaa3\", \"de...  "
      ]
     },
     "execution_count": 20,
     "metadata": {},
     "output_type": "execute_result"
    }
   ],
   "source": [
    "movies.head()"
   ]
  },
  {
   "cell_type": "code",
   "execution_count": 21,
   "metadata": {},
   "outputs": [],
   "source": [
    "movies['keywords'] = movies['keywords'].apply(convert)\n",
    "movies['cast'] = movies['cast'].apply(convert)"
   ]
  },
  {
   "cell_type": "code",
   "execution_count": 22,
   "metadata": {},
   "outputs": [
    {
     "data": {
      "text/html": [
       "<div>\n",
       "<style scoped>\n",
       "    .dataframe tbody tr th:only-of-type {\n",
       "        vertical-align: middle;\n",
       "    }\n",
       "\n",
       "    .dataframe tbody tr th {\n",
       "        vertical-align: top;\n",
       "    }\n",
       "\n",
       "    .dataframe thead th {\n",
       "        text-align: right;\n",
       "    }\n",
       "</style>\n",
       "<table border=\"1\" class=\"dataframe\">\n",
       "  <thead>\n",
       "    <tr style=\"text-align: right;\">\n",
       "      <th></th>\n",
       "      <th>movie_id</th>\n",
       "      <th>title</th>\n",
       "      <th>overview</th>\n",
       "      <th>genres</th>\n",
       "      <th>keywords</th>\n",
       "      <th>cast</th>\n",
       "      <th>crew</th>\n",
       "    </tr>\n",
       "  </thead>\n",
       "  <tbody>\n",
       "    <tr>\n",
       "      <th>0</th>\n",
       "      <td>19995</td>\n",
       "      <td>Avatar</td>\n",
       "      <td>In the 22nd century, a paraplegic Marine is di...</td>\n",
       "      <td>[Action, Adventure, Fantasy, Science Fiction]</td>\n",
       "      <td>[culture clash, future, space war, space colon...</td>\n",
       "      <td>[Sam Worthington, Zoe Saldana, Sigourney Weave...</td>\n",
       "      <td>[{\"credit_id\": \"52fe48009251416c750aca23\", \"de...</td>\n",
       "    </tr>\n",
       "    <tr>\n",
       "      <th>1</th>\n",
       "      <td>285</td>\n",
       "      <td>Pirates of the Caribbean: At World's End</td>\n",
       "      <td>Captain Barbossa, long believed to be dead, ha...</td>\n",
       "      <td>[Adventure, Fantasy, Action]</td>\n",
       "      <td>[ocean, drug abuse, exotic island, east india ...</td>\n",
       "      <td>[Johnny Depp, Orlando Bloom, Keira Knightley, ...</td>\n",
       "      <td>[{\"credit_id\": \"52fe4232c3a36847f800b579\", \"de...</td>\n",
       "    </tr>\n",
       "    <tr>\n",
       "      <th>2</th>\n",
       "      <td>206647</td>\n",
       "      <td>Spectre</td>\n",
       "      <td>A cryptic message from Bond’s past sends him o...</td>\n",
       "      <td>[Action, Adventure, Crime]</td>\n",
       "      <td>[spy, based on novel, secret agent, sequel, mi...</td>\n",
       "      <td>[Daniel Craig, Christoph Waltz, Léa Seydoux, R...</td>\n",
       "      <td>[{\"credit_id\": \"54805967c3a36829b5002c41\", \"de...</td>\n",
       "    </tr>\n",
       "    <tr>\n",
       "      <th>3</th>\n",
       "      <td>49026</td>\n",
       "      <td>The Dark Knight Rises</td>\n",
       "      <td>Following the death of District Attorney Harve...</td>\n",
       "      <td>[Action, Crime, Drama, Thriller]</td>\n",
       "      <td>[dc comics, crime fighter, terrorist, secret i...</td>\n",
       "      <td>[Christian Bale, Michael Caine, Gary Oldman, A...</td>\n",
       "      <td>[{\"credit_id\": \"52fe4781c3a36847f81398c3\", \"de...</td>\n",
       "    </tr>\n",
       "    <tr>\n",
       "      <th>4</th>\n",
       "      <td>49529</td>\n",
       "      <td>John Carter</td>\n",
       "      <td>John Carter is a war-weary, former military ca...</td>\n",
       "      <td>[Action, Adventure, Science Fiction]</td>\n",
       "      <td>[based on novel, mars, medallion, space travel...</td>\n",
       "      <td>[Taylor Kitsch, Lynn Collins, Samantha Morton,...</td>\n",
       "      <td>[{\"credit_id\": \"52fe479ac3a36847f813eaa3\", \"de...</td>\n",
       "    </tr>\n",
       "  </tbody>\n",
       "</table>\n",
       "</div>"
      ],
      "text/plain": [
       "   movie_id                                     title  \\\n",
       "0     19995                                    Avatar   \n",
       "1       285  Pirates of the Caribbean: At World's End   \n",
       "2    206647                                   Spectre   \n",
       "3     49026                     The Dark Knight Rises   \n",
       "4     49529                               John Carter   \n",
       "\n",
       "                                            overview  \\\n",
       "0  In the 22nd century, a paraplegic Marine is di...   \n",
       "1  Captain Barbossa, long believed to be dead, ha...   \n",
       "2  A cryptic message from Bond’s past sends him o...   \n",
       "3  Following the death of District Attorney Harve...   \n",
       "4  John Carter is a war-weary, former military ca...   \n",
       "\n",
       "                                          genres  \\\n",
       "0  [Action, Adventure, Fantasy, Science Fiction]   \n",
       "1                   [Adventure, Fantasy, Action]   \n",
       "2                     [Action, Adventure, Crime]   \n",
       "3               [Action, Crime, Drama, Thriller]   \n",
       "4           [Action, Adventure, Science Fiction]   \n",
       "\n",
       "                                            keywords  \\\n",
       "0  [culture clash, future, space war, space colon...   \n",
       "1  [ocean, drug abuse, exotic island, east india ...   \n",
       "2  [spy, based on novel, secret agent, sequel, mi...   \n",
       "3  [dc comics, crime fighter, terrorist, secret i...   \n",
       "4  [based on novel, mars, medallion, space travel...   \n",
       "\n",
       "                                                cast  \\\n",
       "0  [Sam Worthington, Zoe Saldana, Sigourney Weave...   \n",
       "1  [Johnny Depp, Orlando Bloom, Keira Knightley, ...   \n",
       "2  [Daniel Craig, Christoph Waltz, Léa Seydoux, R...   \n",
       "3  [Christian Bale, Michael Caine, Gary Oldman, A...   \n",
       "4  [Taylor Kitsch, Lynn Collins, Samantha Morton,...   \n",
       "\n",
       "                                                crew  \n",
       "0  [{\"credit_id\": \"52fe48009251416c750aca23\", \"de...  \n",
       "1  [{\"credit_id\": \"52fe4232c3a36847f800b579\", \"de...  \n",
       "2  [{\"credit_id\": \"54805967c3a36829b5002c41\", \"de...  \n",
       "3  [{\"credit_id\": \"52fe4781c3a36847f81398c3\", \"de...  \n",
       "4  [{\"credit_id\": \"52fe479ac3a36847f813eaa3\", \"de...  "
      ]
     },
     "execution_count": 22,
     "metadata": {},
     "output_type": "execute_result"
    }
   ],
   "source": [
    "movies.head()"
   ]
  },
  {
   "cell_type": "code",
   "execution_count": 23,
   "metadata": {},
   "outputs": [],
   "source": [
    "def convert3(list):\n",
    "    \"\"\"Takes String as input, returns list of genres.\"\"\"\n",
    "    L = []\n",
    "    count = 0\n",
    "    for i in list:\n",
    "        if count != 3:\n",
    "            L.append(i)\n",
    "            count += 1\n",
    "        else:\n",
    "            break\n",
    "    \n",
    "    return L"
   ]
  },
  {
   "cell_type": "code",
   "execution_count": 24,
   "metadata": {},
   "outputs": [],
   "source": [
    "movies['cast'] = movies['cast'].apply(convert3)"
   ]
  },
  {
   "cell_type": "code",
   "execution_count": 25,
   "metadata": {},
   "outputs": [],
   "source": [
    "def fetch_director(obj):\n",
    "    L = []\n",
    "    for i in ast.literal_eval(obj):\n",
    "        if i['job'] == 'Director':\n",
    "            L.append(i['name'])\n",
    "            break\n",
    "    return L"
   ]
  },
  {
   "cell_type": "code",
   "execution_count": 26,
   "metadata": {},
   "outputs": [],
   "source": [
    "movies['crew'] = movies['crew'].apply(fetch_director)"
   ]
  },
  {
   "cell_type": "code",
   "execution_count": 27,
   "metadata": {},
   "outputs": [
    {
     "data": {
      "text/html": [
       "<div>\n",
       "<style scoped>\n",
       "    .dataframe tbody tr th:only-of-type {\n",
       "        vertical-align: middle;\n",
       "    }\n",
       "\n",
       "    .dataframe tbody tr th {\n",
       "        vertical-align: top;\n",
       "    }\n",
       "\n",
       "    .dataframe thead th {\n",
       "        text-align: right;\n",
       "    }\n",
       "</style>\n",
       "<table border=\"1\" class=\"dataframe\">\n",
       "  <thead>\n",
       "    <tr style=\"text-align: right;\">\n",
       "      <th></th>\n",
       "      <th>movie_id</th>\n",
       "      <th>title</th>\n",
       "      <th>overview</th>\n",
       "      <th>genres</th>\n",
       "      <th>keywords</th>\n",
       "      <th>cast</th>\n",
       "      <th>crew</th>\n",
       "    </tr>\n",
       "  </thead>\n",
       "  <tbody>\n",
       "    <tr>\n",
       "      <th>0</th>\n",
       "      <td>19995</td>\n",
       "      <td>Avatar</td>\n",
       "      <td>In the 22nd century, a paraplegic Marine is di...</td>\n",
       "      <td>[Action, Adventure, Fantasy, Science Fiction]</td>\n",
       "      <td>[culture clash, future, space war, space colon...</td>\n",
       "      <td>[Sam Worthington, Zoe Saldana, Sigourney Weaver]</td>\n",
       "      <td>[James Cameron]</td>\n",
       "    </tr>\n",
       "    <tr>\n",
       "      <th>1</th>\n",
       "      <td>285</td>\n",
       "      <td>Pirates of the Caribbean: At World's End</td>\n",
       "      <td>Captain Barbossa, long believed to be dead, ha...</td>\n",
       "      <td>[Adventure, Fantasy, Action]</td>\n",
       "      <td>[ocean, drug abuse, exotic island, east india ...</td>\n",
       "      <td>[Johnny Depp, Orlando Bloom, Keira Knightley]</td>\n",
       "      <td>[Gore Verbinski]</td>\n",
       "    </tr>\n",
       "    <tr>\n",
       "      <th>2</th>\n",
       "      <td>206647</td>\n",
       "      <td>Spectre</td>\n",
       "      <td>A cryptic message from Bond’s past sends him o...</td>\n",
       "      <td>[Action, Adventure, Crime]</td>\n",
       "      <td>[spy, based on novel, secret agent, sequel, mi...</td>\n",
       "      <td>[Daniel Craig, Christoph Waltz, Léa Seydoux]</td>\n",
       "      <td>[Sam Mendes]</td>\n",
       "    </tr>\n",
       "    <tr>\n",
       "      <th>3</th>\n",
       "      <td>49026</td>\n",
       "      <td>The Dark Knight Rises</td>\n",
       "      <td>Following the death of District Attorney Harve...</td>\n",
       "      <td>[Action, Crime, Drama, Thriller]</td>\n",
       "      <td>[dc comics, crime fighter, terrorist, secret i...</td>\n",
       "      <td>[Christian Bale, Michael Caine, Gary Oldman]</td>\n",
       "      <td>[Christopher Nolan]</td>\n",
       "    </tr>\n",
       "    <tr>\n",
       "      <th>4</th>\n",
       "      <td>49529</td>\n",
       "      <td>John Carter</td>\n",
       "      <td>John Carter is a war-weary, former military ca...</td>\n",
       "      <td>[Action, Adventure, Science Fiction]</td>\n",
       "      <td>[based on novel, mars, medallion, space travel...</td>\n",
       "      <td>[Taylor Kitsch, Lynn Collins, Samantha Morton]</td>\n",
       "      <td>[Andrew Stanton]</td>\n",
       "    </tr>\n",
       "  </tbody>\n",
       "</table>\n",
       "</div>"
      ],
      "text/plain": [
       "   movie_id                                     title  \\\n",
       "0     19995                                    Avatar   \n",
       "1       285  Pirates of the Caribbean: At World's End   \n",
       "2    206647                                   Spectre   \n",
       "3     49026                     The Dark Knight Rises   \n",
       "4     49529                               John Carter   \n",
       "\n",
       "                                            overview  \\\n",
       "0  In the 22nd century, a paraplegic Marine is di...   \n",
       "1  Captain Barbossa, long believed to be dead, ha...   \n",
       "2  A cryptic message from Bond’s past sends him o...   \n",
       "3  Following the death of District Attorney Harve...   \n",
       "4  John Carter is a war-weary, former military ca...   \n",
       "\n",
       "                                          genres  \\\n",
       "0  [Action, Adventure, Fantasy, Science Fiction]   \n",
       "1                   [Adventure, Fantasy, Action]   \n",
       "2                     [Action, Adventure, Crime]   \n",
       "3               [Action, Crime, Drama, Thriller]   \n",
       "4           [Action, Adventure, Science Fiction]   \n",
       "\n",
       "                                            keywords  \\\n",
       "0  [culture clash, future, space war, space colon...   \n",
       "1  [ocean, drug abuse, exotic island, east india ...   \n",
       "2  [spy, based on novel, secret agent, sequel, mi...   \n",
       "3  [dc comics, crime fighter, terrorist, secret i...   \n",
       "4  [based on novel, mars, medallion, space travel...   \n",
       "\n",
       "                                               cast                 crew  \n",
       "0  [Sam Worthington, Zoe Saldana, Sigourney Weaver]      [James Cameron]  \n",
       "1     [Johnny Depp, Orlando Bloom, Keira Knightley]     [Gore Verbinski]  \n",
       "2      [Daniel Craig, Christoph Waltz, Léa Seydoux]         [Sam Mendes]  \n",
       "3      [Christian Bale, Michael Caine, Gary Oldman]  [Christopher Nolan]  \n",
       "4    [Taylor Kitsch, Lynn Collins, Samantha Morton]     [Andrew Stanton]  "
      ]
     },
     "execution_count": 27,
     "metadata": {},
     "output_type": "execute_result"
    }
   ],
   "source": [
    "movies.head()"
   ]
  },
  {
   "cell_type": "code",
   "execution_count": 28,
   "metadata": {},
   "outputs": [
    {
     "data": {
      "text/plain": [
       "'In the 22nd century, a paraplegic Marine is dispatched to the moon Pandora on a unique mission, but becomes torn between following orders and protecting an alien civilization.'"
      ]
     },
     "execution_count": 28,
     "metadata": {},
     "output_type": "execute_result"
    }
   ],
   "source": [
    "movies['overview'][0]"
   ]
  },
  {
   "cell_type": "code",
   "execution_count": 29,
   "metadata": {},
   "outputs": [],
   "source": [
    "movies['overview'] = movies['overview'].apply(lambda x: x.split())"
   ]
  },
  {
   "cell_type": "code",
   "execution_count": 30,
   "metadata": {},
   "outputs": [
    {
     "data": {
      "text/html": [
       "<div>\n",
       "<style scoped>\n",
       "    .dataframe tbody tr th:only-of-type {\n",
       "        vertical-align: middle;\n",
       "    }\n",
       "\n",
       "    .dataframe tbody tr th {\n",
       "        vertical-align: top;\n",
       "    }\n",
       "\n",
       "    .dataframe thead th {\n",
       "        text-align: right;\n",
       "    }\n",
       "</style>\n",
       "<table border=\"1\" class=\"dataframe\">\n",
       "  <thead>\n",
       "    <tr style=\"text-align: right;\">\n",
       "      <th></th>\n",
       "      <th>movie_id</th>\n",
       "      <th>title</th>\n",
       "      <th>overview</th>\n",
       "      <th>genres</th>\n",
       "      <th>keywords</th>\n",
       "      <th>cast</th>\n",
       "      <th>crew</th>\n",
       "    </tr>\n",
       "  </thead>\n",
       "  <tbody>\n",
       "    <tr>\n",
       "      <th>0</th>\n",
       "      <td>19995</td>\n",
       "      <td>Avatar</td>\n",
       "      <td>[In, the, 22nd, century,, a, paraplegic, Marin...</td>\n",
       "      <td>[Action, Adventure, Fantasy, Science Fiction]</td>\n",
       "      <td>[culture clash, future, space war, space colon...</td>\n",
       "      <td>[Sam Worthington, Zoe Saldana, Sigourney Weaver]</td>\n",
       "      <td>[James Cameron]</td>\n",
       "    </tr>\n",
       "    <tr>\n",
       "      <th>1</th>\n",
       "      <td>285</td>\n",
       "      <td>Pirates of the Caribbean: At World's End</td>\n",
       "      <td>[Captain, Barbossa,, long, believed, to, be, d...</td>\n",
       "      <td>[Adventure, Fantasy, Action]</td>\n",
       "      <td>[ocean, drug abuse, exotic island, east india ...</td>\n",
       "      <td>[Johnny Depp, Orlando Bloom, Keira Knightley]</td>\n",
       "      <td>[Gore Verbinski]</td>\n",
       "    </tr>\n",
       "    <tr>\n",
       "      <th>2</th>\n",
       "      <td>206647</td>\n",
       "      <td>Spectre</td>\n",
       "      <td>[A, cryptic, message, from, Bond’s, past, send...</td>\n",
       "      <td>[Action, Adventure, Crime]</td>\n",
       "      <td>[spy, based on novel, secret agent, sequel, mi...</td>\n",
       "      <td>[Daniel Craig, Christoph Waltz, Léa Seydoux]</td>\n",
       "      <td>[Sam Mendes]</td>\n",
       "    </tr>\n",
       "    <tr>\n",
       "      <th>3</th>\n",
       "      <td>49026</td>\n",
       "      <td>The Dark Knight Rises</td>\n",
       "      <td>[Following, the, death, of, District, Attorney...</td>\n",
       "      <td>[Action, Crime, Drama, Thriller]</td>\n",
       "      <td>[dc comics, crime fighter, terrorist, secret i...</td>\n",
       "      <td>[Christian Bale, Michael Caine, Gary Oldman]</td>\n",
       "      <td>[Christopher Nolan]</td>\n",
       "    </tr>\n",
       "    <tr>\n",
       "      <th>4</th>\n",
       "      <td>49529</td>\n",
       "      <td>John Carter</td>\n",
       "      <td>[John, Carter, is, a, war-weary,, former, mili...</td>\n",
       "      <td>[Action, Adventure, Science Fiction]</td>\n",
       "      <td>[based on novel, mars, medallion, space travel...</td>\n",
       "      <td>[Taylor Kitsch, Lynn Collins, Samantha Morton]</td>\n",
       "      <td>[Andrew Stanton]</td>\n",
       "    </tr>\n",
       "  </tbody>\n",
       "</table>\n",
       "</div>"
      ],
      "text/plain": [
       "   movie_id                                     title  \\\n",
       "0     19995                                    Avatar   \n",
       "1       285  Pirates of the Caribbean: At World's End   \n",
       "2    206647                                   Spectre   \n",
       "3     49026                     The Dark Knight Rises   \n",
       "4     49529                               John Carter   \n",
       "\n",
       "                                            overview  \\\n",
       "0  [In, the, 22nd, century,, a, paraplegic, Marin...   \n",
       "1  [Captain, Barbossa,, long, believed, to, be, d...   \n",
       "2  [A, cryptic, message, from, Bond’s, past, send...   \n",
       "3  [Following, the, death, of, District, Attorney...   \n",
       "4  [John, Carter, is, a, war-weary,, former, mili...   \n",
       "\n",
       "                                          genres  \\\n",
       "0  [Action, Adventure, Fantasy, Science Fiction]   \n",
       "1                   [Adventure, Fantasy, Action]   \n",
       "2                     [Action, Adventure, Crime]   \n",
       "3               [Action, Crime, Drama, Thriller]   \n",
       "4           [Action, Adventure, Science Fiction]   \n",
       "\n",
       "                                            keywords  \\\n",
       "0  [culture clash, future, space war, space colon...   \n",
       "1  [ocean, drug abuse, exotic island, east india ...   \n",
       "2  [spy, based on novel, secret agent, sequel, mi...   \n",
       "3  [dc comics, crime fighter, terrorist, secret i...   \n",
       "4  [based on novel, mars, medallion, space travel...   \n",
       "\n",
       "                                               cast                 crew  \n",
       "0  [Sam Worthington, Zoe Saldana, Sigourney Weaver]      [James Cameron]  \n",
       "1     [Johnny Depp, Orlando Bloom, Keira Knightley]     [Gore Verbinski]  \n",
       "2      [Daniel Craig, Christoph Waltz, Léa Seydoux]         [Sam Mendes]  \n",
       "3      [Christian Bale, Michael Caine, Gary Oldman]  [Christopher Nolan]  \n",
       "4    [Taylor Kitsch, Lynn Collins, Samantha Morton]     [Andrew Stanton]  "
      ]
     },
     "execution_count": 30,
     "metadata": {},
     "output_type": "execute_result"
    }
   ],
   "source": [
    "movies.head()"
   ]
  },
  {
   "cell_type": "code",
   "execution_count": 31,
   "metadata": {},
   "outputs": [],
   "source": [
    "movies['genres'] = movies['genres'].apply(lambda x:[i.replace(\" \", \"\") for i in x])\n",
    "movies['keywords'] = movies['keywords'].apply(lambda x:[i.replace(\" \", \"\") for i in x])\n",
    "movies['crew'] = movies['crew'].apply(lambda x:[i.replace(\" \", \"\") for i in x])\n",
    "movies['cast'] = movies['cast'].apply(lambda x:[i.replace(\" \", \"\") for i in x])"
   ]
  },
  {
   "cell_type": "code",
   "execution_count": 32,
   "metadata": {},
   "outputs": [
    {
     "data": {
      "text/html": [
       "<div>\n",
       "<style scoped>\n",
       "    .dataframe tbody tr th:only-of-type {\n",
       "        vertical-align: middle;\n",
       "    }\n",
       "\n",
       "    .dataframe tbody tr th {\n",
       "        vertical-align: top;\n",
       "    }\n",
       "\n",
       "    .dataframe thead th {\n",
       "        text-align: right;\n",
       "    }\n",
       "</style>\n",
       "<table border=\"1\" class=\"dataframe\">\n",
       "  <thead>\n",
       "    <tr style=\"text-align: right;\">\n",
       "      <th></th>\n",
       "      <th>movie_id</th>\n",
       "      <th>title</th>\n",
       "      <th>overview</th>\n",
       "      <th>genres</th>\n",
       "      <th>keywords</th>\n",
       "      <th>cast</th>\n",
       "      <th>crew</th>\n",
       "    </tr>\n",
       "  </thead>\n",
       "  <tbody>\n",
       "    <tr>\n",
       "      <th>0</th>\n",
       "      <td>19995</td>\n",
       "      <td>Avatar</td>\n",
       "      <td>[In, the, 22nd, century,, a, paraplegic, Marin...</td>\n",
       "      <td>[Action, Adventure, Fantasy, ScienceFiction]</td>\n",
       "      <td>[cultureclash, future, spacewar, spacecolony, ...</td>\n",
       "      <td>[SamWorthington, ZoeSaldana, SigourneyWeaver]</td>\n",
       "      <td>[JamesCameron]</td>\n",
       "    </tr>\n",
       "    <tr>\n",
       "      <th>1</th>\n",
       "      <td>285</td>\n",
       "      <td>Pirates of the Caribbean: At World's End</td>\n",
       "      <td>[Captain, Barbossa,, long, believed, to, be, d...</td>\n",
       "      <td>[Adventure, Fantasy, Action]</td>\n",
       "      <td>[ocean, drugabuse, exoticisland, eastindiatrad...</td>\n",
       "      <td>[JohnnyDepp, OrlandoBloom, KeiraKnightley]</td>\n",
       "      <td>[GoreVerbinski]</td>\n",
       "    </tr>\n",
       "    <tr>\n",
       "      <th>2</th>\n",
       "      <td>206647</td>\n",
       "      <td>Spectre</td>\n",
       "      <td>[A, cryptic, message, from, Bond’s, past, send...</td>\n",
       "      <td>[Action, Adventure, Crime]</td>\n",
       "      <td>[spy, basedonnovel, secretagent, sequel, mi6, ...</td>\n",
       "      <td>[DanielCraig, ChristophWaltz, LéaSeydoux]</td>\n",
       "      <td>[SamMendes]</td>\n",
       "    </tr>\n",
       "    <tr>\n",
       "      <th>3</th>\n",
       "      <td>49026</td>\n",
       "      <td>The Dark Knight Rises</td>\n",
       "      <td>[Following, the, death, of, District, Attorney...</td>\n",
       "      <td>[Action, Crime, Drama, Thriller]</td>\n",
       "      <td>[dccomics, crimefighter, terrorist, secretiden...</td>\n",
       "      <td>[ChristianBale, MichaelCaine, GaryOldman]</td>\n",
       "      <td>[ChristopherNolan]</td>\n",
       "    </tr>\n",
       "    <tr>\n",
       "      <th>4</th>\n",
       "      <td>49529</td>\n",
       "      <td>John Carter</td>\n",
       "      <td>[John, Carter, is, a, war-weary,, former, mili...</td>\n",
       "      <td>[Action, Adventure, ScienceFiction]</td>\n",
       "      <td>[basedonnovel, mars, medallion, spacetravel, p...</td>\n",
       "      <td>[TaylorKitsch, LynnCollins, SamanthaMorton]</td>\n",
       "      <td>[AndrewStanton]</td>\n",
       "    </tr>\n",
       "  </tbody>\n",
       "</table>\n",
       "</div>"
      ],
      "text/plain": [
       "   movie_id                                     title  \\\n",
       "0     19995                                    Avatar   \n",
       "1       285  Pirates of the Caribbean: At World's End   \n",
       "2    206647                                   Spectre   \n",
       "3     49026                     The Dark Knight Rises   \n",
       "4     49529                               John Carter   \n",
       "\n",
       "                                            overview  \\\n",
       "0  [In, the, 22nd, century,, a, paraplegic, Marin...   \n",
       "1  [Captain, Barbossa,, long, believed, to, be, d...   \n",
       "2  [A, cryptic, message, from, Bond’s, past, send...   \n",
       "3  [Following, the, death, of, District, Attorney...   \n",
       "4  [John, Carter, is, a, war-weary,, former, mili...   \n",
       "\n",
       "                                         genres  \\\n",
       "0  [Action, Adventure, Fantasy, ScienceFiction]   \n",
       "1                  [Adventure, Fantasy, Action]   \n",
       "2                    [Action, Adventure, Crime]   \n",
       "3              [Action, Crime, Drama, Thriller]   \n",
       "4           [Action, Adventure, ScienceFiction]   \n",
       "\n",
       "                                            keywords  \\\n",
       "0  [cultureclash, future, spacewar, spacecolony, ...   \n",
       "1  [ocean, drugabuse, exoticisland, eastindiatrad...   \n",
       "2  [spy, basedonnovel, secretagent, sequel, mi6, ...   \n",
       "3  [dccomics, crimefighter, terrorist, secretiden...   \n",
       "4  [basedonnovel, mars, medallion, spacetravel, p...   \n",
       "\n",
       "                                            cast                crew  \n",
       "0  [SamWorthington, ZoeSaldana, SigourneyWeaver]      [JamesCameron]  \n",
       "1     [JohnnyDepp, OrlandoBloom, KeiraKnightley]     [GoreVerbinski]  \n",
       "2      [DanielCraig, ChristophWaltz, LéaSeydoux]         [SamMendes]  \n",
       "3      [ChristianBale, MichaelCaine, GaryOldman]  [ChristopherNolan]  \n",
       "4    [TaylorKitsch, LynnCollins, SamanthaMorton]     [AndrewStanton]  "
      ]
     },
     "execution_count": 32,
     "metadata": {},
     "output_type": "execute_result"
    }
   ],
   "source": [
    "movies.head()"
   ]
  },
  {
   "cell_type": "code",
   "execution_count": 33,
   "metadata": {},
   "outputs": [],
   "source": [
    "movies['tags'] = movies['overview'] + movies['cast'] + movies['crew'] + movies['genres'] + movies['keywords']  "
   ]
  },
  {
   "cell_type": "code",
   "execution_count": 34,
   "metadata": {},
   "outputs": [
    {
     "data": {
      "text/html": [
       "<div>\n",
       "<style scoped>\n",
       "    .dataframe tbody tr th:only-of-type {\n",
       "        vertical-align: middle;\n",
       "    }\n",
       "\n",
       "    .dataframe tbody tr th {\n",
       "        vertical-align: top;\n",
       "    }\n",
       "\n",
       "    .dataframe thead th {\n",
       "        text-align: right;\n",
       "    }\n",
       "</style>\n",
       "<table border=\"1\" class=\"dataframe\">\n",
       "  <thead>\n",
       "    <tr style=\"text-align: right;\">\n",
       "      <th></th>\n",
       "      <th>movie_id</th>\n",
       "      <th>title</th>\n",
       "      <th>overview</th>\n",
       "      <th>genres</th>\n",
       "      <th>keywords</th>\n",
       "      <th>cast</th>\n",
       "      <th>crew</th>\n",
       "      <th>tags</th>\n",
       "    </tr>\n",
       "  </thead>\n",
       "  <tbody>\n",
       "    <tr>\n",
       "      <th>0</th>\n",
       "      <td>19995</td>\n",
       "      <td>Avatar</td>\n",
       "      <td>[In, the, 22nd, century,, a, paraplegic, Marin...</td>\n",
       "      <td>[Action, Adventure, Fantasy, ScienceFiction]</td>\n",
       "      <td>[cultureclash, future, spacewar, spacecolony, ...</td>\n",
       "      <td>[SamWorthington, ZoeSaldana, SigourneyWeaver]</td>\n",
       "      <td>[JamesCameron]</td>\n",
       "      <td>[In, the, 22nd, century,, a, paraplegic, Marin...</td>\n",
       "    </tr>\n",
       "    <tr>\n",
       "      <th>1</th>\n",
       "      <td>285</td>\n",
       "      <td>Pirates of the Caribbean: At World's End</td>\n",
       "      <td>[Captain, Barbossa,, long, believed, to, be, d...</td>\n",
       "      <td>[Adventure, Fantasy, Action]</td>\n",
       "      <td>[ocean, drugabuse, exoticisland, eastindiatrad...</td>\n",
       "      <td>[JohnnyDepp, OrlandoBloom, KeiraKnightley]</td>\n",
       "      <td>[GoreVerbinski]</td>\n",
       "      <td>[Captain, Barbossa,, long, believed, to, be, d...</td>\n",
       "    </tr>\n",
       "    <tr>\n",
       "      <th>2</th>\n",
       "      <td>206647</td>\n",
       "      <td>Spectre</td>\n",
       "      <td>[A, cryptic, message, from, Bond’s, past, send...</td>\n",
       "      <td>[Action, Adventure, Crime]</td>\n",
       "      <td>[spy, basedonnovel, secretagent, sequel, mi6, ...</td>\n",
       "      <td>[DanielCraig, ChristophWaltz, LéaSeydoux]</td>\n",
       "      <td>[SamMendes]</td>\n",
       "      <td>[A, cryptic, message, from, Bond’s, past, send...</td>\n",
       "    </tr>\n",
       "    <tr>\n",
       "      <th>3</th>\n",
       "      <td>49026</td>\n",
       "      <td>The Dark Knight Rises</td>\n",
       "      <td>[Following, the, death, of, District, Attorney...</td>\n",
       "      <td>[Action, Crime, Drama, Thriller]</td>\n",
       "      <td>[dccomics, crimefighter, terrorist, secretiden...</td>\n",
       "      <td>[ChristianBale, MichaelCaine, GaryOldman]</td>\n",
       "      <td>[ChristopherNolan]</td>\n",
       "      <td>[Following, the, death, of, District, Attorney...</td>\n",
       "    </tr>\n",
       "    <tr>\n",
       "      <th>4</th>\n",
       "      <td>49529</td>\n",
       "      <td>John Carter</td>\n",
       "      <td>[John, Carter, is, a, war-weary,, former, mili...</td>\n",
       "      <td>[Action, Adventure, ScienceFiction]</td>\n",
       "      <td>[basedonnovel, mars, medallion, spacetravel, p...</td>\n",
       "      <td>[TaylorKitsch, LynnCollins, SamanthaMorton]</td>\n",
       "      <td>[AndrewStanton]</td>\n",
       "      <td>[John, Carter, is, a, war-weary,, former, mili...</td>\n",
       "    </tr>\n",
       "  </tbody>\n",
       "</table>\n",
       "</div>"
      ],
      "text/plain": [
       "   movie_id                                     title  \\\n",
       "0     19995                                    Avatar   \n",
       "1       285  Pirates of the Caribbean: At World's End   \n",
       "2    206647                                   Spectre   \n",
       "3     49026                     The Dark Knight Rises   \n",
       "4     49529                               John Carter   \n",
       "\n",
       "                                            overview  \\\n",
       "0  [In, the, 22nd, century,, a, paraplegic, Marin...   \n",
       "1  [Captain, Barbossa,, long, believed, to, be, d...   \n",
       "2  [A, cryptic, message, from, Bond’s, past, send...   \n",
       "3  [Following, the, death, of, District, Attorney...   \n",
       "4  [John, Carter, is, a, war-weary,, former, mili...   \n",
       "\n",
       "                                         genres  \\\n",
       "0  [Action, Adventure, Fantasy, ScienceFiction]   \n",
       "1                  [Adventure, Fantasy, Action]   \n",
       "2                    [Action, Adventure, Crime]   \n",
       "3              [Action, Crime, Drama, Thriller]   \n",
       "4           [Action, Adventure, ScienceFiction]   \n",
       "\n",
       "                                            keywords  \\\n",
       "0  [cultureclash, future, spacewar, spacecolony, ...   \n",
       "1  [ocean, drugabuse, exoticisland, eastindiatrad...   \n",
       "2  [spy, basedonnovel, secretagent, sequel, mi6, ...   \n",
       "3  [dccomics, crimefighter, terrorist, secretiden...   \n",
       "4  [basedonnovel, mars, medallion, spacetravel, p...   \n",
       "\n",
       "                                            cast                crew  \\\n",
       "0  [SamWorthington, ZoeSaldana, SigourneyWeaver]      [JamesCameron]   \n",
       "1     [JohnnyDepp, OrlandoBloom, KeiraKnightley]     [GoreVerbinski]   \n",
       "2      [DanielCraig, ChristophWaltz, LéaSeydoux]         [SamMendes]   \n",
       "3      [ChristianBale, MichaelCaine, GaryOldman]  [ChristopherNolan]   \n",
       "4    [TaylorKitsch, LynnCollins, SamanthaMorton]     [AndrewStanton]   \n",
       "\n",
       "                                                tags  \n",
       "0  [In, the, 22nd, century,, a, paraplegic, Marin...  \n",
       "1  [Captain, Barbossa,, long, believed, to, be, d...  \n",
       "2  [A, cryptic, message, from, Bond’s, past, send...  \n",
       "3  [Following, the, death, of, District, Attorney...  \n",
       "4  [John, Carter, is, a, war-weary,, former, mili...  "
      ]
     },
     "execution_count": 34,
     "metadata": {},
     "output_type": "execute_result"
    }
   ],
   "source": [
    "movies.head()"
   ]
  },
  {
   "cell_type": "code",
   "execution_count": 35,
   "metadata": {},
   "outputs": [],
   "source": [
    "new_df = movies[['movie_id', 'title', 'tags']]"
   ]
  },
  {
   "cell_type": "code",
   "execution_count": 36,
   "metadata": {},
   "outputs": [
    {
     "data": {
      "text/html": [
       "<div>\n",
       "<style scoped>\n",
       "    .dataframe tbody tr th:only-of-type {\n",
       "        vertical-align: middle;\n",
       "    }\n",
       "\n",
       "    .dataframe tbody tr th {\n",
       "        vertical-align: top;\n",
       "    }\n",
       "\n",
       "    .dataframe thead th {\n",
       "        text-align: right;\n",
       "    }\n",
       "</style>\n",
       "<table border=\"1\" class=\"dataframe\">\n",
       "  <thead>\n",
       "    <tr style=\"text-align: right;\">\n",
       "      <th></th>\n",
       "      <th>movie_id</th>\n",
       "      <th>title</th>\n",
       "      <th>tags</th>\n",
       "    </tr>\n",
       "  </thead>\n",
       "  <tbody>\n",
       "    <tr>\n",
       "      <th>0</th>\n",
       "      <td>19995</td>\n",
       "      <td>Avatar</td>\n",
       "      <td>[In, the, 22nd, century,, a, paraplegic, Marin...</td>\n",
       "    </tr>\n",
       "    <tr>\n",
       "      <th>1</th>\n",
       "      <td>285</td>\n",
       "      <td>Pirates of the Caribbean: At World's End</td>\n",
       "      <td>[Captain, Barbossa,, long, believed, to, be, d...</td>\n",
       "    </tr>\n",
       "    <tr>\n",
       "      <th>2</th>\n",
       "      <td>206647</td>\n",
       "      <td>Spectre</td>\n",
       "      <td>[A, cryptic, message, from, Bond’s, past, send...</td>\n",
       "    </tr>\n",
       "    <tr>\n",
       "      <th>3</th>\n",
       "      <td>49026</td>\n",
       "      <td>The Dark Knight Rises</td>\n",
       "      <td>[Following, the, death, of, District, Attorney...</td>\n",
       "    </tr>\n",
       "    <tr>\n",
       "      <th>4</th>\n",
       "      <td>49529</td>\n",
       "      <td>John Carter</td>\n",
       "      <td>[John, Carter, is, a, war-weary,, former, mili...</td>\n",
       "    </tr>\n",
       "  </tbody>\n",
       "</table>\n",
       "</div>"
      ],
      "text/plain": [
       "   movie_id                                     title  \\\n",
       "0     19995                                    Avatar   \n",
       "1       285  Pirates of the Caribbean: At World's End   \n",
       "2    206647                                   Spectre   \n",
       "3     49026                     The Dark Knight Rises   \n",
       "4     49529                               John Carter   \n",
       "\n",
       "                                                tags  \n",
       "0  [In, the, 22nd, century,, a, paraplegic, Marin...  \n",
       "1  [Captain, Barbossa,, long, believed, to, be, d...  \n",
       "2  [A, cryptic, message, from, Bond’s, past, send...  \n",
       "3  [Following, the, death, of, District, Attorney...  \n",
       "4  [John, Carter, is, a, war-weary,, former, mili...  "
      ]
     },
     "execution_count": 36,
     "metadata": {},
     "output_type": "execute_result"
    }
   ],
   "source": [
    "new_df.head()"
   ]
  },
  {
   "cell_type": "code",
   "execution_count": 37,
   "metadata": {},
   "outputs": [
    {
     "name": "stderr",
     "output_type": "stream",
     "text": [
      "C:\\Users\\dhing\\AppData\\Local\\Temp\\ipykernel_15416\\1824047427.py:1: SettingWithCopyWarning: \n",
      "A value is trying to be set on a copy of a slice from a DataFrame.\n",
      "Try using .loc[row_indexer,col_indexer] = value instead\n",
      "\n",
      "See the caveats in the documentation: https://pandas.pydata.org/pandas-docs/stable/user_guide/indexing.html#returning-a-view-versus-a-copy\n",
      "  new_df['tags'] = new_df['tags'].apply(lambda x: \" \".join(x))\n"
     ]
    }
   ],
   "source": [
    "new_df['tags'] = new_df['tags'].apply(lambda x: \" \".join(x))"
   ]
  },
  {
   "cell_type": "code",
   "execution_count": 38,
   "metadata": {},
   "outputs": [
    {
     "data": {
      "text/html": [
       "<div>\n",
       "<style scoped>\n",
       "    .dataframe tbody tr th:only-of-type {\n",
       "        vertical-align: middle;\n",
       "    }\n",
       "\n",
       "    .dataframe tbody tr th {\n",
       "        vertical-align: top;\n",
       "    }\n",
       "\n",
       "    .dataframe thead th {\n",
       "        text-align: right;\n",
       "    }\n",
       "</style>\n",
       "<table border=\"1\" class=\"dataframe\">\n",
       "  <thead>\n",
       "    <tr style=\"text-align: right;\">\n",
       "      <th></th>\n",
       "      <th>movie_id</th>\n",
       "      <th>title</th>\n",
       "      <th>tags</th>\n",
       "    </tr>\n",
       "  </thead>\n",
       "  <tbody>\n",
       "    <tr>\n",
       "      <th>0</th>\n",
       "      <td>19995</td>\n",
       "      <td>Avatar</td>\n",
       "      <td>In the 22nd century, a paraplegic Marine is di...</td>\n",
       "    </tr>\n",
       "    <tr>\n",
       "      <th>1</th>\n",
       "      <td>285</td>\n",
       "      <td>Pirates of the Caribbean: At World's End</td>\n",
       "      <td>Captain Barbossa, long believed to be dead, ha...</td>\n",
       "    </tr>\n",
       "    <tr>\n",
       "      <th>2</th>\n",
       "      <td>206647</td>\n",
       "      <td>Spectre</td>\n",
       "      <td>A cryptic message from Bond’s past sends him o...</td>\n",
       "    </tr>\n",
       "    <tr>\n",
       "      <th>3</th>\n",
       "      <td>49026</td>\n",
       "      <td>The Dark Knight Rises</td>\n",
       "      <td>Following the death of District Attorney Harve...</td>\n",
       "    </tr>\n",
       "    <tr>\n",
       "      <th>4</th>\n",
       "      <td>49529</td>\n",
       "      <td>John Carter</td>\n",
       "      <td>John Carter is a war-weary, former military ca...</td>\n",
       "    </tr>\n",
       "  </tbody>\n",
       "</table>\n",
       "</div>"
      ],
      "text/plain": [
       "   movie_id                                     title  \\\n",
       "0     19995                                    Avatar   \n",
       "1       285  Pirates of the Caribbean: At World's End   \n",
       "2    206647                                   Spectre   \n",
       "3     49026                     The Dark Knight Rises   \n",
       "4     49529                               John Carter   \n",
       "\n",
       "                                                tags  \n",
       "0  In the 22nd century, a paraplegic Marine is di...  \n",
       "1  Captain Barbossa, long believed to be dead, ha...  \n",
       "2  A cryptic message from Bond’s past sends him o...  \n",
       "3  Following the death of District Attorney Harve...  \n",
       "4  John Carter is a war-weary, former military ca...  "
      ]
     },
     "execution_count": 38,
     "metadata": {},
     "output_type": "execute_result"
    }
   ],
   "source": [
    "new_df.head()"
   ]
  },
  {
   "cell_type": "code",
   "execution_count": 39,
   "metadata": {},
   "outputs": [
    {
     "data": {
      "text/plain": [
       "'In the 22nd century, a paraplegic Marine is dispatched to the moon Pandora on a unique mission, but becomes torn between following orders and protecting an alien civilization. SamWorthington ZoeSaldana SigourneyWeaver JamesCameron Action Adventure Fantasy ScienceFiction cultureclash future spacewar spacecolony society spacetravel futuristic romance space alien tribe alienplanet cgi marine soldier battle loveaffair antiwar powerrelations mindandsoul 3d'"
      ]
     },
     "execution_count": 39,
     "metadata": {},
     "output_type": "execute_result"
    }
   ],
   "source": [
    "new_df.tags[0]"
   ]
  },
  {
   "cell_type": "code",
   "execution_count": 40,
   "metadata": {},
   "outputs": [
    {
     "name": "stderr",
     "output_type": "stream",
     "text": [
      "C:\\Users\\dhing\\AppData\\Local\\Temp\\ipykernel_15416\\883946691.py:1: SettingWithCopyWarning: \n",
      "A value is trying to be set on a copy of a slice from a DataFrame.\n",
      "Try using .loc[row_indexer,col_indexer] = value instead\n",
      "\n",
      "See the caveats in the documentation: https://pandas.pydata.org/pandas-docs/stable/user_guide/indexing.html#returning-a-view-versus-a-copy\n",
      "  new_df['tags'] = new_df['tags'].apply(lambda x: x.lower())\n"
     ]
    },
    {
     "data": {
      "text/html": [
       "<div>\n",
       "<style scoped>\n",
       "    .dataframe tbody tr th:only-of-type {\n",
       "        vertical-align: middle;\n",
       "    }\n",
       "\n",
       "    .dataframe tbody tr th {\n",
       "        vertical-align: top;\n",
       "    }\n",
       "\n",
       "    .dataframe thead th {\n",
       "        text-align: right;\n",
       "    }\n",
       "</style>\n",
       "<table border=\"1\" class=\"dataframe\">\n",
       "  <thead>\n",
       "    <tr style=\"text-align: right;\">\n",
       "      <th></th>\n",
       "      <th>movie_id</th>\n",
       "      <th>title</th>\n",
       "      <th>tags</th>\n",
       "    </tr>\n",
       "  </thead>\n",
       "  <tbody>\n",
       "    <tr>\n",
       "      <th>0</th>\n",
       "      <td>19995</td>\n",
       "      <td>Avatar</td>\n",
       "      <td>in the 22nd century, a paraplegic marine is di...</td>\n",
       "    </tr>\n",
       "    <tr>\n",
       "      <th>1</th>\n",
       "      <td>285</td>\n",
       "      <td>Pirates of the Caribbean: At World's End</td>\n",
       "      <td>captain barbossa, long believed to be dead, ha...</td>\n",
       "    </tr>\n",
       "    <tr>\n",
       "      <th>2</th>\n",
       "      <td>206647</td>\n",
       "      <td>Spectre</td>\n",
       "      <td>a cryptic message from bond’s past sends him o...</td>\n",
       "    </tr>\n",
       "    <tr>\n",
       "      <th>3</th>\n",
       "      <td>49026</td>\n",
       "      <td>The Dark Knight Rises</td>\n",
       "      <td>following the death of district attorney harve...</td>\n",
       "    </tr>\n",
       "    <tr>\n",
       "      <th>4</th>\n",
       "      <td>49529</td>\n",
       "      <td>John Carter</td>\n",
       "      <td>john carter is a war-weary, former military ca...</td>\n",
       "    </tr>\n",
       "  </tbody>\n",
       "</table>\n",
       "</div>"
      ],
      "text/plain": [
       "   movie_id                                     title  \\\n",
       "0     19995                                    Avatar   \n",
       "1       285  Pirates of the Caribbean: At World's End   \n",
       "2    206647                                   Spectre   \n",
       "3     49026                     The Dark Knight Rises   \n",
       "4     49529                               John Carter   \n",
       "\n",
       "                                                tags  \n",
       "0  in the 22nd century, a paraplegic marine is di...  \n",
       "1  captain barbossa, long believed to be dead, ha...  \n",
       "2  a cryptic message from bond’s past sends him o...  \n",
       "3  following the death of district attorney harve...  \n",
       "4  john carter is a war-weary, former military ca...  "
      ]
     },
     "execution_count": 40,
     "metadata": {},
     "output_type": "execute_result"
    }
   ],
   "source": [
    "new_df['tags'] = new_df['tags'].apply(lambda x: x.lower())\n",
    "new_df.head()"
   ]
  },
  {
   "cell_type": "code",
   "execution_count": 41,
   "metadata": {},
   "outputs": [
    {
     "data": {
      "text/plain": [
       "\"captain barbossa, long believed to be dead, has come back to life and is headed to the edge of the earth with will turner and elizabeth swann. but nothing is quite as it seems. johnnydepp orlandobloom keiraknightley goreverbinski adventure fantasy action ocean drugabuse exoticisland eastindiatradingcompany loveofone'slife traitor shipwreck strongwoman ship alliance calypso afterlife fighter pirate swashbuckler aftercreditsstinger\""
      ]
     },
     "execution_count": 41,
     "metadata": {},
     "output_type": "execute_result"
    }
   ],
   "source": [
    "new_df['tags'][1]"
   ]
  },
  {
   "cell_type": "code",
   "execution_count": 42,
   "metadata": {},
   "outputs": [],
   "source": [
    "from sklearn.feature_extraction.text import CountVectorizer\n",
    "cv = CountVectorizer(max_features=5000, stop_words='english')"
   ]
  },
  {
   "cell_type": "code",
   "execution_count": 43,
   "metadata": {},
   "outputs": [
    {
     "data": {
      "text/plain": [
       "(4806, 5000)"
      ]
     },
     "execution_count": 43,
     "metadata": {},
     "output_type": "execute_result"
    }
   ],
   "source": [
    "cv.fit_transform(new_df['tags']).toarray().shape"
   ]
  },
  {
   "cell_type": "code",
   "execution_count": 44,
   "metadata": {},
   "outputs": [],
   "source": [
    "vectors = cv.fit_transform(new_df['tags']).toarray()"
   ]
  },
  {
   "cell_type": "code",
   "execution_count": 45,
   "metadata": {},
   "outputs": [
    {
     "data": {
      "text/plain": [
       "array([0, 0, 0, ..., 0, 0, 0])"
      ]
     },
     "execution_count": 45,
     "metadata": {},
     "output_type": "execute_result"
    }
   ],
   "source": [
    "vectors[0] # Avatar's vector"
   ]
  },
  {
   "cell_type": "code",
   "execution_count": 46,
   "metadata": {},
   "outputs": [
    {
     "data": {
      "text/plain": [
       "array(['000', '007', '10', ..., 'zone', 'zoo', 'zooeydeschanel'],\n",
       "      dtype=object)"
      ]
     },
     "execution_count": 46,
     "metadata": {},
     "output_type": "execute_result"
    }
   ],
   "source": [
    "cv.get_feature_names_out()"
   ]
  },
  {
   "cell_type": "code",
   "execution_count": 47,
   "metadata": {},
   "outputs": [],
   "source": [
    "import nltk\n",
    "from nltk.stem.porter import PorterStemmer\n",
    "\n",
    "ps = PorterStemmer()"
   ]
  },
  {
   "cell_type": "markdown",
   "metadata": {},
   "source": [
    "*Steming*: It is basically uniforming the words that have same meanign or are in different tense, verbal form.\n",
    "For eg,\n",
    "1. ['loved', 'love', 'loving'] -----Gets turned into----->['love', 'love', 'love']"
   ]
  },
  {
   "cell_type": "code",
   "execution_count": 48,
   "metadata": {},
   "outputs": [],
   "source": [
    "def stem(text):\n",
    "    y = []\n",
    "\n",
    "    for i in text.split():\n",
    "        y.append(ps.stem(i))\n",
    "\n",
    "    return \" \".join(y)"
   ]
  },
  {
   "cell_type": "code",
   "execution_count": 49,
   "metadata": {},
   "outputs": [
    {
     "data": {
      "text/plain": [
       "'love'"
      ]
     },
     "execution_count": 49,
     "metadata": {},
     "output_type": "execute_result"
    }
   ],
   "source": [
    "ps.stem('loving')"
   ]
  },
  {
   "cell_type": "code",
   "execution_count": 50,
   "metadata": {},
   "outputs": [
    {
     "data": {
      "text/plain": [
       "'in the 22nd century, a parapleg marin is dispatch to the moon pandora on a uniqu mission, but becom torn between follow order and protect an alien civilization. samworthington zoesaldana sigourneyweav jamescameron action adventur fantasi sciencefict cultureclash futur spacewar spacecoloni societi spacetravel futurist romanc space alien tribe alienplanet cgi marin soldier battl loveaffair antiwar powerrel mindandsoul'"
      ]
     },
     "execution_count": 50,
     "metadata": {},
     "output_type": "execute_result"
    }
   ],
   "source": [
    "stem('In the 22nd century, a paraplegic Marine is dispatched to the moon Pandora on a unique mission, but becomes torn between following orders and protecting an alien civilization. SamWorthington ZoeSaldana SigourneyWeaver JamesCameron Action Adventure Fantasy ScienceFiction cultureclash future spacewar spacecolony society spacetravel futuristic romance space alien tribe alienplanet cgi marine soldier battle loveaffair antiwar powerrelations mindandsoul')"
   ]
  },
  {
   "cell_type": "code",
   "execution_count": 51,
   "metadata": {},
   "outputs": [
    {
     "name": "stderr",
     "output_type": "stream",
     "text": [
      "C:\\Users\\dhing\\AppData\\Local\\Temp\\ipykernel_15416\\3213734980.py:1: SettingWithCopyWarning: \n",
      "A value is trying to be set on a copy of a slice from a DataFrame.\n",
      "Try using .loc[row_indexer,col_indexer] = value instead\n",
      "\n",
      "See the caveats in the documentation: https://pandas.pydata.org/pandas-docs/stable/user_guide/indexing.html#returning-a-view-versus-a-copy\n",
      "  new_df['tags'] = new_df['tags'].apply(stem)\n"
     ]
    }
   ],
   "source": [
    "new_df['tags'] = new_df['tags'].apply(stem)"
   ]
  },
  {
   "cell_type": "code",
   "execution_count": 52,
   "metadata": {},
   "outputs": [
    {
     "data": {
      "text/html": [
       "<div>\n",
       "<style scoped>\n",
       "    .dataframe tbody tr th:only-of-type {\n",
       "        vertical-align: middle;\n",
       "    }\n",
       "\n",
       "    .dataframe tbody tr th {\n",
       "        vertical-align: top;\n",
       "    }\n",
       "\n",
       "    .dataframe thead th {\n",
       "        text-align: right;\n",
       "    }\n",
       "</style>\n",
       "<table border=\"1\" class=\"dataframe\">\n",
       "  <thead>\n",
       "    <tr style=\"text-align: right;\">\n",
       "      <th></th>\n",
       "      <th>movie_id</th>\n",
       "      <th>title</th>\n",
       "      <th>tags</th>\n",
       "    </tr>\n",
       "  </thead>\n",
       "  <tbody>\n",
       "    <tr>\n",
       "      <th>0</th>\n",
       "      <td>19995</td>\n",
       "      <td>Avatar</td>\n",
       "      <td>in the 22nd century, a parapleg marin is dispa...</td>\n",
       "    </tr>\n",
       "    <tr>\n",
       "      <th>1</th>\n",
       "      <td>285</td>\n",
       "      <td>Pirates of the Caribbean: At World's End</td>\n",
       "      <td>captain barbossa, long believ to be dead, ha c...</td>\n",
       "    </tr>\n",
       "    <tr>\n",
       "      <th>2</th>\n",
       "      <td>206647</td>\n",
       "      <td>Spectre</td>\n",
       "      <td>a cryptic messag from bond’ past send him on a...</td>\n",
       "    </tr>\n",
       "    <tr>\n",
       "      <th>3</th>\n",
       "      <td>49026</td>\n",
       "      <td>The Dark Knight Rises</td>\n",
       "      <td>follow the death of district attorney harvey d...</td>\n",
       "    </tr>\n",
       "    <tr>\n",
       "      <th>4</th>\n",
       "      <td>49529</td>\n",
       "      <td>John Carter</td>\n",
       "      <td>john carter is a war-weary, former militari ca...</td>\n",
       "    </tr>\n",
       "  </tbody>\n",
       "</table>\n",
       "</div>"
      ],
      "text/plain": [
       "   movie_id                                     title  \\\n",
       "0     19995                                    Avatar   \n",
       "1       285  Pirates of the Caribbean: At World's End   \n",
       "2    206647                                   Spectre   \n",
       "3     49026                     The Dark Knight Rises   \n",
       "4     49529                               John Carter   \n",
       "\n",
       "                                                tags  \n",
       "0  in the 22nd century, a parapleg marin is dispa...  \n",
       "1  captain barbossa, long believ to be dead, ha c...  \n",
       "2  a cryptic messag from bond’ past send him on a...  \n",
       "3  follow the death of district attorney harvey d...  \n",
       "4  john carter is a war-weary, former militari ca...  "
      ]
     },
     "execution_count": 52,
     "metadata": {},
     "output_type": "execute_result"
    }
   ],
   "source": [
    "new_df.head()"
   ]
  },
  {
   "cell_type": "code",
   "execution_count": 53,
   "metadata": {},
   "outputs": [],
   "source": [
    "from sklearn.metrics.pairwise import cosine_similarity\n",
    "# 0 means high similarity\n",
    "# 1 means low similarity"
   ]
  },
  {
   "cell_type": "code",
   "execution_count": 54,
   "metadata": {},
   "outputs": [
    {
     "data": {
      "text/plain": [
       "(4806, 4806)"
      ]
     },
     "execution_count": 54,
     "metadata": {},
     "output_type": "execute_result"
    }
   ],
   "source": [
    "cosine_similarity(vectors).shape"
   ]
  },
  {
   "cell_type": "code",
   "execution_count": 55,
   "metadata": {},
   "outputs": [],
   "source": [
    "similarity = cosine_similarity(vectors)"
   ]
  },
  {
   "cell_type": "code",
   "execution_count": 56,
   "metadata": {},
   "outputs": [
    {
     "data": {
      "text/plain": [
       "(4806, 4806)"
      ]
     },
     "execution_count": 56,
     "metadata": {},
     "output_type": "execute_result"
    }
   ],
   "source": [
    "similarity.shape # Array of arrays"
   ]
  },
  {
   "cell_type": "code",
   "execution_count": 57,
   "metadata": {},
   "outputs": [
    {
     "data": {
      "text/plain": [
       "array([0.08980265, 1.        , 0.06451613, ..., 0.02648136, 0.        ,\n",
       "       0.        ])"
      ]
     },
     "execution_count": 57,
     "metadata": {},
     "output_type": "execute_result"
    }
   ],
   "source": [
    "similarity[1]"
   ]
  },
  {
   "cell_type": "markdown",
   "metadata": {},
   "source": [
    "### *Main Function*\n",
    "Making a function which returns 5 recommended movie names"
   ]
  },
  {
   "cell_type": "code",
   "execution_count": 58,
   "metadata": {},
   "outputs": [],
   "source": [
    "def recommend(movie):\n",
    "    movie_index = new_df[new_df['title'] == movie].index[0]\n",
    "    distances = similarity[movie_index]\n",
    "    results = sorted(list(enumerate(distances)), reverse=True, key=lambda x:x[1])[1:6]\n",
    "    movies_list = [(index, float(score)) for index, score in results]\n",
    "    \n",
    "    for i in movies_list:\n",
    "        print(new_df.iloc[i[0]].title)\n",
    "    "
   ]
  },
  {
   "cell_type": "code",
   "execution_count": 59,
   "metadata": {},
   "outputs": [
    {
     "name": "stdout",
     "output_type": "stream",
     "text": [
      "[(0, 1.0), (539, 0.25724787771376323), (1192, 0.2545875386086578), (260, 0.24759378423606915), (507, 0.2472066162365221), (1214, 0.24595492912420727), (582, 0.2405626121623441), (1440, 0.2405626121623441), (1202, 0.23717082451262844), (1916, 0.23717082451262844), (3728, 0.23570226039551587), (74, 0.22360679774997894), (322, 0.2222222222222222), (3606, 0.22075539284417395), (83, 0.2187974872468418), (4190, 0.2182178902359924), (61, 0.21821789023599236), (2329, 0.21428571428571427), (2405, 0.21350420507344953), (47, 0.21339479988815996), (495, 0.2132007163556104), (972, 0.2130032168075646), (942, 0.20953951903123735), (466, 0.20851441405707477), (1327, 0.20851441405707477), (2200, 0.20309059861498083), (151, 0.20211302086361077), (973, 0.20008168266626025), (1199, 0.19999999999999998), (4046, 0.19364916731037082), (1273, 0.19245008972987526), (2782, 0.19245008972987526), (2997, 0.19245008972987526), (4405, 0.19245008972987526), (2969, 0.19205531989934396), (3536, 0.19179881852291686), (36, 0.1917988185229168), (461, 0.1911797782254681), (3325, 0.1911797782254681), (305, 0.19050019050028574), (3160, 0.19047619047619047), (150, 0.18750000000000003), (1533, 0.18681617943926832), (1319, 0.18633899812498245), (931, 0.18569533817705186), (27, 0.18314741859825204), (220, 0.18257418583505536), (300, 0.18220272220337375), (1069, 0.18220272220337375), (301, 0.1805787796286538), (4, 0.1800205749557739), (184, 0.1800205749557739), (67, 0.1796053020267749), (373, 0.17766726362967533), (46, 0.17407765595569785), (7, 0.17391639824998364), (2492, 0.17376201171422898), (2727, 0.17376201171422898), (1827, 0.17201561551404662), (52, 0.17149858514250882), (149, 0.16933350266692065), (26, 0.1690308509457033), (1342, 0.1690308509457033), (661, 0.16798421022632318), (1804, 0.16666666666666669), (108, 0.16666666666666666), (208, 0.16666666666666666), (838, 0.16666666666666666), (4008, 0.16666666666666666), (94, 0.16343011261515333), (581, 0.16343011261515333), (2511, 0.16343011261515333), (1392, 0.1617875572323585), (1295, 0.16012815380508713), (1379, 0.16012815380508713), (4336, 0.16012815380508713), (31, 0.15748519708717798), (168, 0.15617376188860607), (91, 0.15474611514754322), (3352, 0.15474611514754322), (3626, 0.15474611514754322), (311, 0.15430334996209188), (1961, 0.15319083833634298), (577, 0.15214515486254612), (158, 0.15075567228888181), (502, 0.15075567228888181), (1353, 0.15075567228888181), (111, 0.1496710850223124), (1176, 0.1496710850223124), (2165, 0.1496710850223124), (172, 0.14907119849998596), (490, 0.14907119849998596), (17, 0.1481668148335556), (1934, 0.1474419561548971), (422, 0.14547859349066158), (1484, 0.14547859349066158), (41, 0.14433756729740646), (84, 0.14360673947588817), (332, 0.14291548761875733), (557, 0.14291548761875733), (568, 0.14291548761875733), (2682, 0.14291548761875733), (56, 0.14213381090374028), (249, 0.14213381090374028), (505, 0.14213381090374028), (1325, 0.14213381090374028), (3997, 0.14213381090374028), (1320, 0.1414213562373095), (1218, 0.14085904245475275), (487, 0.13900960937138318), (2580, 0.13900960937138318), (187, 0.1388888888888889), (1669, 0.1386750490563073), (2129, 0.1386750490563073), (2476, 0.1386750490563073), (4348, 0.1386750490563073), (2869, 0.13736056394868904), (413, 0.13699915608779772), (1941, 0.13699915608779772), (2616, 0.13608276348795434), (2968, 0.13608276348795434), (4490, 0.13608276348795434), (595, 0.13518451760896877), (1013, 0.13518451760896877), (1297, 0.13518451760896877), (3407, 0.13518451760896877), (3620, 0.13518451760896877), (127, 0.13471506281091267), (342, 0.13471506281091267), (134, 0.13333333333333333), (368, 0.13333333333333333), (754, 0.13176156917368248), (3671, 0.13176156917368248), (1000, 0.13130643285972254), (68, 0.13074409009212268), (1045, 0.13074409009212268), (1094, 0.13074409009212268), (1156, 0.13074409009212268), (1654, 0.13074409009212268), (2374, 0.13074409009212268), (3374, 0.13074409009212268), (740, 0.1301448015738384), (1571, 0.12909944487358055), (1711, 0.12909944487358055), (778, 0.12858612496840993), (1035, 0.12858612496840993), (1613, 0.12858612496840993), (483, 0.12830005981991682), (1743, 0.12830005981991682), (420, 0.1270821419438372), (529, 0.1270821419438372), (939, 0.1259881576697424), (1737, 0.1259881576697424), (1829, 0.1259881576697424), (4673, 0.1259881576697424), (228, 0.1256297269074015), (278, 0.1256297269074015), (2709, 0.1256297269074015), (3307, 0.1256297269074015), (3216, 0.125), (4201, 0.125), (432, 0.12422599874998833), (549, 0.12422599874998833), (95, 0.12422599874998831), (2543, 0.12422599874998831), (3405, 0.12422599874998831), (28, 0.12379689211803457), (275, 0.12379689211803457), (1272, 0.12379689211803457), (2864, 0.12379689211803457), (238, 0.12309149097933272), (454, 0.1228682967957476), (72, 0.1217161238900369), (579, 0.1217161238900369), (1978, 0.1217161238900369), (2071, 0.1217161238900369), (1508, 0.1215541595815788), (123, 0.12155415958157878), (624, 0.12126781251816647), (653, 0.12126781251816647), (3145, 0.1203858530857692), (1275, 0.12028130608117205), (1475, 0.12028130608117205), (50, 0.11973686801784994), (692, 0.11904761904761904), (3628, 0.11904761904761904), (808, 0.11785113019775793), (2255, 0.11785113019775793), (169, 0.11785113019775792), (166, 0.1178511301977579), (232, 0.1178511301977579), (294, 0.1178511301977579), (687, 0.1178511301977579), (859, 0.1178511301977579), (1612, 0.1178511301977579), (1570, 0.11704114719613055), (5, 0.11669000700233413), (10, 0.1160517706371319), (1029, 0.1160517706371319), (2579, 0.1160517706371319), (3006, 0.1160517706371319), (199, 0.11556254088025605), (81, 0.11547005383792512), (627, 0.11470786693528086), (1369, 0.11470786693528086), (1723, 0.11470786693528086), (2319, 0.11470786693528086), (3719, 0.11470786693528086), (3998, 0.11470786693528086), (4016, 0.11470786693528086), (14, 0.11433239009500587), (87, 0.11433239009500587), (126, 0.11433239009500587), (508, 0.11433239009500587), (777, 0.11340230290662862), (854, 0.1126872339638022), (900, 0.1126872339638022), (1193, 0.1126872339638022), (2446, 0.1126872339638022), (3496, 0.1126872339638022), (35, 0.11180339887498947), (141, 0.11180339887498947), (1520, 0.11180339887498947), (1717, 0.11180339887498947), (2630, 0.11180339887498947), (4133, 0.11180339887498947), (18, 0.11135885079684349), (1017, 0.11135885079684349), (1493, 0.11135885079684349), (2102, 0.11135885079684349), (2435, 0.11135885079684349), (2756, 0.11135885079684349), (312, 0.1111111111111111), (330, 0.1111111111111111), (513, 0.1111111111111111), (1080, 0.1111111111111111), (1292, 0.1111111111111111), (2009, 0.1111111111111111), (3338, 0.1111111111111111), (3618, 0.1111111111111111), (4095, 0.1111111111111111), (102, 0.11037769642208699), (131, 0.10959932487023819), (174, 0.10959932487023819), (266, 0.10959932487023819), (2068, 0.10959932487023819), (2177, 0.10959932487023819), (3100, 0.10959932487023819), (403, 0.10942202738310211), (3053, 0.1091089451179962), (3779, 0.1091089451179962), (325, 0.10910894511799618), (773, 0.10910894511799618), (1154, 0.10910894511799618), (2517, 0.10910894511799618), (3659, 0.10910894511799618), (3952, 0.10910894511799618), (295, 0.10814761408717502), (535, 0.10814761408717502), (1271, 0.10814761408717502), (4077, 0.10814761408717502), (986, 0.10675210253672475), (4228, 0.10675210253672475), (139, 0.10669739994407998), (4545, 0.10669739994407998), (105, 0.10660035817780521), (233, 0.10660035817780521), (476, 0.10660035817780521), (2452, 0.10660035817780521), (2558, 0.10660035817780521), (2758, 0.10660035817780521), (3837, 0.10660035817780521), (4196, 0.10660035817780521), (182, 0.10540925533894598), (334, 0.10540925533894598), (643, 0.10540925533894598), (1054, 0.10540925533894598), (3781, 0.10540925533894598), (239, 0.10499013139145198), (85, 0.10425720702853739), (148, 0.10425720702853739), (157, 0.10425720702853739), (715, 0.10425720702853739), (935, 0.10425720702853739), (1278, 0.10425720702853739), (1497, 0.10425720702853739), (2656, 0.10425720702853739), (4331, 0.10425720702853739), (129, 0.10411584125907071), (510, 0.10411584125907071), (898, 0.10411584125907071), (1084, 0.10411584125907071), (1107, 0.10411584125907071), (3441, 0.10411584125907071), (3462, 0.10411584125907071), (307, 0.10314212462587934), (279, 0.10286889997472794), (1231, 0.10286889997472794), (4043, 0.10286889997472794), (2592, 0.10286889997472792), (33, 0.10206207261596575), (263, 0.10206207261596575), (400, 0.10206207261596575), (660, 0.10206207261596575), (781, 0.10206207261596575), (1299, 0.10206207261596575), (1304, 0.10206207261596575), (1938, 0.10206207261596575), (2657, 0.10206207261596575), (4254, 0.10206207261596575), (4623, 0.10206207261596575), (371, 0.10166571355506977), (412, 0.10166571355506977), (473, 0.10166571355506977), (870, 0.10166571355506977), (1200, 0.10166571355506977), (1435, 0.10166571355506977), (270, 0.10050378152592121), (813, 0.10050378152592121), (933, 0.10050378152592121), (1274, 0.10050378152592121), (1999, 0.10050378152592121), (2280, 0.10050378152592121), (292, 0.1), (389, 0.1), (530, 0.1), (564, 0.1), (691, 0.1), (791, 0.1), (920, 0.1), (1075, 0.1), (2647, 0.1), (3091, 0.1), (3734, 0.1), (410, 0.09938079899999065), (1819, 0.09938079899999065), (1087, 0.09889847151615443), (243, 0.09829463743659808), (785, 0.09820927516479827), (1404, 0.09805806756909201), (1585, 0.09805806756909201), (1682, 0.09805806756909201), (1752, 0.09805806756909201), (2392, 0.09805806756909201), (2648, 0.09805806756909201), (589, 0.09724332766526303), (618, 0.09724332766526303), (1355, 0.09724332766526303), (43, 0.09622504486493763), (1842, 0.09622504486493763), (2484, 0.09622504486493763), (2792, 0.09622504486493763), (3152, 0.09622504486493763), (12, 0.09622504486493762), (23, 0.09622504486493762), (142, 0.09622504486493762), (362, 0.09622504486493762), (1025, 0.09622504486493762), (1470, 0.09622504486493762), (2089, 0.09622504486493762), (160, 0.09558988911273406), (206, 0.09558988911273406), (596, 0.09523809523809523), (1414, 0.09523809523809523), (122, 0.0944911182523068), (236, 0.0944911182523068), (511, 0.0944911182523068), (922, 0.0944911182523068), (1002, 0.0944911182523068), (2836, 0.0944911182523068), (3426, 0.0944911182523068), (1828, 0.09428090415820634), (1920, 0.09428090415820634), (479, 0.09375732507716866), (1276, 0.09335200560186731), (21, 0.09284766908852593), (75, 0.09284766908852593), (242, 0.09284766908852593), (306, 0.09284766908852593), (369, 0.09284766908852593), (901, 0.09284766908852593), (960, 0.09284766908852593), (978, 0.09284766908852593), (1247, 0.09284766908852593), (1519, 0.09284766908852593), (2813, 0.09284766908852593), (4468, 0.09284766908852593), (799, 0.09259259259259259), (2444, 0.09259259259259259), (1492, 0.09245003270420485), (2270, 0.09245003270420485), (2384, 0.09245003270420485), (2852, 0.09245003270420485), (4353, 0.09245003270420485), (4502, 0.09245003270420485), (4516, 0.09245003270420485), (4654, 0.09245003270420485), (164, 0.09128709291752768), (227, 0.09128709291752768), (349, 0.09128709291752768), (356, 0.09128709291752768), (794, 0.09128709291752768), (1374, 0.09128709291752768), (1696, 0.09128709291752768), (3447, 0.09128709291752768), (3535, 0.09128709291752768), (3814, 0.09128709291752768), (4626, 0.09128709291752768), (63, 0.09072184232530289), (107, 0.09072184232530289), (170, 0.09072184232530289), (363, 0.09072184232530289), (812, 0.09072184232530289), (2001, 0.09072184232530289), (32, 0.08989331499509895), (467, 0.08989331499509895), (491, 0.08989331499509895), (541, 0.08989331499509895), (2494, 0.08989331499509895), (2966, 0.08989331499509895), (1, 0.08980265101338746), (88, 0.08980265101338746), (112, 0.08980265101338746), (121, 0.08980265101338746), (245, 0.08980265101338746), (315, 0.08980265101338746), (775, 0.08980265101338746), (814, 0.08980265101338746), (894, 0.08980265101338746), (1267, 0.08980265101338746), (1786, 0.08980265101338746), (2163, 0.08980265101338746), (3299, 0.08980265101338746), (45, 0.0890870806374748), (222, 0.0890870806374748), (381, 0.0890870806374748), (2876, 0.0890870806374748), (4163, 0.0890870806374748), (4737, 0.0890870806374748), (2382, 0.08883363181483767), (96, 0.08838834764831843), (98, 0.08838834764831843), (547, 0.08838834764831843), (786, 0.08838834764831843), (937, 0.08838834764831843), (1140, 0.08838834764831843), (2243, 0.08838834764831843), (2247, 0.08838834764831843), (2300, 0.08838834764831843), (2790, 0.08838834764831843), (3089, 0.08838834764831843), (4257, 0.08838834764831843), (4657, 0.08838834764831843), (654, 0.08830215713766959), (1280, 0.08830215713766959), (1874, 0.08830215713766959), (103, 0.08753762190648169), (39, 0.08703882797784893), (86, 0.08703882797784893), (101, 0.08703882797784893), (203, 0.08703882797784893), (457, 0.08703882797784893), (899, 0.08703882797784893), (1111, 0.08703882797784893), (1205, 0.08703882797784893), (1469, 0.08703882797784893), (3308, 0.08703882797784893), (193, 0.08679260732054925), (501, 0.08679260732054925), (1824, 0.08679260732054925), (3439, 0.08679260732054925), (1137, 0.08606629658238703), (1401, 0.08606629658238703), (1617, 0.08606629658238703), (3067, 0.08606629658238703), (4492, 0.08606629658238703), (4718, 0.08606629658238703), (70, 0.08574929257125441), (626, 0.08574929257125441), (634, 0.08574929257125441), (746, 0.08574929257125441), (3026, 0.08574929257125441), (3138, 0.08574929257125441), (3233, 0.08574929257125441), (3387, 0.08574929257125441), (3421, 0.08574929257125441), (19, 0.08535791995526398), (51, 0.08535791995526398), (153, 0.08535791995526398), (1530, 0.08535791995526398), (1894, 0.08535791995526398), (1635, 0.08466675133346033), (1922, 0.08466675133346033), (257, 0.08451542547285165), (787, 0.08451542547285165), (1159, 0.08451542547285165), (572, 0.08399210511316159), (3429, 0.08399210511316159), (37, 0.08333333333333333), (205, 0.08333333333333333), (207, 0.08333333333333333), (241, 0.08333333333333333), (472, 0.08333333333333333), (503, 0.08333333333333333), (534, 0.08333333333333333), (776, 0.08333333333333333), (885, 0.08333333333333333), (1610, 0.08333333333333333), (1651, 0.08333333333333333), (2161, 0.08333333333333333), (2199, 0.08333333333333333), (2246, 0.08333333333333333), (2249, 0.08333333333333333), (2335, 0.08333333333333333), (2640, 0.08333333333333333), (2708, 0.08333333333333333), (2797, 0.08333333333333333), (3353, 0.08333333333333333), (3525, 0.08333333333333333), (4059, 0.08333333333333333), (4431, 0.08333333333333333), (4473, 0.08333333333333333), (4568, 0.08333333333333333), (4641, 0.08333333333333333), (190, 0.08268982305947231), (230, 0.08268982305947231), (82, 0.08219949365267865), (223, 0.08219949365267865), (254, 0.08219949365267865), (329, 0.08219949365267865), (1397, 0.08219949365267865), (2679, 0.08219949365267865), (2095, 0.08206099398622181), (2759, 0.08144629623753681), (16, 0.08111071056538127), (138, 0.08111071056538127), (471, 0.08111071056538127), (632, 0.08111071056538127), (680, 0.08111071056538127), (985, 0.08111071056538127), (1556, 0.08111071056538127), (1761, 0.08111071056538127), (3468, 0.08111071056538127), (3908, 0.08111071056538127), (4053, 0.08111071056538127), (4451, 0.08111071056538127), (62, 0.08084520834544431), (189, 0.08084520834544431), (256, 0.08084520834544431), (850, 0.08084520834544431), (1043, 0.08084520834544431), (1321, 0.08084520834544431), (1660, 0.08084520834544431), (2322, 0.08084520834544431), (2406, 0.08084520834544431), (2785, 0.08084520834544431), (2880, 0.08084520834544431), (3153, 0.08084520834544431), (3251, 0.08084520834544431), (3428, 0.08084520834544431), (11, 0.08006407690254357), (71, 0.08006407690254357), (1287, 0.08006407690254357), (1288, 0.08006407690254357), (1363, 0.08006407690254357), (2816, 0.08006407690254357), (3204, 0.08006407690254357), (3699, 0.08006407690254357), (274, 0.0798188571017626), (125, 0.07909649964604158), (365, 0.07905694150420949), (587, 0.07905694150420949), (737, 0.07905694150420949), (2159, 0.07905694150420949), (2588, 0.07905694150420949), (4640, 0.07905694150420949), (59, 0.07856742013183862), (109, 0.07856742013183862), (200, 0.07856742013183862), (313, 0.07856742013183862), (800, 0.07856742013183862), (1286, 0.07856742013183862), (1346, 0.07856742013183862), (1517, 0.07856742013183862), (2157, 0.07856742013183862), (2313, 0.07856742013183862), (2377, 0.07856742013183862), (2547, 0.07856742013183862), (2655, 0.07856742013183862), (3396, 0.07856742013183862), (3830, 0.07856742013183862), (4412, 0.07856742013183862), (271, 0.07808688094430304), (665, 0.07808688094430304), (908, 0.07808688094430304), (1173, 0.07808688094430304), (2391, 0.07808688094430304), (2827, 0.07808688094430304), (2914, 0.07808688094430304), (3020, 0.07808688094430304), (4081, 0.07808688094430304), (55, 0.07749842582921285), (76, 0.07715167498104596), (79, 0.07715167498104596), (543, 0.07715167498104596), (591, 0.07715167498104596), (732, 0.07715167498104596), (977, 0.07715167498104596), (1323, 0.07715167498104596), (2048, 0.07715167498104596), (2359, 0.07715167498104596), (2697, 0.07715167498104596), (4121, 0.07715167498104596), (2350, 0.07715167498104594), (179, 0.07647191129018724), (229, 0.07647191129018724), (1003, 0.07647191129018724), (1765, 0.07647191129018724), (2132, 0.07647191129018724), (2208, 0.07647191129018724), (3070, 0.07647191129018724), (3980, 0.07647191129018724), (3992, 0.07647191129018724), (4004, 0.07647191129018724), (9, 0.07624928516630233), (212, 0.07624928516630233), (536, 0.07624928516630233), (674, 0.07624928516630233), (784, 0.07624928516630233), (1619, 0.07624928516630233), (1879, 0.07624928516630233), (2017, 0.07624928516630233), (2237, 0.07624928516630233), (3186, 0.07624928516630233), (3905, 0.07624928516630233), (488, 0.07548513560963971), (419, 0.07537783614444091), (782, 0.07537783614444091), (1442, 0.07537783614444091), (1628, 0.07537783614444091), (2646, 0.07537783614444091), (728, 0.07453559924999299), (752, 0.07453559924999299), (827, 0.07453559924999299), (1144, 0.07453559924999299), (3820, 0.07453559924999299), (570, 0.07453559924999298), (1260, 0.07453559924999298), (1290, 0.07453559924999298), (1766, 0.07453559924999298), (2529, 0.07453559924999298), (2694, 0.07453559924999298), (2783, 0.07453559924999298), (3239, 0.07453559924999298), (4097, 0.07453559924999298), (4403, 0.07453559924999298), (4443, 0.07453559924999298), (97, 0.07372097807744857), (635, 0.07372097807744857), (995, 0.07372097807744857), (1166, 0.07372097807744857), (1338, 0.07372097807744857), (1697, 0.07372097807744857), (2052, 0.07372097807744857), (3388, 0.07372097807744857), (183, 0.07362101738323101), (262, 0.07293249574894728), (704, 0.07293249574894728), (1016, 0.07293249574894728), (1992, 0.07293249574894728), (2014, 0.07293249574894728), (2316, 0.07293249574894728), (4343, 0.07293249574894728), (100, 0.07273929674533079), (267, 0.07273929674533079), (336, 0.07273929674533079), (1164, 0.07273929674533079), (1733, 0.07273929674533079), (1770, 0.07273929674533079), (1986, 0.07273929674533079), (2110, 0.07273929674533079), (3667, 0.07273929674533079), (3974, 0.07273929674533079), (4290, 0.07273929674533079), (30, 0.07216878364870322), (215, 0.07216878364870322), (281, 0.07216878364870322), (2368, 0.07216878364870322), (2886, 0.07216878364870322), (3223, 0.07216878364870322), (600, 0.07142857142857142), (1091, 0.07142857142857142), (1189, 0.07142857142857142), (1441, 0.07142857142857142), (1451, 0.07142857142857142), (2099, 0.07142857142857142), (2131, 0.07142857142857142), (304, 0.07106690545187014), (319, 0.07106690545187014), (546, 0.07106690545187014), (1169, 0.07106690545187014), (1240, 0.07106690545187014), (1406, 0.07106690545187014), (1462, 0.07106690545187014), (3131, 0.07106690545187014), (3372, 0.07106690545187014), (4472, 0.07106690545187014), (4638, 0.07106690545187014), (790, 0.07071067811865475), (1959, 0.07071067811865475), (2260, 0.07071067811865475), (2287, 0.07071067811865475), (2788, 0.07071067811865475), (3738, 0.07071067811865475), (4179, 0.07071067811865475), (3210, 0.07068241080666424), (889, 0.07066652533375734), (415, 0.07027283689263064), (29, 0.07001400420140048), (425, 0.07001400420140048), (612, 0.07001400420140048), (3554, 0.07001400420140048), (4538, 0.07001400420140048), (237, 0.06950480468569159), (308, 0.06950480468569159), (533, 0.06950480468569159), (537, 0.06950480468569159), (604, 0.06950480468569159), (668, 0.06950480468569159), (1083, 0.06950480468569159), (1090, 0.06950480468569159), (1345, 0.06950480468569159), (1601, 0.06950480468569159), (1880, 0.06950480468569159), (1940, 0.06950480468569159), (2049, 0.06950480468569159), (2974, 0.06950480468569159), (3295, 0.06950480468569159), (3513, 0.06950480468569159), (3619, 0.06950480468569159), (3653, 0.06950480468569159), (3674, 0.06950480468569159), (3929, 0.06950480468569159), (4214, 0.06950480468569159), (4357, 0.06950480468569159), (92, 0.06933752452815364), (456, 0.06933752452815364), (469, 0.06933752452815364), (2594, 0.06933752452815364), (3558, 0.06933752452815364), (3605, 0.06933752452815364), (143, 0.06868028197434452), (1367, 0.06868028197434452), (22, 0.06804138174397717), (167, 0.06804138174397717), (498, 0.06804138174397717), (621, 0.06804138174397717), (695, 0.06804138174397717), (951, 0.06804138174397717), (1005, 0.06804138174397717), (1028, 0.06804138174397717), (1145, 0.06804138174397717), (1301, 0.06804138174397717), (1303, 0.06804138174397717), (1377, 0.06804138174397717), (1667, 0.06804138174397717), (1688, 0.06804138174397717), (1856, 0.06804138174397717), (1969, 0.06804138174397717), (2013, 0.06804138174397717), (2252, 0.06804138174397717), (2264, 0.06804138174397717), (2266, 0.06804138174397717), (2567, 0.06804138174397717), (2571, 0.06804138174397717), (2575, 0.06804138174397717), (2618, 0.06804138174397717), (2998, 0.06804138174397717), (3107, 0.06804138174397717), (4088, 0.06804138174397717), (4320, 0.06804138174397717), (124, 0.06741998624632421), (234, 0.06741998624632421), (475, 0.06741998624632421), (4118, 0.06741998624632421), (3633, 0.0674199862463242), (48, 0.0668153104781061), (836, 0.0668153104781061), (1975, 0.0668153104781061), (159, 0.06666666666666667), (276, 0.06666666666666667), (290, 0.06666666666666667), (404, 0.06666666666666667), (744, 0.06666666666666667), (945, 0.06666666666666667), (1257, 0.06666666666666667), (1430, 0.06666666666666667), (1509, 0.06666666666666667), (1566, 0.06666666666666667), (1569, 0.06666666666666667), (1603, 0.06666666666666667), (2053, 0.06666666666666667), (2108, 0.06666666666666667), (2440, 0.06666666666666667), (2641, 0.06666666666666667), (2660, 0.06666666666666667), (2737, 0.06666666666666667), (2946, 0.06666666666666667), (2953, 0.06666666666666667), (2955, 0.06666666666666667), (3163, 0.06666666666666667), (3570, 0.06666666666666667), (4355, 0.06666666666666667), (4591, 0.06666666666666667), (4704, 0.06666666666666667), (1955, 0.06622661785325219), (156, 0.06565321642986127), (277, 0.06565321642986127), (1483, 0.06565321642986127), (219, 0.06537204504606134), (309, 0.06537204504606134), (348, 0.06537204504606134), (358, 0.06537204504606134), (711, 0.06537204504606134), (1074, 0.06537204504606134), (1095, 0.06537204504606134), (1135, 0.06537204504606134), (1361, 0.06537204504606134), (1582, 0.06537204504606134), (1925, 0.06537204504606134), (2086, 0.06537204504606134), (2116, 0.06537204504606134), (2154, 0.06537204504606134), (2502, 0.06537204504606134), (3354, 0.06537204504606134), (3609, 0.06537204504606134), (3744, 0.06537204504606134), (3832, 0.06537204504606134), (4036, 0.06537204504606134), (4194, 0.06537204504606134), (4271, 0.06537204504606134), (4312, 0.06537204504606134), (4727, 0.06537204504606134), (253, 0.06509445549041194), (246, 0.06509445549041193), (1344, 0.06509445549041193), (768, 0.06454972243679027), (1596, 0.06454972243679027), (90, 0.06415002990995841), (195, 0.06415002990995841), (216, 0.06415002990995841), (664, 0.06415002990995841), (1071, 0.06415002990995841), (1077, 0.06415002990995841), (1416, 0.06415002990995841), (1476, 0.06415002990995841), (1627, 0.06415002990995841), (2056, 0.06415002990995841), (2988, 0.06415002990995841), (3858, 0.06415002990995841), (4132, 0.06415002990995841), (4566, 0.06415002990995841), (213, 0.06401843996644799), (607, 0.06401843996644799), (755, 0.06401843996644799), (1674, 0.06401843996644799), (1655, 0.06350006350009524), (1893, 0.06350006350009524), (3615, 0.06350006350009524), (3860, 0.06350006350009524), (3903, 0.06350006350009524), (2828, 0.06327719971683327), (49, 0.0629940788348712), (152, 0.0629940788348712), (259, 0.0629940788348712), (701, 0.0629940788348712), (996, 0.0629940788348712), (1359, 0.0629940788348712), (1436, 0.0629940788348712), (1465, 0.0629940788348712), (2155, 0.0629940788348712), (2231, 0.0629940788348712), (2471, 0.0629940788348712), (2585, 0.0629940788348712), (3302, 0.0629940788348712), (3446, 0.0629940788348712), (4146, 0.0629940788348712), (4560, 0.0629940788348712), (4781, 0.0629940788348712), (224, 0.0625), (2644, 0.0625), (38, 0.062017367294604234), (8, 0.06189844605901729), (147, 0.06189844605901729), (244, 0.06189844605901729), (492, 0.06189844605901729), (678, 0.06189844605901729), (745, 0.06189844605901729), (823, 0.06189844605901729), (840, 0.06189844605901729), (1068, 0.06189844605901729), (1139, 0.06189844605901729), (1239, 0.06189844605901729), (1439, 0.06189844605901729), (1449, 0.06189844605901729), (1580, 0.06189844605901729), (1645, 0.06189844605901729), (1709, 0.06189844605901729), (2018, 0.06189844605901729), (2548, 0.06189844605901729), (2791, 0.06189844605901729), (3133, 0.06189844605901729), (3888, 0.06189844605901729), (2545, 0.06154574548966636), (2993, 0.061113233135214086), (426, 0.06108472217815261), (4305, 0.06108472217815261), (341, 0.06085806194501845), (402, 0.06085806194501845), (843, 0.06085806194501845), (844, 0.06085806194501845), (1132, 0.06085806194501845), (1259, 0.06085806194501845), (1360, 0.06085806194501845), (1552, 0.06085806194501845), (1684, 0.06085806194501845), (1764, 0.06085806194501845), (1792, 0.06085806194501845), (1989, 0.06085806194501845), (2685, 0.06085806194501845), (2820, 0.06085806194501845), (3057, 0.06085806194501845), (3179, 0.06085806194501845), (3320, 0.06085806194501845), (3363, 0.06085806194501845), (3371, 0.06085806194501845), (3924, 0.06085806194501845), (3933, 0.06085806194501845), (4270, 0.06085806194501845), (391, 0.060633906259083235), (89, 0.06060606060606061), (2186, 0.0601929265428846), (3366, 0.06011130897782882), (2, 0.05986843400892497), (117, 0.05986843400892497), (512, 0.05986843400892497), (544, 0.05986843400892497), (614, 0.05986843400892497), (1332, 0.05986843400892497), (1699, 0.05986843400892497), (1742, 0.05986843400892497), (1838, 0.05986843400892497), (2632, 0.05986843400892497), (2861, 0.05986843400892497), (3675, 0.05986843400892497), (4519, 0.05986843400892497), (610, 0.05976143046671968), (847, 0.05962847939999439), (428, 0.05892556509887897), (198, 0.05892556509887895), (235, 0.05892556509887895), (302, 0.05892556509887895), (326, 0.05892556509887895), (805, 0.05892556509887895), (1096, 0.05892556509887895), (1194, 0.05892556509887895), (1235, 0.05892556509887895), (1310, 0.05892556509887895), (2087, 0.05892556509887895), (2228, 0.05892556509887895), (4339, 0.05892556509887895), (4636, 0.05892556509887895), (4793, 0.05892556509887895), (848, 0.058520573598065284), (196, 0.05802588531856595), (366, 0.05802588531856595), (411, 0.05802588531856595), (443, 0.05802588531856595), (514, 0.05802588531856595), (741, 0.05802588531856595), (792, 0.05802588531856595), (1291, 0.05802588531856595), (1382, 0.05802588531856595), (1745, 0.05802588531856595), (1823, 0.05802588531856595), (2171, 0.05802588531856595), (2415, 0.05802588531856595), (2474, 0.05802588531856595), (3003, 0.05802588531856595), (3009, 0.05802588531856595), (3164, 0.05802588531856595), (3347, 0.05802588531856595), (3862, 0.05802588531856595), (4316, 0.05802588531856595), (4799, 0.05802588531856595), (486, 0.05773502691896257), (20, 0.05735393346764043), (2566, 0.05735393346764043), (104, 0.057166195047502935), (395, 0.057166195047502935), (449, 0.057166195047502935), (597, 0.057166195047502935), (603, 0.057166195047502935), (644, 0.057166195047502935), (672, 0.057166195047502935), (994, 0.057166195047502935), (1030, 0.057166195047502935), (1081, 0.057166195047502935), (1544, 0.057166195047502935), (1581, 0.057166195047502935), (1647, 0.057166195047502935), (1715, 0.057166195047502935), (1736, 0.057166195047502935), (1979, 0.057166195047502935), (2207, 0.057166195047502935), (2220, 0.057166195047502935), (2239, 0.057166195047502935), (2498, 0.057166195047502935), (3008, 0.057166195047502935), (3524, 0.057166195047502935), (4377, 0.057166195047502935), (116, 0.0563436169819011), (339, 0.0563436169819011), (485, 0.0563436169819011), (575, 0.0563436169819011), (646, 0.0563436169819011), (1086, 0.0563436169819011), (1395, 0.0563436169819011), (1728, 0.0563436169819011), (1909, 0.0563436169819011), (2059, 0.0563436169819011), (2124, 0.0563436169819011), (2226, 0.0563436169819011), (2296, 0.0563436169819011), (2429, 0.0563436169819011), (2688, 0.0563436169819011), (2962, 0.0563436169819011), (3135, 0.0563436169819011), (3231, 0.0563436169819011), (3345, 0.0563436169819011), (3450, 0.0563436169819011), (3803, 0.0563436169819011), (4123, 0.0563436169819011), (4329, 0.0563436169819011), (1630, 0.055901699437494734), (40, 0.05555555555555555), (291, 0.05555555555555555), (335, 0.05555555555555555), (361, 0.05555555555555555), (370, 0.05555555555555555), (540, 0.05555555555555555), (793, 0.05555555555555555), (887, 0.05555555555555555), (929, 0.05555555555555555), (1009, 0.05555555555555555), (1021, 0.05555555555555555), (1079, 0.05555555555555555), (1904, 0.05555555555555555), (2003, 0.05555555555555555), (2348, 0.05555555555555555), (2847, 0.05555555555555555), (3505, 0.05555555555555555), (3593, 0.05555555555555555), (3632, 0.05555555555555555), (3737, 0.05555555555555555), (3760, 0.05555555555555555), (3849, 0.05555555555555555), (4203, 0.05555555555555555), (4293, 0.05555555555555555), (4533, 0.05555555555555555), (4602, 0.05555555555555555), (24, 0.05479966243511909), (144, 0.05479966243511909), (185, 0.05479966243511909), (397, 0.05479966243511909), (518, 0.05479966243511909), (594, 0.05479966243511909), (617, 0.05479966243511909), (875, 0.05479966243511909), (1078, 0.05479966243511909), (1428, 0.05479966243511909), (1515, 0.05479966243511909), (1767, 0.05479966243511909), (2144, 0.05479966243511909), (2971, 0.05479966243511909), (3150, 0.05479966243511909), (3355, 0.05479966243511909), (3762, 0.05479966243511909), (4082, 0.05479966243511909), (1671, 0.05455447255899809), (115, 0.05407380704358751), (210, 0.05407380704358751), (350, 0.05407380704358751), (416, 0.05407380704358751), (731, 0.05407380704358751), (956, 0.05407380704358751), (1007, 0.05407380704358751), (1018, 0.05407380704358751), (1531, 0.05407380704358751), (1806, 0.05407380704358751), (3088, 0.05407380704358751), (3283, 0.05407380704358751), (3378, 0.05407380704358751), (2045, 0.05360562674188974), (3375, 0.05360562674188974), (163, 0.053376051268362375), (658, 0.053376051268362375), (807, 0.053376051268362375), (961, 0.053376051268362375), (1059, 0.053376051268362375), (1246, 0.053376051268362375), (1264, 0.053376051268362375), (1639, 0.053376051268362375), (2523, 0.053376051268362375), (2635, 0.053376051268362375), (2941, 0.053376051268362375), (3029, 0.053376051268362375), (78, 0.05270462766947299), (372, 0.05270462766947299), (671, 0.05270462766947299), (1588, 0.05270462766947299), (1779, 0.05270462766947299), (1796, 0.05270462766947299), (2105, 0.05270462766947299), (2397, 0.05270462766947299), (2705, 0.05270462766947299), (3078, 0.05270462766947299), (3080, 0.05270462766947299), (3227, 0.05270462766947299), (3612, 0.05270462766947299), (4244, 0.05270462766947299), (4281, 0.05270462766947299), (4369, 0.05270462766947299), (4453, 0.05270462766947299), (4596, 0.05270462766947299), (4624, 0.05270462766947299), (4777, 0.05270462766947299), (4802, 0.05270462766947299), (379, 0.05270462766947298), (113, 0.052057920629535355), (225, 0.052057920629535355), (340, 0.052057920629535355), (430, 0.052057920629535355), (480, 0.052057920629535355), (637, 0.052057920629535355), (804, 0.052057920629535355), (1365, 0.052057920629535355), (1729, 0.052057920629535355), (1892, 0.052057920629535355), (2083, 0.052057920629535355), (2552, 0.052057920629535355), (2573, 0.052057920629535355), (2653, 0.052057920629535355), (2767, 0.052057920629535355), (2954, 0.052057920629535355), (3011, 0.052057920629535355), (3064, 0.052057920629535355), (3188, 0.052057920629535355), (3253, 0.052057920629535355), (3799, 0.052057920629535355), (114, 0.05143444998736397), (423, 0.05143444998736397), (523, 0.05143444998736397), (666, 0.05143444998736397), (788, 0.05143444998736397), (932, 0.05143444998736397), (1036, 0.05143444998736397), (2298, 0.05143444998736397), (2860, 0.05143444998736397), (3298, 0.05143444998736397), (3804, 0.05143444998736397), (4382, 0.05143444998736397), (69, 0.051298917604257706), (1424, 0.05103103630798288), (15, 0.050832856777534886), (175, 0.050832856777534886), (191, 0.050832856777534886), (240, 0.050832856777534886), (583, 0.050832856777534886), (647, 0.050832856777534886), (675, 0.050832856777534886), (1143, 0.050832856777534886), (1467, 0.050832856777534886), (1798, 0.050832856777534886), (2211, 0.050832856777534886), (2901, 0.050832856777534886), (3013, 0.050832856777534886), (3935, 0.050832856777534886), (140, 0.050251890762960605), (383, 0.050251890762960605), (531, 0.050251890762960605), (640, 0.050251890762960605), (683, 0.050251890762960605), (688, 0.050251890762960605), (750, 0.050251890762960605), (803, 0.050251890762960605), (897, 0.050251890762960605), (963, 0.050251890762960605), (1001, 0.050251890762960605), (1073, 0.050251890762960605), (1184, 0.050251890762960605), (1270, 0.050251890762960605), (1279, 0.050251890762960605), (1496, 0.050251890762960605), (1579, 0.050251890762960605), (1953, 0.050251890762960605), (2031, 0.050251890762960605), (2372, 0.050251890762960605), (2676, 0.050251890762960605), (2846, 0.050251890762960605), (3023, 0.050251890762960605), (3303, 0.050251890762960605), (3495, 0.050251890762960605), (3718, 0.050251890762960605), (3753, 0.050251890762960605), (3886, 0.050251890762960605), (3990, 0.050251890762960605), (4050, 0.050251890762960605), (4061, 0.050251890762960605), (4528, 0.050251890762960605), (2345, 0.04975185951049945), (93, 0.049690399499995326), (289, 0.049690399499995326), (331, 0.049690399499995326), (629, 0.049690399499995326), (734, 0.049690399499995326), (767, 0.049690399499995326), (831, 0.049690399499995326), (833, 0.049690399499995326), (834, 0.049690399499995326), (888, 0.049690399499995326), (1283, 0.049690399499995326), (1534, 0.049690399499995326), (1652, 0.049690399499995326), (1726, 0.049690399499995326), (1744, 0.049690399499995326), (1998, 0.049690399499995326), (2354, 0.049690399499995326), (2748, 0.049690399499995326), (4101, 0.049690399499995326), (4672, 0.049690399499995326), (53, 0.04914731871829904), (165, 0.04914731871829904), (735, 0.04914731871829904), (1599, 0.04914731871829904), (2205, 0.04914731871829904), (2301, 0.04914731871829904), (2488, 0.04914731871829904), (2772, 0.04914731871829904), (3037, 0.04914731871829904), (3412, 0.04914731871829904), (4178, 0.04914731871829904), (4512, 0.04914731871829904), (555, 0.049029033784546004), (3808, 0.049029033784546004), (470, 0.048621663832631515), (770, 0.048621663832631515), (806, 0.048621663832631515), (1453, 0.048621663832631515), (1528, 0.048621663832631515), (1759, 0.048621663832631515), (3398, 0.048621663832631515), (3879, 0.048621663832631515), (4399, 0.048621663832631515), (119, 0.048112522432468816), (376, 0.048112522432468816), (584, 0.048112522432468816), (979, 0.048112522432468816), (1527, 0.048112522432468816), (1864, 0.048112522432468816), (1958, 0.048112522432468816), (2196, 0.048112522432468816), (2311, 0.048112522432468816), (2525, 0.048112522432468816), (2659, 0.048112522432468816), (2938, 0.048112522432468816), (3016, 0.048112522432468816), (3178, 0.048112522432468816), (3200, 0.048112522432468816), (3273, 0.048112522432468816), (3467, 0.048112522432468816), (3503, 0.048112522432468816), (3652, 0.048112522432468816), (3883, 0.048112522432468816), (3894, 0.048112522432468816), (3921, 0.048112522432468816), (4060, 0.048112522432468816), (4259, 0.048112522432468816), (4375, 0.048112522432468816), (4597, 0.048112522432468816), (4757, 0.048112522432468816), (3795, 0.04789131426105757), (297, 0.047619047619047616), (442, 0.047619047619047616), (1085, 0.047619047619047616), (1138, 0.047619047619047616), (1455, 0.047619047619047616), (3331, 0.047619047619047616), (3342, 0.047619047619047616), (13, 0.04714045207910317), (197, 0.04714045207910317), (578, 0.04714045207910317), (609, 0.04714045207910317), (645, 0.04714045207910317), (1041, 0.04714045207910317), (1110, 0.04714045207910317), (1119, 0.04714045207910317), (1755, 0.04714045207910317), (2516, 0.04714045207910317), (2754, 0.04714045207910317), (2798, 0.04714045207910317), (3172, 0.04714045207910317), (4158, 0.04714045207910317), (458, 0.046676002800933654), (990, 0.046676002800933654), (1153, 0.046676002800933654), (1844, 0.046676002800933654), (1997, 0.046676002800933654), (2158, 0.046676002800933654), (2508, 0.046676002800933654), (2736, 0.046676002800933654), (3264, 0.046676002800933654), (4384, 0.046676002800933654), (58, 0.046225016352102424), (248, 0.046225016352102424), (864, 0.046225016352102424), (873, 0.046225016352102424), (1026, 0.046225016352102424), (1526, 0.046225016352102424), (1694, 0.046225016352102424), (1818, 0.046225016352102424), (2081, 0.046225016352102424), (2209, 0.046225016352102424), (3156, 0.046225016352102424), (3266, 0.046225016352102424), (3424, 0.046225016352102424), (3460, 0.046225016352102424), (3947, 0.046225016352102424), (3976, 0.046225016352102424), (3986, 0.046225016352102424), (4034, 0.046225016352102424), (4073, 0.046225016352102424), (4279, 0.046225016352102424), (4333, 0.046225016352102424), (4587, 0.046225016352102424), (718, 0.04578685464956301), (1672, 0.04578685464956301), (1673, 0.04578685464956301), (1763, 0.04578685464956301), (2315, 0.04578685464956301), (3296, 0.04578685464956301), (3492, 0.04578685464956301), (217, 0.045360921162651446), (560, 0.045360921162651446), (565, 0.045360921162651446), (1589, 0.045360921162651446), (1771, 0.045360921162651446), (2400, 0.045360921162651446), (2501, 0.045360921162651446), (4152, 0.045360921162651446), (586, 0.044946657497549475), (1201, 0.044946657497549475), (1375, 0.044946657497549475), (1809, 0.044946657497549475), (1988, 0.044946657497549475), (2418, 0.044946657497549475), (3015, 0.044946657497549475), (132, 0.0445435403187374), (602, 0.0445435403187374), (774, 0.0445435403187374), (816, 0.0445435403187374), (891, 0.0445435403187374), (1102, 0.0445435403187374), (1378, 0.0445435403187374), (1853, 0.0445435403187374), (1858, 0.0445435403187374), (1980, 0.0445435403187374), (2606, 0.0445435403187374), (2643, 0.0445435403187374), (2912, 0.0445435403187374), (2964, 0.0445435403187374), (3004, 0.0445435403187374), (3068, 0.0445435403187374), (3124, 0.0445435403187374), (3128, 0.0445435403187374), (3144, 0.0445435403187374), (3157, 0.0445435403187374), (3361, 0.0445435403187374), (3689, 0.0445435403187374), (3726, 0.0445435403187374), (3852, 0.0445435403187374), (3912, 0.0445435403187374), (4362, 0.0445435403187374), (4542, 0.0445435403187374), (4555, 0.0445435403187374), (4564, 0.0445435403187374), (4643, 0.0445435403187374), (4646, 0.0445435403187374), (4742, 0.0445435403187374), (4784, 0.0445435403187374), (106, 0.044151078568834795), (710, 0.044151078568834795), (733, 0.044151078568834795), (969, 0.044151078568834795), (980, 0.044151078568834795), (2363, 0.044151078568834795), (3484, 0.044151078568834795), (374, 0.043768810953240846), (551, 0.043768810953240846), (861, 0.043768810953240846), (2019, 0.043768810953240846), (2191, 0.043768810953240846), (2725, 0.043768810953240846), (4075, 0.043768810953240846), (1101, 0.043396303660274624), (2050, 0.043396303660274624), (2563, 0.043396303660274624), (4559, 0.043396303660274624), (218, 0.043033148291193514), (1019, 0.043033148291193514), (1249, 0.043033148291193514), (1306, 0.043033148291193514), (1433, 0.043033148291193514), (2057, 0.043033148291193514), (2169, 0.043033148291193514), (2174, 0.043033148291193514), (2670, 0.043033148291193514), (2720, 0.043033148291193514), (2760, 0.043033148291193514), (2866, 0.043033148291193514), (2873, 0.043033148291193514), (2889, 0.043033148291193514), (2973, 0.043033148291193514), (3232, 0.043033148291193514), (3611, 0.043033148291193514), (3729, 0.043033148291193514), (3960, 0.043033148291193514), (4241, 0.043033148291193514), (4365, 0.043033148291193514), (4607, 0.043033148291193514), (4635, 0.043033148291193514), (1781, 0.04267895997763199), (3226, 0.04267895997763199), (375, 0.042333375666730164), (1118, 0.041996052556580794), (1128, 0.041996052556580794), (2146, 0.041996052556580794), (3581, 0.041996052556580794), (251, 0.041666666666666664), (866, 0.041666666666666664), (1031, 0.041666666666666664), (1181, 0.041666666666666664), (1268, 0.041666666666666664), (1358, 0.041666666666666664), (1417, 0.041666666666666664), (1626, 0.041666666666666664), (1965, 0.041666666666666664), (1982, 0.041666666666666664), (2704, 0.041666666666666664), (2776, 0.041666666666666664), (3301, 0.041666666666666664), (3376, 0.041666666666666664), (3522, 0.041666666666666664), (3526, 0.041666666666666664), (3751, 0.041666666666666664), (4010, 0.041666666666666664), (4024, 0.041666666666666664), (4042, 0.041666666666666664), (4129, 0.041666666666666664), (4429, 0.041666666666666664), (4573, 0.041666666666666664), (4594, 0.041666666666666664), (4771, 0.041666666666666664), (1537, 0.041344911529736156), (1605, 0.041344911529736156), (299, 0.041030496993110906), (2918, 0.041030496993110906), (4330, 0.041030496993110906), (1133, 0.040723148118768406), (2425, 0.040723148118768406), (2786, 0.040723148118768406), (44, 0.04042260417272216), (858, 0.04042260417272216), (1008, 0.04042260417272216), (1104, 0.04042260417272216), (1191, 0.04042260417272216), (1207, 0.04042260417272216), (1460, 0.04042260417272216), (1474, 0.04042260417272216), (1609, 0.04042260417272216), (1921, 0.04042260417272216), (1935, 0.04042260417272216), (1939, 0.04042260417272216), (2293, 0.04042260417272216), (2388, 0.04042260417272216), (2412, 0.04042260417272216), (2500, 0.04042260417272216), (2554, 0.04042260417272216), (2826, 0.04042260417272216), (2857, 0.04042260417272216), (2894, 0.04042260417272216), (3117, 0.04042260417272216), (3225, 0.04042260417272216), (3286, 0.04042260417272216), (3306, 0.04042260417272216), (3418, 0.04042260417272216), (3475, 0.04042260417272216), (3494, 0.04042260417272216), (3511, 0.04042260417272216), (3840, 0.04042260417272216), (3916, 0.04042260417272216), (3919, 0.04042260417272216), (3953, 0.04042260417272216), (4074, 0.04042260417272216), (4246, 0.04042260417272216), (4300, 0.04042260417272216), (4368, 0.04042260417272216), (4390, 0.04042260417272216), (424, 0.0401286176952564), (1422, 0.0401286176952564), (1739, 0.0401286176952564), (186, 0.03984095364447979), (542, 0.03984095364447979), (950, 0.03984095364447979), (296, 0.03955938860646177), (355, 0.03955938860646177), (3, 0.03928371006591931), (435, 0.03928371006591931), (478, 0.03928371006591931), (598, 0.03928371006591931), (967, 0.03928371006591931), (993, 0.03928371006591931), (1226, 0.03928371006591931), (1318, 0.03928371006591931), (1381, 0.03928371006591931), (1472, 0.03928371006591931), (1498, 0.03928371006591931), (1549, 0.03928371006591931), (1573, 0.03928371006591931), (1741, 0.03928371006591931), (1753, 0.03928371006591931), (1897, 0.03928371006591931), (1952, 0.03928371006591931), (2278, 0.03928371006591931), (2349, 0.03928371006591931), (2390, 0.03928371006591931), (2475, 0.03928371006591931), (2604, 0.03928371006591931), (2768, 0.03928371006591931), (2933, 0.03928371006591931), (2948, 0.03928371006591931), (3045, 0.03928371006591931), (3075, 0.03928371006591931), (3165, 0.03928371006591931), (3395, 0.03928371006591931), (3481, 0.03928371006591931), (3518, 0.03928371006591931), (3690, 0.03928371006591931), (3767, 0.03928371006591931), (4128, 0.03928371006591931), (4204, 0.03928371006591931), (4314, 0.03928371006591931), (4332, 0.03928371006591931), (4400, 0.03928371006591931), (4460, 0.03928371006591931), (4463, 0.03928371006591931), (4557, 0.03928371006591931), (1473, 0.03901371573204352), (1548, 0.038749212914606423), (4582, 0.038749212914606423), (2066, 0.03849001794597504), (25, 0.03823595564509362), (209, 0.03823595564509362), (613, 0.03823595564509362), (739, 0.03823595564509362), (748, 0.03823595564509362), (1172, 0.03823595564509362), (1778, 0.03823595564509362), (1785, 0.03823595564509362), (2034, 0.03823595564509362), (2365, 0.03823595564509362), (2441, 0.03823595564509362), (2453, 0.03823595564509362), (2549, 0.03823595564509362), (2581, 0.03823595564509362), (2667, 0.03823595564509362), (2668, 0.03823595564509362), (2779, 0.03823595564509362), (3099, 0.03823595564509362), (3101, 0.03823595564509362), (3115, 0.03823595564509362), (3205, 0.03823595564509362), (3217, 0.03823595564509362), (3445, 0.03823595564509362), (3595, 0.03823595564509362), (3625, 0.03823595564509362), (3889, 0.03823595564509362), (4135, 0.03823595564509362), (4554, 0.03823595564509362), (4604, 0.03823595564509362), (4767, 0.03823595564509362), (1307, 0.037986858819879316), (2342, 0.037986858819879316), (2111, 0.037502930030867465), (3946, 0.037502930030867465), (73, 0.03726779962499649), (685, 0.03726779962499649), (751, 0.03726779962499649), (796, 0.03726779962499649), (1312, 0.03726779962499649), (1540, 0.03726779962499649), (1719, 0.03726779962499649), (1907, 0.03726779962499649), (1944, 0.03726779962499649), (2113, 0.03726779962499649), (2295, 0.03726779962499649), (2304, 0.03726779962499649), (2338, 0.03726779962499649), (2717, 0.03726779962499649), (2733, 0.03726779962499649), (2803, 0.03726779962499649), (2868, 0.03726779962499649), (2980, 0.03726779962499649), (3079, 0.03726779962499649), (3221, 0.03726779962499649), (3540, 0.03726779962499649), (3546, 0.03726779962499649), (3706, 0.03726779962499649), (3714, 0.03726779962499649), (3861, 0.03726779962499649), (3927, 0.03726779962499649), (3969, 0.03726779962499649), (3970, 0.03726779962499649), (3977, 0.03726779962499649), (4028, 0.03726779962499649), (4130, 0.03726779962499649), (4193, 0.03726779962499649), (4351, 0.03726779962499649), (4535, 0.03726779962499649), (601, 0.036588086663230115), (657, 0.036588086663230115), (162, 0.036369648372665396), (418, 0.036369648372665396), (506, 0.036369648372665396), (561, 0.036369648372665396), (1042, 0.036369648372665396), (1060, 0.036369648372665396), (1151, 0.036369648372665396), (1434, 0.036369648372665396), (1485, 0.036369648372665396), (1516, 0.036369648372665396), (1590, 0.036369648372665396), (1666, 0.036369648372665396), (1677, 0.036369648372665396), (1703, 0.036369648372665396), (2061, 0.036369648372665396), (2190, 0.036369648372665396), (2195, 0.036369648372665396), (2229, 0.036369648372665396), (2431, 0.036369648372665396), (2439, 0.036369648372665396), (2459, 0.036369648372665396), (2683, 0.036369648372665396), (2804, 0.036369648372665396), (2888, 0.036369648372665396), (2923, 0.036369648372665396), (2935, 0.036369648372665396), (3066, 0.036369648372665396), (3174, 0.036369648372665396), (3199, 0.036369648372665396), (3334, 0.036369648372665396), (3410, 0.036369648372665396), (3455, 0.036369648372665396), (3601, 0.036369648372665396), (3648, 0.036369648372665396), (3824, 0.036369648372665396), (4023, 0.036369648372665396), (4027, 0.036369648372665396), (4064, 0.036369648372665396), (4202, 0.036369648372665396), (4611, 0.036369648372665396), (4632, 0.036369648372665396), (4700, 0.036369648372665396), (4703, 0.036369648372665396), (4741, 0.036369648372665396), (1057, 0.03615507630310936), (727, 0.03594425773447947), (310, 0.03553345272593507), (459, 0.03553345272593507), (669, 0.03553345272593507), (826, 0.03553345272593507), (878, 0.03553345272593507), (914, 0.03553345272593507), (1289, 0.03553345272593507), (1296, 0.03553345272593507), (1333, 0.03553345272593507), (1454, 0.03553345272593507), (1521, 0.03553345272593507), (1565, 0.03553345272593507), (1614, 0.03553345272593507), (1800, 0.03553345272593507), (2181, 0.03553345272593507), (2263, 0.03553345272593507), (2402, 0.03553345272593507), (2652, 0.03553345272593507), (2678, 0.03553345272593507), (2757, 0.03553345272593507), (2832, 0.03553345272593507), (2937, 0.03553345272593507), (3211, 0.03553345272593507), (3304, 0.03553345272593507), (3500, 0.03553345272593507), (3740, 0.03553345272593507), (3797, 0.03553345272593507), (4218, 0.03553345272593507), (4226, 0.03553345272593507), (4324, 0.03553345272593507), (4642, 0.03553345272593507), (2807, 0.03544406025041679), (1446, 0.03533326266687867), (3507, 0.03494282789073061), (54, 0.034752402342845795), (161, 0.034752402342845795), (408, 0.034752402342845795), (463, 0.034752402342845795), (590, 0.034752402342845795), (638, 0.034752402342845795), (716, 0.034752402342845795), (989, 0.034752402342845795), (1124, 0.034752402342845795), (1217, 0.034752402342845795), (1302, 0.034752402342845795), (1419, 0.034752402342845795), (1444, 0.034752402342845795), (1490, 0.034752402342845795), (1681, 0.034752402342845795), (1877, 0.034752402342845795), (1882, 0.034752402342845795), (1895, 0.034752402342845795), (2011, 0.034752402342845795), (2063, 0.034752402342845795), (2072, 0.034752402342845795), (2109, 0.034752402342845795), (2140, 0.034752402342845795), (2214, 0.034752402342845795), (2224, 0.034752402342845795), (2560, 0.034752402342845795), (2562, 0.034752402342845795), (2739, 0.034752402342845795), (2842, 0.034752402342845795), (2850, 0.034752402342845795), (2917, 0.034752402342845795), (3058, 0.034752402342845795), (3155, 0.034752402342845795), (3214, 0.034752402342845795), (3287, 0.034752402342845795), (3899, 0.034752402342845795), (4092, 0.034752402342845795), (4421, 0.034752402342845795), (4319, 0.03456505649101417), (80, 0.034020690871988585), (137, 0.034020690871988585), (202, 0.034020690871988585), (359, 0.034020690871988585), (417, 0.034020690871988585), (484, 0.034020690871988585), (681, 0.034020690871988585), (742, 0.034020690871988585), (783, 0.034020690871988585), (903, 0.034020690871988585), (957, 0.034020690871988585), (1033, 0.034020690871988585), (1053, 0.034020690871988585), (1066, 0.034020690871988585), (1348, 0.034020690871988585), (1477, 0.034020690871988585), (1656, 0.034020690871988585), (1664, 0.034020690871988585), (1801, 0.034020690871988585), (1839, 0.034020690871988585), (1845, 0.034020690871988585), (1967, 0.034020690871988585), (2015, 0.034020690871988585), (2097, 0.034020690871988585), (2230, 0.034020690871988585), (2305, 0.034020690871988585), (2327, 0.034020690871988585), (2364, 0.034020690871988585), (2596, 0.034020690871988585), (2711, 0.034020690871988585), (2747, 0.034020690871988585), (3108, 0.034020690871988585), (3146, 0.034020690871988585), (3149, 0.034020690871988585), (3238, 0.034020690871988585), (3314, 0.034020690871988585), (3336, 0.034020690871988585), (3419, 0.034020690871988585), (3454, 0.034020690871988585), (3655, 0.034020690871988585), (3670, 0.034020690871988585), (3749, 0.034020690871988585), (3885, 0.034020690871988585), (3898, 0.034020690871988585), (3944, 0.034020690871988585), (3975, 0.034020690871988585), (4182, 0.034020690871988585), (4191, 0.034020690871988585), (4282, 0.034020690871988585), (4408, 0.034020690871988585), (4485, 0.034020690871988585), (4652, 0.034020690871988585), (4666, 0.034020690871988585), (3949, 0.03367175148507369), (912, 0.03333333333333333), (971, 0.03333333333333333), (991, 0.03333333333333333), (1014, 0.03333333333333333), (1105, 0.03333333333333333), (1112, 0.03333333333333333), (1175, 0.03333333333333333), (1186, 0.03333333333333333), (1437, 0.03333333333333333), (1575, 0.03333333333333333), (1746, 0.03333333333333333), (1799, 0.03333333333333333), (1836, 0.03333333333333333), (1898, 0.03333333333333333), (1946, 0.03333333333333333), (1960, 0.03333333333333333), (2279, 0.03333333333333333), (2312, 0.03333333333333333), (2323, 0.03333333333333333), (2367, 0.03333333333333333), (2451, 0.03333333333333333), (2654, 0.03333333333333333), (2789, 0.03333333333333333), (3084, 0.03333333333333333), (3134, 0.03333333333333333), (3465, 0.03333333333333333), (3981, 0.03333333333333333), (4105, 0.03333333333333333), (4110, 0.03333333333333333), (4200, 0.03333333333333333), (4292, 0.03333333333333333), (4482, 0.03333333333333333), (599, 0.03316790634033297), (2138, 0.03300491809922248), (133, 0.03268602252303067), (154, 0.03268602252303067), (269, 0.03268602252303067), (320, 0.03268602252303067), (323, 0.03268602252303067), (414, 0.03268602252303067), (433, 0.03268602252303067), (615, 0.03268602252303067), (676, 0.03268602252303067), (721, 0.03268602252303067), (736, 0.03268602252303067), (769, 0.03268602252303067), (880, 0.03268602252303067), (974, 0.03268602252303067), (1082, 0.03268602252303067), (1564, 0.03268602252303067), (1720, 0.03268602252303067), (2038, 0.03268602252303067), (2151, 0.03268602252303067), (2223, 0.03268602252303067), (2396, 0.03268602252303067), (2443, 0.03268602252303067), (2611, 0.03268602252303067), (2615, 0.03268602252303067), (2714, 0.03268602252303067), (2920, 0.03268602252303067), (3073, 0.03268602252303067), (3185, 0.03268602252303067), (3284, 0.03268602252303067), (3635, 0.03268602252303067), (3704, 0.03268602252303067), (3710, 0.03268602252303067), (3759, 0.03268602252303067), (3782, 0.03268602252303067), (3817, 0.03268602252303067), (3855, 0.03268602252303067), (3922, 0.03268602252303067), (3966, 0.03268602252303067), (3985, 0.03268602252303067), (3993, 0.03268602252303067), (4139, 0.03268602252303067), (4434, 0.03268602252303067), (4570, 0.03268602252303067), (4667, 0.03268602252303067), (4744, 0.03268602252303067), (384, 0.032075014954979206), (559, 0.032075014954979206), (762, 0.032075014954979206), (818, 0.032075014954979206), (863, 0.032075014954979206), (1050, 0.032075014954979206), (1261, 0.032075014954979206), (1311, 0.032075014954979206), (1584, 0.032075014954979206), (1592, 0.032075014954979206), (1631, 0.032075014954979206), (2123, 0.032075014954979206), (2227, 0.032075014954979206), (2344, 0.032075014954979206), (2457, 0.032075014954979206), (2482, 0.032075014954979206), (2839, 0.032075014954979206), (2913, 0.032075014954979206), (2936, 0.032075014954979206), (3032, 0.032075014954979206), (3116, 0.032075014954979206), (3255, 0.032075014954979206), (3260, 0.032075014954979206), (3315, 0.032075014954979206), (3360, 0.032075014954979206), (3707, 0.032075014954979206), (3768, 0.032075014954979206), (3776, 0.032075014954979206), (4021, 0.032075014954979206), (4083, 0.032075014954979206), (4164, 0.032075014954979206), (4402, 0.032075014954979206), (4459, 0.032075014954979206), (4618, 0.032075014954979206), (4661, 0.032075014954979206), (4680, 0.032075014954979206), (4699, 0.032075014954979206), (4775, 0.032075014954979206), (130, 0.0314970394174356), (293, 0.0314970394174356), (452, 0.0314970394174356), (553, 0.0314970394174356), (625, 0.0314970394174356), (648, 0.0314970394174356), (853, 0.0314970394174356), (941, 0.0314970394174356), (1179, 0.0314970394174356), (1336, 0.0314970394174356), (1351, 0.0314970394174356), (1387, 0.0314970394174356), (1410, 0.0314970394174356), (1421, 0.0314970394174356), (1488, 0.0314970394174356), (1670, 0.0314970394174356), (1716, 0.0314970394174356), (1850, 0.0314970394174356), (1866, 0.0314970394174356), (2106, 0.0314970394174356), (2134, 0.0314970394174356), (2389, 0.0314970394174356), (2409, 0.0314970394174356), (2534, 0.0314970394174356), (2686, 0.0314970394174356), (2722, 0.0314970394174356), (2810, 0.0314970394174356), (3012, 0.0314970394174356), (3230, 0.0314970394174356), (3351, 0.0314970394174356), (3598, 0.0314970394174356), (3778, 0.0314970394174356), (3783, 0.0314970394174356), (3915, 0.0314970394174356), (3954, 0.0314970394174356), (4089, 0.0314970394174356), (4313, 0.0314970394174356), (4754, 0.0314970394174356), (4761, 0.0314970394174356), (4790, 0.0314970394174356), (64, 0.030949223029508643), (344, 0.030949223029508643), (392, 0.030949223029508643), (401, 0.030949223029508643), (405, 0.030949223029508643), (764, 0.030949223029508643), (869, 0.030949223029508643), (917, 0.030949223029508643), (982, 0.030949223029508643), (1027, 0.030949223029508643), (1062, 0.030949223029508643), (1063, 0.030949223029508643), (1349, 0.030949223029508643), (1400, 0.030949223029508643), (1427, 0.030949223029508643), (1511, 0.030949223029508643), (1722, 0.030949223029508643), (1756, 0.030949223029508643), (1812, 0.030949223029508643), (1846, 0.030949223029508643), (1933, 0.030949223029508643), (2040, 0.030949223029508643), (2202, 0.030949223029508643), (2461, 0.030949223029508643), (2496, 0.030949223029508643), (2531, 0.030949223029508643), (2542, 0.030949223029508643), (2570, 0.030949223029508643), (2684, 0.030949223029508643), (2916, 0.030949223029508643), (2925, 0.030949223029508643), (2942, 0.030949223029508643), (3261, 0.030949223029508643), (3262, 0.030949223029508643), (3394, 0.030949223029508643), (3436, 0.030949223029508643), (3514, 0.030949223029508643), (3547, 0.030949223029508643), (3743, 0.030949223029508643), (4063, 0.030949223029508643), (4117, 0.030949223029508643), (4232, 0.030949223029508643), (4327, 0.030949223029508643), (4349, 0.030949223029508643), (4549, 0.030949223029508643), (4575, 0.030949223029508643), (4629, 0.030949223029508643), (4664, 0.030949223029508643), (176, 0.030429030972509225), (333, 0.030429030972509225), (439, 0.030429030972509225), (700, 0.030429030972509225), (987, 0.030429030972509225), (1098, 0.030429030972509225), (1147, 0.030429030972509225), (1285, 0.030429030972509225), (1456, 0.030429030972509225), (1461, 0.030429030972509225), (1663, 0.030429030972509225), (1899, 0.030429030972509225), (1924, 0.030429030972509225), (2118, 0.030429030972509225), (2185, 0.030429030972509225), (2262, 0.030429030972509225), (2291, 0.030429030972509225), (2351, 0.030429030972509225), (2855, 0.030429030972509225), (3072, 0.030429030972509225), (3129, 0.030429030972509225), (3193, 0.030429030972509225), (3337, 0.030429030972509225), (3367, 0.030429030972509225), (3401, 0.030429030972509225), (3442, 0.030429030972509225), (3845, 0.030429030972509225), (4413, 0.030429030972509225), (4720, 0.030429030972509225), (4752, 0.030429030972509225), (4773, 0.030429030972509225), (272, 0.029934217004462485), (282, 0.029934217004462485), (441, 0.029934217004462485), (468, 0.029934217004462485), (482, 0.029934217004462485), (567, 0.029934217004462485), (756, 0.029934217004462485), (830, 0.029934217004462485), (1227, 0.029934217004462485), (1241, 0.029934217004462485), (1418, 0.029934217004462485), (1481, 0.029934217004462485), (1659, 0.029934217004462485), (1727, 0.029934217004462485), (1808, 0.029934217004462485), (1855, 0.029934217004462485), (1881, 0.029934217004462485), (1884, 0.029934217004462485), (1902, 0.029934217004462485), (1956, 0.029934217004462485), (2257, 0.029934217004462485), (2326, 0.029934217004462485), (2662, 0.029934217004462485), (2806, 0.029934217004462485), (2854, 0.029934217004462485), (2970, 0.029934217004462485), (3069, 0.029934217004462485), (3181, 0.029934217004462485), (3249, 0.029934217004462485), (3291, 0.029934217004462485), (3327, 0.029934217004462485), (3340, 0.029934217004462485), (3771, 0.029934217004462485), (3843, 0.029934217004462485), (3951, 0.029934217004462485), (4111, 0.029934217004462485), (4112, 0.029934217004462485), (4209, 0.029934217004462485), (4536, 0.029934217004462485), (4569, 0.029934217004462485), (4669, 0.029934217004462485), (4691, 0.029934217004462485), (4693, 0.029934217004462485), (4731, 0.029934217004462485), (226, 0.029462782549439476), (352, 0.029462782549439476), (761, 0.029462782549439476), (934, 0.029462782549439476), (964, 0.029462782549439476), (1022, 0.029462782549439476), (1129, 0.029462782549439476), (1322, 0.029462782549439476), (1402, 0.029462782549439476), (1486, 0.029462782549439476), (1562, 0.029462782549439476), (1642, 0.029462782549439476), (1833, 0.029462782549439476), (1929, 0.029462782549439476), (1947, 0.029462782549439476), (2020, 0.029462782549439476), (2168, 0.029462782549439476), (2175, 0.029462782549439476), (2192, 0.029462782549439476), (2333, 0.029462782549439476), (2343, 0.029462782549439476), (2445, 0.029462782549439476), (2510, 0.029462782549439476), (2628, 0.029462782549439476), (2755, 0.029462782549439476), (2811, 0.029462782549439476), (2822, 0.029462782549439476), (2890, 0.029462782549439476), (2927, 0.029462782549439476), (2951, 0.029462782549439476), (2982, 0.029462782549439476), (3162, 0.029462782549439476), (3510, 0.029462782549439476), (3645, 0.029462782549439476), (3761, 0.029462782549439476), (4035, 0.029462782549439476), (4037, 0.029462782549439476), (4166, 0.029462782549439476), (4238, 0.029462782549439476), (4406, 0.029462782549439476), (4420, 0.029462782549439476), (4540, 0.029462782549439476), (99, 0.029012942659282975), (171, 0.029012942659282975), (265, 0.029012942659282975), (327, 0.029012942659282975), (427, 0.029012942659282975), (690, 0.029012942659282975), (753, 0.029012942659282975), (871, 0.029012942659282975), (882, 0.029012942659282975), (883, 0.029012942659282975), (1197, 0.029012942659282975), (1593, 0.029012942659282975), (1608, 0.029012942659282975), (1862, 0.029012942659282975), (2073, 0.029012942659282975), (2128, 0.029012942659282975), (2130, 0.029012942659282975), (2198, 0.029012942659282975), (2495, 0.029012942659282975), (2658, 0.029012942659282975), (2702, 0.029012942659282975), (2744, 0.029012942659282975), (2875, 0.029012942659282975), (3022, 0.029012942659282975), (3051, 0.029012942659282975), (3062, 0.029012942659282975), (3098, 0.029012942659282975), (3316, 0.029012942659282975), (3384, 0.029012942659282975), (3470, 0.029012942659282975), (3501, 0.029012942659282975), (3532, 0.029012942659282975), (3660, 0.029012942659282975), (4007, 0.029012942659282975), (4248, 0.029012942659282975), (4341, 0.029012942659282975), (4510, 0.029012942659282975), (4589, 0.029012942659282975), (4675, 0.029012942659282975), (57, 0.028583097523751468), (214, 0.028583097523751468), (303, 0.028583097523751468), (437, 0.028583097523751468), (521, 0.028583097523751468), (556, 0.028583097523751468), (576, 0.028583097523751468), (588, 0.028583097523751468), (810, 0.028583097523751468), (837, 0.028583097523751468), (862, 0.028583097523751468), (1032, 0.028583097523751468), (1196, 0.028583097523751468), (1245, 0.028583097523751468), (1691, 0.028583097523751468), (1735, 0.028583097523751468), (1817, 0.028583097523751468), (1964, 0.028583097523751468), (2062, 0.028583097523751468), (2156, 0.028583097523751468), (2160, 0.028583097523751468), (2180, 0.028583097523751468), (2265, 0.028583097523751468), (2416, 0.028583097523751468), (2601, 0.028583097523751468), (2699, 0.028583097523751468), (2859, 0.028583097523751468), (2899, 0.028583097523751468), (3147, 0.028583097523751468), (3166, 0.028583097523751468), (3167, 0.028583097523751468), (3220, 0.028583097523751468), (3281, 0.028583097523751468), (3285, 0.028583097523751468), (3541, 0.028583097523751468), (3644, 0.028583097523751468), (3669, 0.028583097523751468), (3742, 0.028583097523751468), (3846, 0.028583097523751468), (4076, 0.028583097523751468), (4107, 0.028583097523751468), (4149, 0.028583097523751468), (4211, 0.028583097523751468), (4543, 0.028583097523751468), (4674, 0.028583097523751468), (60, 0.02817180849095055), (390, 0.02817180849095055), (438, 0.02817180849095055), (445, 0.02817180849095055), (500, 0.02817180849095055), (545, 0.02817180849095055), (550, 0.02817180849095055), (636, 0.02817180849095055), (955, 0.02817180849095055), (1044, 0.02817180849095055), (1445, 0.02817180849095055), (1502, 0.02817180849095055), (1784, 0.02817180849095055), (1788, 0.02817180849095055), (1795, 0.02817180849095055), (2024, 0.02817180849095055), (2718, 0.02817180849095055), (2773, 0.02817180849095055), (2825, 0.02817180849095055), (2929, 0.02817180849095055), (2952, 0.02817180849095055), (3035, 0.02817180849095055), (3318, 0.02817180849095055), (3386, 0.02817180849095055), (3555, 0.02817180849095055), (3733, 0.02817180849095055), (3809, 0.02817180849095055), (3876, 0.02817180849095055), (3902, 0.02817180849095055), (3914, 0.02817180849095055), (4207, 0.02817180849095055), (4422, 0.02817180849095055), (4707, 0.02817180849095055), (380, 0.027777777777777776), (440, 0.027777777777777776), (460, 0.027777777777777776), (828, 0.027777777777777776), (855, 0.027777777777777776), (1163, 0.027777777777777776), (1168, 0.027777777777777776), (1258, 0.027777777777777776), (1384, 0.027777777777777776), (1577, 0.027777777777777776), (1618, 0.027777777777777776), (1690, 0.027777777777777776), (1807, 0.027777777777777776), (1971, 0.027777777777777776), (2410, 0.027777777777777776), (2414, 0.027777777777777776), (2770, 0.027777777777777776), (2795, 0.027777777777777776), (2957, 0.027777777777777776), (3142, 0.027777777777777776), (3203, 0.027777777777777776), (3235, 0.027777777777777776), (3282, 0.027777777777777776), (3356, 0.027777777777777776), (3438, 0.027777777777777776), (3745, 0.027777777777777776), (3788, 0.027777777777777776), (3834, 0.027777777777777776), (3932, 0.027777777777777776), (4185, 0.027777777777777776), (4236, 0.027777777777777776), (4380, 0.027777777777777776), (4804, 0.027777777777777776), (757, 0.027399831217559546), (817, 0.027399831217559546), (832, 0.027399831217559546), (902, 0.027399831217559546), (1004, 0.027399831217559546), (1034, 0.027399831217559546), (1046, 0.027399831217559546), (1300, 0.027399831217559546), (1471, 0.027399831217559546), (1507, 0.027399831217559546), (1598, 0.027399831217559546), (1649, 0.027399831217559546), (1868, 0.027399831217559546), (1908, 0.027399831217559546), (1957, 0.027399831217559546), (1977, 0.027399831217559546), (2173, 0.027399831217559546), (2347, 0.027399831217559546), (2467, 0.027399831217559546), (2823, 0.027399831217559546), (2831, 0.027399831217559546), (2837, 0.027399831217559546), (2965, 0.027399831217559546), (3010, 0.027399831217559546), (3030, 0.027399831217559546), (3268, 0.027399831217559546), (3608, 0.027399831217559546), (3850, 0.027399831217559546), (3853, 0.027399831217559546), (3923, 0.027399831217559546), (4213, 0.027399831217559546), (4553, 0.027399831217559546), (4634, 0.027399831217559546), (211, 0.027036903521793755), (268, 0.027036903521793755), (287, 0.027036903521793755), (387, 0.027036903521793755), (563, 0.027036903521793755), (713, 0.027036903521793755), (720, 0.027036903521793755), (874, 0.027036903521793755), (915, 0.027036903521793755), (1450, 0.027036903521793755), (1604, 0.027036903521793755), (1621, 0.027036903521793755), (1640, 0.027036903521793755), (1657, 0.027036903521793755), (2362, 0.027036903521793755), (2373, 0.027036903521793755), (2463, 0.027036903521793755), (2477, 0.027036903521793755), (2486, 0.027036903521793755), (2539, 0.027036903521793755), (2809, 0.027036903521793755), (2819, 0.027036903521793755), (3572, 0.027036903521793755), (3780, 0.027036903521793755), (3872, 0.027036903521793755), (3910, 0.027036903521793755), (4020, 0.027036903521793755), (4263, 0.027036903521793755), (4288, 0.027036903521793755), (4335, 0.027036903521793755), (4372, 0.027036903521793755), (4739, 0.027036903521793755), (4755, 0.027036903521793755), (4782, 0.027036903521793755), (515, 0.026688025634181187), (592, 0.026688025634181187), (631, 0.026688025634181187), (659, 0.026688025634181187), (677, 0.026688025634181187), (835, 0.026688025634181187), (1121, 0.026688025634181187), (1233, 0.026688025634181187), (1501, 0.026688025634181187), (1542, 0.026688025634181187), (1557, 0.026688025634181187), (1686, 0.026688025634181187), (1843, 0.026688025634181187), (1912, 0.026688025634181187), (2004, 0.026688025634181187), (2005, 0.026688025634181187), (2008, 0.026688025634181187), (2025, 0.026688025634181187), (2150, 0.026688025634181187), (2176, 0.026688025634181187), (2197, 0.026688025634181187), (2272, 0.026688025634181187), (2294, 0.026688025634181187), (2340, 0.026688025634181187), (2532, 0.026688025634181187), (2824, 0.026688025634181187), (2848, 0.026688025634181187), (2986, 0.026688025634181187), (3005, 0.026688025634181187), (3136, 0.026688025634181187), (3290, 0.026688025634181187), (3321, 0.026688025634181187), (3399, 0.026688025634181187), (3476, 0.026688025634181187), (3483, 0.026688025634181187), (3702, 0.026688025634181187), (3747, 0.026688025634181187), (4261, 0.026688025634181187), (4299, 0.026688025634181187), (4317, 0.026688025634181187), (4401, 0.026688025634181187), (4410, 0.026688025634181187), (4450, 0.026688025634181187), (4469, 0.026688025634181187), (4498, 0.026688025634181187), (4558, 0.026688025634181187), (204, 0.026352313834736494), (453, 0.026352313834736494), (930, 0.026352313834736494), (946, 0.026352313834736494), (959, 0.026352313834736494), (1228, 0.026352313834736494), (1447, 0.026352313834736494), (1644, 0.026352313834736494), (1749, 0.026352313834736494), (1896, 0.026352313834736494), (2010, 0.026352313834736494), (2051, 0.026352313834736494), (2369, 0.026352313834736494), (2378, 0.026352313834736494), (2469, 0.026352313834736494), (2483, 0.026352313834736494), (2551, 0.026352313834736494), (2689, 0.026352313834736494), (2696, 0.026352313834736494), (2707, 0.026352313834736494), (2719, 0.026352313834736494), (2983, 0.026352313834736494), (3018, 0.026352313834736494), (3271, 0.026352313834736494), (3276, 0.026352313834736494), (3473, 0.026352313834736494), (3662, 0.026352313834736494), (3700, 0.026352313834736494), (3711, 0.026352313834736494), (3989, 0.026352313834736494), (4284, 0.026352313834736494), (4446, 0.026352313834736494), (4458, 0.026352313834736494), (4633, 0.026352313834736494), (4730, 0.026352313834736494), (324, 0.026028960314767677), (450, 0.026028960314767677), (451, 0.026028960314767677), (723, 0.026028960314767677), (841, 0.026028960314767677), (1125, 0.026028960314767677), (1203, 0.026028960314767677), (1638, 0.026028960314767677), (1701, 0.026028960314767677), (2076, 0.026028960314767677), (2142, 0.026028960314767677), (2352, 0.026028960314767677), (2357, 0.026028960314767677), (2613, 0.026028960314767677), (2713, 0.026028960314767677), (2752, 0.026028960314767677), (2777, 0.026028960314767677), (2932, 0.026028960314767677), (2947, 0.026028960314767677), (3206, 0.026028960314767677), (3252, 0.026028960314767677), (3368, 0.026028960314767677), (3928, 0.026028960314767677), (4078, 0.026028960314767677), (4262, 0.026028960314767677), (4266, 0.026028960314767677), (4383, 0.026028960314767677), (4576, 0.026028960314767677), (4713, 0.026028960314767677), (4772, 0.026028960314767677), (1859, 0.02579410775113789), (178, 0.025717224993681984), (364, 0.025717224993681984), (394, 0.025717224993681984), (431, 0.025717224993681984), (446, 0.025717224993681984), (509, 0.025717224993681984), (655, 0.025717224993681984), (706, 0.025717224993681984), (724, 0.025717224993681984), (856, 0.025717224993681984), (952, 0.025717224993681984), (1015, 0.025717224993681984), (1116, 0.025717224993681984), (1178, 0.025717224993681984), (1255, 0.025717224993681984), (1466, 0.025717224993681984), (1553, 0.025717224993681984), (1561, 0.025717224993681984), (1797, 0.025717224993681984), (1837, 0.025717224993681984), (2088, 0.025717224993681984), (2222, 0.025717224993681984), (2433, 0.025717224993681984), (2436, 0.025717224993681984), (2460, 0.025717224993681984), (2607, 0.025717224993681984), (2627, 0.025717224993681984), (2665, 0.025717224993681984), (2726, 0.025717224993681984), (2863, 0.025717224993681984), (3043, 0.025717224993681984), (3118, 0.025717224993681984), (3202, 0.025717224993681984), (3242, 0.025717224993681984), (3289, 0.025717224993681984), (3358, 0.025717224993681984), (3414, 0.025717224993681984), (3538, 0.025717224993681984), (3823, 0.025717224993681984), (3988, 0.025717224993681984), (4620, 0.025717224993681984), (399, 0.025416428388767443), (448, 0.025416428388767443), (516, 0.025416428388767443), (743, 0.025416428388767443), (758, 0.025416428388767443), (953, 0.025416428388767443), (1834, 0.025416428388767443), (1932, 0.025416428388767443), (2055, 0.025416428388767443), (2091, 0.025416428388767443), (2182, 0.025416428388767443), (2268, 0.025416428388767443), (2337, 0.025416428388767443), (2669, 0.025416428388767443), (2821, 0.025416428388767443), (3106, 0.025416428388767443), (3159, 0.025416428388767443), (3173, 0.025416428388767443), (3224, 0.025416428388767443), (3254, 0.025416428388767443), (3693, 0.025416428388767443), (3786, 0.025416428388767443), (3930, 0.025416428388767443), (4011, 0.025416428388767443), (4125, 0.025416428388767443), (4427, 0.025416428388767443), (4690, 0.025416428388767443), (136, 0.025125945381480302), (261, 0.025125945381480302), (705, 0.025125945381480302), (708, 0.025125945381480302), (919, 0.025125945381480302), (962, 0.025125945381480302), (1065, 0.025125945381480302), (1142, 0.025125945381480302), (1494, 0.025125945381480302), (1689, 0.025125945381480302), (1782, 0.025125945381480302), (1794, 0.025125945381480302), (1906, 0.025125945381480302), (2002, 0.025125945381480302), (2449, 0.025125945381480302), (2623, 0.025125945381480302), (2922, 0.025125945381480302), (3182, 0.025125945381480302), (3197, 0.025125945381480302), (3586, 0.025125945381480302), (3643, 0.025125945381480302), (4065, 0.025125945381480302), (4192, 0.025125945381480302), (4392, 0.025125945381480302), (4748, 0.025125945381480302), (2878, 0.025054867600094295), (580, 0.024845199749997663), (630, 0.024845199749997663), (1368, 0.024845199749997663), (2079, 0.024845199749997663), (2259, 0.024845199749997663), (2437, 0.024845199749997663), (2512, 0.024845199749997663), (2556, 0.024845199749997663), (2631, 0.024845199749997663), (2801, 0.024845199749997663), (3046, 0.024845199749997663), (3105, 0.024845199749997663), (3459, 0.024845199749997663), (3551, 0.024845199749997663), (4371, 0.024845199749997663), (4530, 0.024845199749997663), (4590, 0.024845199749997663), (66, 0.02457365935914952), (110, 0.02457365935914952), (173, 0.02457365935914952), (525, 0.02457365935914952), (868, 0.02457365935914952), (1051, 0.02457365935914952), (1340, 0.02457365935914952), (1463, 0.02457365935914952), (1993, 0.02457365935914952), (2047, 0.02457365935914952), (3614, 0.02457365935914952), (3877, 0.02457365935914952), (4103, 0.02457365935914952), (4325, 0.02457365935914952), (4484, 0.02457365935914952), (4801, 0.02457365935914952), (4803, 0.02457365935914952), (2879, 0.02450715406979359), (221, 0.024310831916315757), (455, 0.024310831916315757), (566, 0.024310831916315757), (611, 0.024310831916315757), (907, 0.024310831916315757), (911, 0.024310831916315757), (1100, 0.024310831916315757), (1123, 0.024310831916315757), (1225, 0.024310831916315757), (1506, 0.024310831916315757), (1810, 0.024310831916315757), (2046, 0.024310831916315757), (2067, 0.024310831916315757), (2366, 0.024310831916315757), (2521, 0.024310831916315757), (3097, 0.024310831916315757), (3369, 0.024310831916315757), (3629, 0.024310831916315757), (3727, 0.024310831916315757), (3736, 0.024310831916315757), (3793, 0.024310831916315757), (3805, 0.024310831916315757), (3995, 0.024310831916315757), (4066, 0.024310831916315757), (4177, 0.024310831916315757), (4529, 0.024310831916315757), (4552, 0.024310831916315757), (273, 0.024056261216234408), (386, 0.024056261216234408), (569, 0.024056261216234408), (652, 0.024056261216234408), (1115, 0.024056261216234408), (1155, 0.024056261216234408), (1413, 0.024056261216234408), (1459, 0.024056261216234408), (1872, 0.024056261216234408), (1983, 0.024056261216234408), (2026, 0.024056261216234408), (2183, 0.024056261216234408), (2625, 0.024056261216234408), (3474, 0.024056261216234408), (180, 0.023809523809523808), (337, 0.023809523809523808), (528, 0.023809523809523808), (574, 0.023809523809523808), (682, 0.023809523809523808), (702, 0.023809523809523808), (1208, 0.023809523809523808), (1216, 0.023809523809523808), (1550, 0.023809523809523808), (1586, 0.023809523809523808), (1680, 0.023809523809523808), (1758, 0.023809523809523808), (1860, 0.023809523809523808), (2021, 0.023809523809523808), (2216, 0.023809523809523808), (2473, 0.023809523809523808), (2753, 0.023809523809523808), (3042, 0.023809523809523808), (3109, 0.023809523809523808), (3151, 0.023809523809523808), (3246, 0.023809523809523808), (3269, 0.023809523809523808), (3530, 0.023809523809523808), (4002, 0.023809523809523808), (4359, 0.023809523809523808), (4759, 0.023809523809523808), (447, 0.023570226039551584), (633, 0.023570226039551584), (747, 0.023570226039551584), (1126, 0.023570226039551584), (1305, 0.023570226039551584), (1512, 0.023570226039551584), (1721, 0.023570226039551584), (1936, 0.023570226039551584), (2358, 0.023570226039551584), (2600, 0.023570226039551584), (2674, 0.023570226039551584), (2780, 0.023570226039551584), (2814, 0.023570226039551584), (3328, 0.023570226039551584), (3692, 0.023570226039551584), (3813, 0.023570226039551584), (3948, 0.023570226039551584), (4358, 0.023570226039551584), (4694, 0.023570226039551584), (181, 0.023338001400466827), (345, 0.023338001400466827), (353, 0.023338001400466827), (694, 0.023338001400466827), (698, 0.023338001400466827), (1099, 0.023338001400466827), (1704, 0.023338001400466827), (2149, 0.023338001400466827), (2187, 0.023338001400466827), (2376, 0.023338001400466827), (2602, 0.023338001400466827), (2638, 0.023338001400466827), (3213, 0.023338001400466827), (3735, 0.023338001400466827), (3961, 0.023338001400466827), (4280, 0.023338001400466827), (258, 0.023112508176051212), (396, 0.023112508176051212), (815, 0.023112508176051212), (904, 0.023112508176051212), (910, 0.023112508176051212), (1242, 0.023112508176051212), (1313, 0.023112508176051212), (1499, 0.023112508176051212), (2818, 0.023112508176051212), (2892, 0.023112508176051212), (3130, 0.023112508176051212), (3406, 0.023112508176051212), (4787, 0.023112508176051212), (6, 0.022893427324781505), (795, 0.022893427324781505), (852, 0.022893427324781505), (886, 0.022893427324781505), (1545, 0.022893427324781505), (1773, 0.022893427324781505), (1870, 0.022893427324781505), (2537, 0.022893427324781505), (2787, 0.022893427324781505), (2961, 0.022893427324781505), (3031, 0.022893427324781505), (3841, 0.022893427324781505), (3867, 0.022893427324781505), (4265, 0.022893427324781505), (532, 0.022680460581325723), (673, 0.022680460581325723), (809, 0.022680460581325723), (811, 0.022680460581325723), (1330, 0.022680460581325723), (1448, 0.022680460581325723), (1452, 0.022680460581325723), (2219, 0.022680460581325723), (2360, 0.022680460581325723), (3341, 0.022680460581325723), (3512, 0.022680460581325723), (3945, 0.022680460581325723), (4019, 0.022680460581325723), (4695, 0.022680460581325723), (4789, 0.022680460581325723), (252, 0.022473328748774737), (285, 0.022473328748774737), (1120, 0.022473328748774737), (1458, 0.022473328748774737), (1572, 0.022473328748774737), (1910, 0.022473328748774737), (2468, 0.022473328748774737), (2582, 0.022473328748774737), (2599, 0.022473328748774737), (3491, 0.022473328748774737), (4098, 0.022473328748774737), (4235, 0.022473328748774737), (4397, 0.022473328748774737), (4656, 0.022473328748774737), (4780, 0.022473328748774737), (343, 0.0222717701593687), (573, 0.0222717701593687), (822, 0.0222717701593687), (1750, 0.0222717701593687), (2605, 0.0222717701593687), (2800, 0.0222717701593687), (3520, 0.0222717701593687), (4247, 0.0222717701593687), (4647, 0.0222717701593687), (145, 0.022075539284417398), (188, 0.022075539284417398), (286, 0.022075539284417398), (622, 0.022075539284417398), (1386, 0.022075539284417398), (1594, 0.022075539284417398), (2424, 0.022075539284417398), (2740, 0.022075539284417398), (2856, 0.022075539284417398), (3658, 0.022075539284417398), (4115, 0.022075539284417398), (407, 0.021884405476620423), (2393, 0.021884405476620423), (2608, 0.021884405476620423), (3775, 0.021884405476620423), (4015, 0.021884405476620423), (4525, 0.021884405476620423), (571, 0.021698151830137312), (1567, 0.021698151830137312), (3311, 0.021698151830137312), (3754, 0.021698151830137312), (3807, 0.021698151830137312), (4049, 0.021698151830137312), (4506, 0.021698151830137312), (406, 0.021516574145596757), (1117, 0.021516574145596757), (1634, 0.021516574145596757), (1987, 0.021516574145596757), (2077, 0.021516574145596757), (2887, 0.021516574145596757), (2877, 0.021339479988815996), (1505, 0.021166687833365082), (1637, 0.021166687833365082), (2902, 0.021166687833365082), (3292, 0.021166687833365082), (1097, 0.020998026278290397), (1109, 0.020998026278290397), (1250, 0.020998026278290397), (1525, 0.020998026278290397), (2303, 0.020998026278290397), (3076, 0.020998026278290397), (3417, 0.020998026278290397), (3911, 0.020998026278290397), (3959, 0.020998026278290397), (4466, 0.020998026278290397), (4798, 0.020998026278290397), (925, 0.020833333333333332), (1213, 0.020833333333333332), (1863, 0.020833333333333332), (2583, 0.020833333333333332), (2976, 0.020833333333333332), (4670, 0.020833333333333332), (65, 0.020672455764868078), (703, 0.020672455764868078), (1551, 0.020672455764868078), (2778, 0.020672455764868078), (2881, 0.020672455764868078), (3245, 0.020672455764868078), (3487, 0.020672455764868078), (4167, 0.020672455764868078), (1563, 0.020515248496555453), (2472, 0.020361574059384203), (3613, 0.020361574059384203), (284, 0.02021130208636108), (1914, 0.02021130208636108), (3140, 0.02021130208636108), (3404, 0.02021130208636108), (3479, 0.02021130208636108), (4711, 0.02021130208636108), (1141, 0.0200643088476282), (1574, 0.0200643088476282), (1851, 0.0200643088476282), (2730, 0.0200643088476282), (3228, 0.0200643088476282), (3991, 0.0200643088476282), (4136, 0.0200643088476282), (893, 0.019920476822239894), (1236, 0.019920476822239894), (2339, 0.019920476822239894), (2729, 0.019920476822239894), (3458, 0.019920476822239894), (3502, 0.019920476822239894), (3552, 0.019920476822239894), (1343, 0.019779694303230885), (1852, 0.019779694303230885), (3272, 0.019779694303230885), (3370, 0.019779694303230885), (3890, 0.019779694303230885), (4722, 0.019641855032959656), (4277, 0.01950685786602176), (1282, 0.019374606457303212), (2028, 0.019374606457303212), (2078, 0.019374606457303212), (4026, 0.019374606457303212), (493, 0.01924500897298752), (3732, 0.01924500897298752), (1335, 0.01911797782254681), (2203, 0.01911797782254681), (4017, 0.01911797782254681), (1403, 0.018993429409939658), (1869, 0.018871283902409927), (3119, 0.018871283902409927), (4159, 0.018871283902409927), (1832, 0.018751465015433733), (3074, 0.018751465015433733), (4233, 0.018751465015433733), (4532, 0.018751465015433733), (1648, 0.018633899812498245), (3187, 0.018633899812498245), (4000, 0.018633899812498245), (4630, 0.018633899812498245), (4388, 0.018405254345807753), (821, 0.018294043331615058), (3329, 0.018294043331615058), (4250, 0.018294043331615058), (4682, 0.018184824186332698), (2515, 0.01807753815155468), (4766, 0.017972128867239735), (2162, 0.01786854224729658), (2297, 0.01786854224729658), (4743, 0.017766726362967535), (2908, 0.017666631333439334), (670, 0.01756820922315766), (820, 0.01756820922315766), (118, 0.017376201171422898), (860, 0.017376201171422898), (3825, 0.017376201171422898), (4696, 0.017282528245507085), (1949, 0.017190354104313223), (146, 0.017099639201419235), (4114, 0.017099639201419235), (4127, 0.017099639201419235), (2996, 0.01692243608556032), (983, 0.016835875742536845), (1425, 0.016835875742536845), (4223, 0.016835875742536845), (1134, 0.016583953170166484), (730, 0.01642215463607155), (3377, 0.015963771420352522), (1254, 0.015891043154093204), (4565, 0.01567868113972662), (2290, 0.015541746804005229), (3979, 0.01540833878403414), (77, 0.014617633655117155), (3610, 0.013653865341984008), (4706, 0.012745318548364542), (34, 0.0), (42, 0.0), (120, 0.0), (128, 0.0), (135, 0.0), (155, 0.0), (177, 0.0), (192, 0.0), (194, 0.0), (201, 0.0), (231, 0.0), (247, 0.0), (250, 0.0), (255, 0.0), (264, 0.0), (280, 0.0), (283, 0.0), (288, 0.0), (298, 0.0), (314, 0.0), (316, 0.0), (317, 0.0), (318, 0.0), (321, 0.0), (328, 0.0), (338, 0.0), (346, 0.0), (347, 0.0), (351, 0.0), (354, 0.0), (357, 0.0), (360, 0.0), (367, 0.0), (377, 0.0), (378, 0.0), (382, 0.0), (385, 0.0), (388, 0.0), (393, 0.0), (398, 0.0), (409, 0.0), (421, 0.0), (429, 0.0), (434, 0.0), (436, 0.0), (444, 0.0), (462, 0.0), (464, 0.0), (465, 0.0), (474, 0.0), (477, 0.0), (481, 0.0), (489, 0.0), (494, 0.0), (496, 0.0), (497, 0.0), (499, 0.0), (504, 0.0), (517, 0.0), (519, 0.0), (520, 0.0), (522, 0.0), (524, 0.0), (526, 0.0), (527, 0.0), (538, 0.0), (548, 0.0), (552, 0.0), (554, 0.0), (558, 0.0), (562, 0.0), (585, 0.0), (593, 0.0), (605, 0.0), (606, 0.0), (608, 0.0), (616, 0.0), (619, 0.0), (620, 0.0), (623, 0.0), (628, 0.0), (639, 0.0), (641, 0.0), (642, 0.0), (649, 0.0), (650, 0.0), (651, 0.0), (656, 0.0), (662, 0.0), (663, 0.0), (667, 0.0), (679, 0.0), (684, 0.0), (686, 0.0), (689, 0.0), (693, 0.0), (696, 0.0), (697, 0.0), (699, 0.0), (707, 0.0), (709, 0.0), (712, 0.0), (714, 0.0), (717, 0.0), (719, 0.0), (722, 0.0), (725, 0.0), (726, 0.0), (729, 0.0), (738, 0.0), (749, 0.0), (759, 0.0), (760, 0.0), (763, 0.0), (765, 0.0), (766, 0.0), (771, 0.0), (772, 0.0), (779, 0.0), (780, 0.0), (789, 0.0), (797, 0.0), (798, 0.0), (801, 0.0), (802, 0.0), (819, 0.0), (824, 0.0), (825, 0.0), (829, 0.0), (839, 0.0), (842, 0.0), (845, 0.0), (846, 0.0), (849, 0.0), (851, 0.0), (857, 0.0), (865, 0.0), (867, 0.0), (872, 0.0), (876, 0.0), (877, 0.0), (879, 0.0), (881, 0.0), (884, 0.0), (890, 0.0), (892, 0.0), (895, 0.0), (896, 0.0), (905, 0.0), (906, 0.0), (909, 0.0), (913, 0.0), (916, 0.0), (918, 0.0), (921, 0.0), (923, 0.0), (924, 0.0), (926, 0.0), (927, 0.0), (928, 0.0), (936, 0.0), (938, 0.0), (940, 0.0), (943, 0.0), (944, 0.0), (947, 0.0), (948, 0.0), (949, 0.0), (954, 0.0), (958, 0.0), (965, 0.0), (966, 0.0), (968, 0.0), (970, 0.0), (975, 0.0), (976, 0.0), (981, 0.0), (984, 0.0), (988, 0.0), (992, 0.0), (997, 0.0), (998, 0.0), (999, 0.0), (1006, 0.0), (1010, 0.0), (1011, 0.0), (1012, 0.0), (1020, 0.0), (1023, 0.0), (1024, 0.0), (1037, 0.0), (1038, 0.0), (1039, 0.0), (1040, 0.0), (1047, 0.0), (1048, 0.0), (1049, 0.0), (1052, 0.0), (1055, 0.0), (1056, 0.0), (1058, 0.0), (1061, 0.0), (1064, 0.0), (1067, 0.0), (1070, 0.0), (1072, 0.0), (1076, 0.0), (1088, 0.0), (1089, 0.0), (1092, 0.0), (1093, 0.0), (1103, 0.0), (1106, 0.0), (1108, 0.0), (1113, 0.0), (1114, 0.0), (1122, 0.0), (1127, 0.0), (1130, 0.0), (1131, 0.0), (1136, 0.0), (1146, 0.0), (1148, 0.0), (1149, 0.0), (1150, 0.0), (1152, 0.0), (1157, 0.0), (1158, 0.0), (1160, 0.0), (1161, 0.0), (1162, 0.0), (1165, 0.0), (1167, 0.0), (1170, 0.0), (1171, 0.0), (1174, 0.0), (1177, 0.0), (1180, 0.0), (1182, 0.0), (1183, 0.0), (1185, 0.0), (1187, 0.0), (1188, 0.0), (1190, 0.0), (1195, 0.0), (1198, 0.0), (1204, 0.0), (1206, 0.0), (1209, 0.0), (1210, 0.0), (1211, 0.0), (1212, 0.0), (1215, 0.0), (1219, 0.0), (1220, 0.0), (1221, 0.0), (1222, 0.0), (1223, 0.0), (1224, 0.0), (1229, 0.0), (1230, 0.0), (1232, 0.0), (1234, 0.0), (1237, 0.0), (1238, 0.0), (1243, 0.0), (1244, 0.0), (1248, 0.0), (1251, 0.0), (1252, 0.0), (1253, 0.0), (1256, 0.0), (1262, 0.0), (1263, 0.0), (1265, 0.0), (1266, 0.0), (1269, 0.0), (1277, 0.0), (1281, 0.0), (1284, 0.0), (1293, 0.0), (1294, 0.0), (1298, 0.0), (1308, 0.0), (1309, 0.0), (1314, 0.0), (1315, 0.0), (1316, 0.0), (1317, 0.0), (1324, 0.0), (1326, 0.0), (1328, 0.0), (1329, 0.0), (1331, 0.0), (1334, 0.0), (1337, 0.0), (1339, 0.0), (1341, 0.0), (1347, 0.0), (1350, 0.0), (1352, 0.0), (1354, 0.0), (1356, 0.0), (1357, 0.0), (1362, 0.0), (1364, 0.0), (1366, 0.0), (1370, 0.0), (1371, 0.0), (1372, 0.0), (1373, 0.0), (1376, 0.0), (1380, 0.0), (1383, 0.0), (1385, 0.0), (1388, 0.0), (1389, 0.0), (1390, 0.0), (1391, 0.0), (1393, 0.0), (1394, 0.0), (1396, 0.0), (1398, 0.0), (1399, 0.0), (1405, 0.0), (1407, 0.0), (1408, 0.0), (1409, 0.0), (1411, 0.0), (1412, 0.0), (1415, 0.0), (1420, 0.0), (1423, 0.0), (1426, 0.0), (1429, 0.0), (1431, 0.0), (1432, 0.0), (1438, 0.0), (1443, 0.0), (1457, 0.0), (1464, 0.0), (1468, 0.0), (1478, 0.0), (1479, 0.0), (1480, 0.0), (1482, 0.0), (1487, 0.0), (1489, 0.0), (1491, 0.0), (1495, 0.0), (1500, 0.0), (1503, 0.0), (1504, 0.0), (1510, 0.0), (1513, 0.0), (1514, 0.0), (1518, 0.0), (1522, 0.0), (1523, 0.0), (1524, 0.0), (1529, 0.0), (1532, 0.0), (1535, 0.0), (1536, 0.0), (1538, 0.0), (1539, 0.0), (1541, 0.0), (1543, 0.0), (1546, 0.0), (1547, 0.0), (1554, 0.0), (1555, 0.0), (1558, 0.0), (1559, 0.0), (1560, 0.0), (1568, 0.0), (1576, 0.0), (1578, 0.0), (1583, 0.0), (1587, 0.0), (1591, 0.0), (1595, 0.0), (1597, 0.0), (1600, 0.0), (1602, 0.0), (1606, 0.0), (1607, 0.0), (1611, 0.0), (1615, 0.0), (1616, 0.0), (1620, 0.0), (1622, 0.0), (1623, 0.0), (1624, 0.0), (1625, 0.0), (1629, 0.0), (1632, 0.0), (1633, 0.0), (1636, 0.0), (1641, 0.0), (1643, 0.0), (1646, 0.0), (1650, 0.0), (1653, 0.0), (1658, 0.0), (1661, 0.0), (1662, 0.0), (1665, 0.0), (1668, 0.0), (1675, 0.0), (1676, 0.0), (1678, 0.0), (1679, 0.0), (1683, 0.0), (1685, 0.0), (1687, 0.0), (1692, 0.0), (1693, 0.0), (1695, 0.0), (1698, 0.0), (1700, 0.0), (1702, 0.0), (1705, 0.0), (1706, 0.0), (1707, 0.0), (1708, 0.0), (1710, 0.0), (1712, 0.0), (1713, 0.0), (1714, 0.0), (1718, 0.0), (1724, 0.0), (1725, 0.0), (1730, 0.0), (1731, 0.0), (1732, 0.0), (1734, 0.0), (1738, 0.0), (1740, 0.0), (1747, 0.0), (1748, 0.0), (1751, 0.0), (1754, 0.0), (1757, 0.0), (1760, 0.0), (1762, 0.0), (1768, 0.0), (1769, 0.0), (1772, 0.0), (1774, 0.0), (1775, 0.0), (1776, 0.0), (1777, 0.0), (1780, 0.0), (1783, 0.0), (1787, 0.0), (1789, 0.0), (1790, 0.0), (1791, 0.0), (1793, 0.0), (1802, 0.0), (1803, 0.0), (1805, 0.0), (1811, 0.0), (1813, 0.0), (1814, 0.0), (1815, 0.0), (1816, 0.0), (1820, 0.0), (1821, 0.0), (1822, 0.0), (1825, 0.0), (1826, 0.0), (1830, 0.0), (1831, 0.0), (1835, 0.0), (1840, 0.0), (1841, 0.0), (1847, 0.0), (1848, 0.0), (1849, 0.0), (1854, 0.0), (1857, 0.0), (1861, 0.0), (1865, 0.0), (1867, 0.0), (1871, 0.0), (1873, 0.0), (1875, 0.0), (1876, 0.0), (1878, 0.0), (1883, 0.0), (1885, 0.0), (1886, 0.0), (1887, 0.0), (1888, 0.0), (1889, 0.0), (1890, 0.0), (1891, 0.0), (1900, 0.0), (1901, 0.0), (1903, 0.0), (1905, 0.0), (1911, 0.0), (1913, 0.0), (1915, 0.0), (1917, 0.0), (1918, 0.0), (1919, 0.0), (1923, 0.0), (1926, 0.0), (1927, 0.0), (1928, 0.0), (1930, 0.0), (1931, 0.0), (1937, 0.0), (1942, 0.0), (1943, 0.0), (1945, 0.0), (1948, 0.0), (1950, 0.0), (1951, 0.0), (1954, 0.0), (1962, 0.0), (1963, 0.0), (1966, 0.0), (1968, 0.0), (1970, 0.0), (1972, 0.0), (1973, 0.0), (1974, 0.0), (1976, 0.0), (1981, 0.0), (1984, 0.0), (1985, 0.0), (1990, 0.0), (1991, 0.0), (1994, 0.0), (1995, 0.0), (1996, 0.0), (2000, 0.0), (2006, 0.0), (2007, 0.0), (2012, 0.0), (2016, 0.0), (2022, 0.0), (2023, 0.0), (2027, 0.0), (2029, 0.0), (2030, 0.0), (2032, 0.0), (2033, 0.0), (2035, 0.0), (2036, 0.0), (2037, 0.0), (2039, 0.0), (2041, 0.0), (2042, 0.0), (2043, 0.0), (2044, 0.0), (2054, 0.0), (2058, 0.0), (2060, 0.0), (2064, 0.0), (2065, 0.0), (2069, 0.0), (2070, 0.0), (2074, 0.0), (2075, 0.0), (2080, 0.0), (2082, 0.0), (2084, 0.0), (2085, 0.0), (2090, 0.0), (2092, 0.0), (2093, 0.0), (2094, 0.0), (2096, 0.0), (2098, 0.0), (2100, 0.0), (2101, 0.0), (2103, 0.0), (2104, 0.0), (2107, 0.0), (2112, 0.0), (2114, 0.0), (2115, 0.0), (2117, 0.0), (2119, 0.0), (2120, 0.0), (2121, 0.0), (2122, 0.0), (2125, 0.0), (2126, 0.0), (2127, 0.0), (2133, 0.0), (2135, 0.0), (2136, 0.0), (2137, 0.0), (2139, 0.0), (2141, 0.0), (2143, 0.0), (2145, 0.0), (2147, 0.0), (2148, 0.0), (2152, 0.0), (2153, 0.0), (2164, 0.0), (2166, 0.0), (2167, 0.0), (2170, 0.0), (2172, 0.0), (2178, 0.0), (2179, 0.0), (2184, 0.0), (2188, 0.0), (2189, 0.0), (2193, 0.0), (2194, 0.0), (2201, 0.0), (2204, 0.0), (2206, 0.0), (2210, 0.0), (2212, 0.0), (2213, 0.0), (2215, 0.0), (2217, 0.0), (2218, 0.0), (2221, 0.0), (2225, 0.0), (2232, 0.0), (2233, 0.0), (2234, 0.0), (2235, 0.0), (2236, 0.0), (2238, 0.0), (2240, 0.0), (2241, 0.0), (2242, 0.0), (2244, 0.0), (2245, 0.0), (2248, 0.0), (2250, 0.0), (2251, 0.0), (2253, 0.0), (2254, 0.0), (2256, 0.0), (2258, 0.0), (2261, 0.0), (2267, 0.0), (2269, 0.0), (2271, 0.0), (2273, 0.0), (2274, 0.0), (2275, 0.0), (2276, 0.0), (2277, 0.0), (2281, 0.0), (2282, 0.0), (2283, 0.0), (2284, 0.0), (2285, 0.0), (2286, 0.0), (2288, 0.0), (2289, 0.0), (2292, 0.0), (2299, 0.0), (2302, 0.0), (2306, 0.0), (2307, 0.0), (2308, 0.0), (2309, 0.0), (2310, 0.0), (2314, 0.0), (2317, 0.0), (2318, 0.0), (2320, 0.0), (2321, 0.0), (2324, 0.0), (2325, 0.0), (2328, 0.0), (2330, 0.0), (2331, 0.0), (2332, 0.0), (2334, 0.0), (2336, 0.0), (2341, 0.0), (2346, 0.0), (2353, 0.0), (2355, 0.0), (2356, 0.0), (2361, 0.0), (2370, 0.0), (2371, 0.0), (2375, 0.0), (2379, 0.0), (2380, 0.0), (2381, 0.0), (2383, 0.0), (2385, 0.0), (2386, 0.0), (2387, 0.0), (2394, 0.0), (2395, 0.0), (2398, 0.0), (2399, 0.0), (2401, 0.0), (2403, 0.0), (2404, 0.0), (2407, 0.0), (2408, 0.0), (2411, 0.0), (2413, 0.0), (2417, 0.0), (2419, 0.0), (2420, 0.0), (2421, 0.0), (2422, 0.0), (2423, 0.0), (2426, 0.0), (2427, 0.0), (2428, 0.0), (2430, 0.0), (2432, 0.0), (2434, 0.0), (2438, 0.0), (2442, 0.0), (2447, 0.0), (2448, 0.0), (2450, 0.0), (2454, 0.0), (2455, 0.0), (2456, 0.0), (2458, 0.0), (2462, 0.0), (2464, 0.0), (2465, 0.0), (2466, 0.0), (2470, 0.0), (2478, 0.0), (2479, 0.0), (2480, 0.0), (2481, 0.0), (2485, 0.0), (2487, 0.0), (2489, 0.0), (2490, 0.0), (2491, 0.0), (2493, 0.0), (2497, 0.0), (2499, 0.0), (2503, 0.0), (2504, 0.0), (2505, 0.0), (2506, 0.0), (2507, 0.0), (2509, 0.0), (2513, 0.0), (2514, 0.0), (2518, 0.0), (2519, 0.0), (2520, 0.0), (2522, 0.0), (2524, 0.0), (2526, 0.0), (2527, 0.0), (2528, 0.0), (2530, 0.0), (2533, 0.0), (2535, 0.0), (2536, 0.0), (2538, 0.0), (2540, 0.0), (2541, 0.0), (2544, 0.0), (2546, 0.0), (2550, 0.0), (2553, 0.0), (2555, 0.0), (2557, 0.0), (2559, 0.0), (2561, 0.0), (2564, 0.0), (2565, 0.0), (2568, 0.0), (2569, 0.0), (2572, 0.0), (2574, 0.0), (2576, 0.0), (2577, 0.0), (2578, 0.0), (2584, 0.0), (2586, 0.0), (2587, 0.0), (2589, 0.0), (2590, 0.0), (2591, 0.0), (2593, 0.0), (2595, 0.0), (2597, 0.0), (2598, 0.0), (2603, 0.0), (2609, 0.0), (2610, 0.0), (2612, 0.0), (2614, 0.0), (2617, 0.0), (2619, 0.0), (2620, 0.0), (2621, 0.0), (2622, 0.0), (2624, 0.0), (2626, 0.0), (2629, 0.0), (2633, 0.0), (2634, 0.0), (2636, 0.0), (2637, 0.0), (2639, 0.0), (2642, 0.0), (2645, 0.0), (2649, 0.0), (2650, 0.0), (2651, 0.0), (2661, 0.0), (2663, 0.0), (2664, 0.0), (2666, 0.0), (2671, 0.0), (2672, 0.0), (2673, 0.0), (2675, 0.0), (2677, 0.0), (2680, 0.0), (2681, 0.0), (2687, 0.0), (2690, 0.0), (2691, 0.0), (2692, 0.0), (2693, 0.0), (2695, 0.0), (2698, 0.0), (2700, 0.0), (2701, 0.0), (2703, 0.0), (2706, 0.0), (2710, 0.0), (2712, 0.0), (2715, 0.0), (2716, 0.0), (2721, 0.0), (2723, 0.0), (2724, 0.0), (2728, 0.0), (2731, 0.0), (2732, 0.0), (2734, 0.0), (2735, 0.0), (2738, 0.0), (2741, 0.0), (2742, 0.0), (2743, 0.0), (2745, 0.0), (2746, 0.0), (2749, 0.0), (2750, 0.0), (2751, 0.0), (2761, 0.0), (2762, 0.0), (2763, 0.0), (2764, 0.0), (2765, 0.0), (2766, 0.0), (2769, 0.0), (2771, 0.0), (2774, 0.0), (2775, 0.0), (2781, 0.0), (2784, 0.0), (2793, 0.0), (2794, 0.0), (2796, 0.0), (2799, 0.0), (2802, 0.0), (2805, 0.0), (2808, 0.0), (2812, 0.0), (2815, 0.0), (2817, 0.0), (2829, 0.0), (2830, 0.0), (2833, 0.0), (2834, 0.0), (2835, 0.0), (2838, 0.0), (2840, 0.0), (2841, 0.0), (2843, 0.0), (2844, 0.0), (2845, 0.0), (2849, 0.0), (2851, 0.0), (2853, 0.0), (2858, 0.0), (2862, 0.0), (2865, 0.0), (2867, 0.0), (2870, 0.0), (2871, 0.0), (2872, 0.0), (2874, 0.0), (2882, 0.0), (2883, 0.0), (2884, 0.0), (2885, 0.0), (2891, 0.0), (2893, 0.0), (2895, 0.0), (2896, 0.0), (2897, 0.0), (2898, 0.0), (2900, 0.0), (2903, 0.0), (2904, 0.0), (2905, 0.0), (2906, 0.0), (2907, 0.0), (2909, 0.0), (2910, 0.0), (2911, 0.0), (2915, 0.0), (2919, 0.0), (2921, 0.0), (2924, 0.0), (2926, 0.0), (2928, 0.0), (2930, 0.0), (2931, 0.0), (2934, 0.0), (2939, 0.0), (2940, 0.0), (2943, 0.0), (2944, 0.0), (2945, 0.0), (2949, 0.0), (2950, 0.0), (2956, 0.0), (2958, 0.0), (2959, 0.0), (2960, 0.0), (2963, 0.0), (2967, 0.0), (2972, 0.0), (2975, 0.0), (2977, 0.0), (2978, 0.0), (2979, 0.0), (2981, 0.0), (2984, 0.0), (2985, 0.0), (2987, 0.0), (2989, 0.0), (2990, 0.0), (2991, 0.0), (2992, 0.0), (2994, 0.0), (2995, 0.0), (2999, 0.0), (3000, 0.0), (3001, 0.0), (3002, 0.0), (3007, 0.0), (3014, 0.0), (3017, 0.0), (3019, 0.0), (3021, 0.0), (3024, 0.0), (3025, 0.0), (3027, 0.0), (3028, 0.0), (3033, 0.0), (3034, 0.0), (3036, 0.0), (3038, 0.0), (3039, 0.0), (3040, 0.0), (3041, 0.0), (3044, 0.0), (3047, 0.0), (3048, 0.0), (3049, 0.0), (3050, 0.0), (3052, 0.0), (3054, 0.0), (3055, 0.0), (3056, 0.0), (3059, 0.0), (3060, 0.0), (3061, 0.0), (3063, 0.0), (3065, 0.0), (3071, 0.0), (3077, 0.0), (3081, 0.0), (3082, 0.0), (3083, 0.0), (3085, 0.0), (3086, 0.0), (3087, 0.0), (3090, 0.0), (3092, 0.0), (3093, 0.0), (3094, 0.0), (3095, 0.0), (3096, 0.0), (3102, 0.0), (3103, 0.0), (3104, 0.0), (3110, 0.0), (3111, 0.0), (3112, 0.0), (3113, 0.0), (3114, 0.0), (3120, 0.0), (3121, 0.0), (3122, 0.0), (3123, 0.0), (3125, 0.0), (3126, 0.0), (3127, 0.0), (3132, 0.0), (3137, 0.0), (3139, 0.0), (3141, 0.0), (3143, 0.0), (3148, 0.0), (3154, 0.0), (3158, 0.0), (3161, 0.0), (3168, 0.0), (3169, 0.0), (3170, 0.0), (3171, 0.0), (3175, 0.0), (3176, 0.0), (3177, 0.0), (3180, 0.0), (3183, 0.0), (3184, 0.0), (3189, 0.0), (3190, 0.0), (3191, 0.0), (3192, 0.0), (3194, 0.0), (3195, 0.0), (3196, 0.0), (3198, 0.0), (3201, 0.0), (3207, 0.0), (3208, 0.0), (3209, 0.0), (3212, 0.0), (3215, 0.0), (3218, 0.0), (3219, 0.0), (3222, 0.0), (3229, 0.0), (3234, 0.0), (3236, 0.0), (3237, 0.0), (3240, 0.0), (3241, 0.0), (3243, 0.0), (3244, 0.0), (3247, 0.0), (3248, 0.0), (3250, 0.0), (3256, 0.0), (3257, 0.0), (3258, 0.0), (3259, 0.0), (3263, 0.0), (3265, 0.0), (3267, 0.0), (3270, 0.0), (3274, 0.0), (3275, 0.0), (3277, 0.0), (3278, 0.0), (3279, 0.0), (3280, 0.0), (3288, 0.0), (3293, 0.0), (3294, 0.0), (3297, 0.0), (3300, 0.0), (3305, 0.0), (3309, 0.0), (3310, 0.0), (3312, 0.0), (3313, 0.0), (3317, 0.0), (3319, 0.0), (3322, 0.0), (3323, 0.0), (3324, 0.0), (3326, 0.0), (3330, 0.0), (3332, 0.0), (3333, 0.0), (3335, 0.0), (3339, 0.0), (3343, 0.0), (3344, 0.0), (3346, 0.0), (3348, 0.0), (3349, 0.0), (3350, 0.0), (3357, 0.0), (3359, 0.0), (3362, 0.0), (3364, 0.0), (3365, 0.0), (3373, 0.0), (3379, 0.0), (3380, 0.0), (3381, 0.0), (3382, 0.0), (3383, 0.0), (3385, 0.0), (3389, 0.0), (3390, 0.0), (3391, 0.0), (3392, 0.0), (3393, 0.0), (3397, 0.0), (3400, 0.0), (3402, 0.0), (3403, 0.0), (3408, 0.0), (3409, 0.0), (3411, 0.0), (3413, 0.0), (3415, 0.0), (3416, 0.0), (3420, 0.0), (3422, 0.0), (3423, 0.0), (3425, 0.0), (3427, 0.0), (3430, 0.0), (3431, 0.0), (3432, 0.0), (3433, 0.0), (3434, 0.0), (3435, 0.0), (3437, 0.0), (3440, 0.0), (3443, 0.0), (3444, 0.0), (3448, 0.0), (3449, 0.0), (3451, 0.0), (3452, 0.0), (3453, 0.0), (3456, 0.0), (3457, 0.0), (3461, 0.0), (3463, 0.0), (3464, 0.0), (3466, 0.0), (3469, 0.0), (3471, 0.0), (3472, 0.0), (3477, 0.0), (3478, 0.0), (3480, 0.0), (3482, 0.0), (3485, 0.0), (3486, 0.0), (3488, 0.0), (3489, 0.0), (3490, 0.0), (3493, 0.0), (3497, 0.0), (3498, 0.0), (3499, 0.0), (3504, 0.0), (3506, 0.0), (3508, 0.0), (3509, 0.0), (3515, 0.0), (3516, 0.0), (3517, 0.0), (3519, 0.0), (3521, 0.0), (3523, 0.0), (3527, 0.0), (3528, 0.0), (3529, 0.0), (3531, 0.0), (3533, 0.0), (3534, 0.0), (3537, 0.0), (3539, 0.0), (3542, 0.0), (3543, 0.0), (3544, 0.0), (3545, 0.0), (3548, 0.0), (3549, 0.0), (3550, 0.0), (3553, 0.0), (3556, 0.0), (3557, 0.0), (3559, 0.0), (3560, 0.0), (3561, 0.0), (3562, 0.0), (3563, 0.0), (3564, 0.0), (3565, 0.0), (3566, 0.0), (3567, 0.0), (3568, 0.0), (3569, 0.0), (3571, 0.0), (3573, 0.0), (3574, 0.0), (3575, 0.0), (3576, 0.0), (3577, 0.0), (3578, 0.0), (3579, 0.0), (3580, 0.0), (3582, 0.0), (3583, 0.0), (3584, 0.0), (3585, 0.0), (3587, 0.0), (3588, 0.0), (3589, 0.0), (3590, 0.0), (3591, 0.0), (3592, 0.0), (3594, 0.0), (3596, 0.0), (3597, 0.0), (3599, 0.0), (3600, 0.0), (3602, 0.0), (3603, 0.0), (3604, 0.0), (3607, 0.0), (3616, 0.0), (3617, 0.0), (3621, 0.0), (3622, 0.0), (3623, 0.0), (3624, 0.0), (3627, 0.0), (3630, 0.0), (3631, 0.0), (3634, 0.0), (3636, 0.0), (3637, 0.0), (3638, 0.0), (3639, 0.0), (3640, 0.0), (3641, 0.0), (3642, 0.0), (3646, 0.0), (3647, 0.0), (3649, 0.0), (3650, 0.0), (3651, 0.0), (3654, 0.0), (3656, 0.0), (3657, 0.0), (3661, 0.0), (3663, 0.0), (3664, 0.0), (3665, 0.0), (3666, 0.0), (3668, 0.0), (3672, 0.0), (3673, 0.0), (3676, 0.0), (3677, 0.0), (3678, 0.0), (3679, 0.0), (3680, 0.0), (3681, 0.0), (3682, 0.0), (3683, 0.0), (3684, 0.0), (3685, 0.0), (3686, 0.0), (3687, 0.0), (3688, 0.0), (3691, 0.0), (3694, 0.0), (3695, 0.0), (3696, 0.0), (3697, 0.0), (3698, 0.0), (3701, 0.0), (3703, 0.0), (3705, 0.0), (3708, 0.0), (3709, 0.0), (3712, 0.0), (3713, 0.0), (3715, 0.0), (3716, 0.0), (3717, 0.0), (3720, 0.0), (3721, 0.0), (3722, 0.0), (3723, 0.0), (3724, 0.0), (3725, 0.0), (3730, 0.0), (3731, 0.0), (3739, 0.0), (3741, 0.0), (3746, 0.0), (3748, 0.0), (3750, 0.0), (3752, 0.0), (3755, 0.0), (3756, 0.0), (3757, 0.0), (3758, 0.0), (3763, 0.0), (3764, 0.0), (3765, 0.0), (3766, 0.0), (3769, 0.0), (3770, 0.0), (3772, 0.0), (3773, 0.0), (3774, 0.0), (3777, 0.0), (3784, 0.0), (3785, 0.0), (3787, 0.0), (3789, 0.0), (3790, 0.0), (3791, 0.0), (3792, 0.0), (3794, 0.0), (3796, 0.0), (3798, 0.0), (3800, 0.0), (3801, 0.0), (3802, 0.0), (3806, 0.0), (3810, 0.0), (3811, 0.0), (3812, 0.0), (3815, 0.0), (3816, 0.0), (3818, 0.0), (3819, 0.0), (3821, 0.0), (3822, 0.0), (3826, 0.0), (3827, 0.0), (3828, 0.0), (3829, 0.0), (3831, 0.0), (3833, 0.0), (3835, 0.0), (3836, 0.0), (3838, 0.0), (3839, 0.0), (3842, 0.0), (3844, 0.0), (3847, 0.0), (3848, 0.0), (3851, 0.0), (3854, 0.0), (3856, 0.0), (3857, 0.0), (3859, 0.0), (3863, 0.0), (3864, 0.0), (3865, 0.0), (3866, 0.0), (3868, 0.0), (3869, 0.0), (3870, 0.0), (3871, 0.0), (3873, 0.0), (3874, 0.0), (3875, 0.0), (3878, 0.0), (3880, 0.0), (3881, 0.0), (3882, 0.0), (3884, 0.0), (3887, 0.0), (3891, 0.0), (3892, 0.0), (3893, 0.0), (3895, 0.0), (3896, 0.0), (3897, 0.0), (3900, 0.0), (3901, 0.0), (3904, 0.0), (3906, 0.0), (3907, 0.0), (3909, 0.0), (3913, 0.0), (3917, 0.0), (3918, 0.0), (3920, 0.0), (3925, 0.0), (3926, 0.0), (3931, 0.0), (3934, 0.0), (3936, 0.0), (3937, 0.0), (3938, 0.0), (3939, 0.0), (3940, 0.0), (3941, 0.0), (3942, 0.0), (3943, 0.0), (3950, 0.0), (3955, 0.0), (3956, 0.0), (3957, 0.0), (3958, 0.0), (3962, 0.0), (3963, 0.0), (3964, 0.0), (3965, 0.0), (3967, 0.0), (3968, 0.0), (3971, 0.0), (3972, 0.0), (3973, 0.0), (3978, 0.0), (3982, 0.0), (3983, 0.0), (3984, 0.0), (3987, 0.0), (3994, 0.0), (3996, 0.0), (3999, 0.0), (4001, 0.0), (4003, 0.0), (4005, 0.0), (4006, 0.0), (4009, 0.0), (4012, 0.0), (4013, 0.0), (4014, 0.0), (4018, 0.0), (4022, 0.0), (4025, 0.0), (4029, 0.0), (4030, 0.0), (4031, 0.0), (4032, 0.0), (4033, 0.0), (4038, 0.0), (4039, 0.0), (4040, 0.0), (4041, 0.0), (4044, 0.0), (4045, 0.0), (4047, 0.0), (4048, 0.0), (4051, 0.0), (4052, 0.0), (4054, 0.0), (4055, 0.0), (4056, 0.0), (4057, 0.0), (4058, 0.0), (4062, 0.0), (4067, 0.0), (4068, 0.0), (4069, 0.0), (4070, 0.0), (4071, 0.0), (4072, 0.0), (4079, 0.0), (4080, 0.0), (4084, 0.0), (4085, 0.0), (4086, 0.0), (4087, 0.0), (4090, 0.0), (4091, 0.0), (4093, 0.0), (4094, 0.0), (4096, 0.0), (4099, 0.0), (4100, 0.0), (4102, 0.0), (4104, 0.0), (4106, 0.0), (4108, 0.0), (4109, 0.0), (4113, 0.0), (4116, 0.0), (4119, 0.0), (4120, 0.0), (4122, 0.0), (4124, 0.0), (4126, 0.0), (4131, 0.0), (4134, 0.0), (4137, 0.0), (4138, 0.0), (4140, 0.0), (4141, 0.0), (4142, 0.0), (4143, 0.0), (4144, 0.0), (4145, 0.0), (4147, 0.0), (4148, 0.0), (4150, 0.0), (4151, 0.0), (4153, 0.0), (4154, 0.0), (4155, 0.0), (4156, 0.0), (4157, 0.0), (4160, 0.0), (4161, 0.0), (4162, 0.0), (4165, 0.0), (4168, 0.0), (4169, 0.0), (4170, 0.0), (4171, 0.0), (4172, 0.0), (4173, 0.0), (4174, 0.0), (4175, 0.0), (4176, 0.0), (4180, 0.0), (4181, 0.0), (4183, 0.0), (4184, 0.0), (4186, 0.0), (4187, 0.0), (4188, 0.0), (4189, 0.0), (4195, 0.0), (4197, 0.0), (4198, 0.0), (4199, 0.0), (4205, 0.0), (4206, 0.0), (4208, 0.0), (4210, 0.0), (4212, 0.0), (4215, 0.0), (4216, 0.0), (4217, 0.0), (4219, 0.0), (4220, 0.0), (4221, 0.0), (4222, 0.0), (4224, 0.0), (4225, 0.0), (4227, 0.0), (4229, 0.0), (4230, 0.0), (4231, 0.0), (4234, 0.0), (4237, 0.0), (4239, 0.0), (4240, 0.0), (4242, 0.0), (4243, 0.0), (4245, 0.0), (4249, 0.0), (4251, 0.0), (4252, 0.0), (4253, 0.0), (4255, 0.0), (4256, 0.0), (4258, 0.0), (4260, 0.0), (4264, 0.0), (4267, 0.0), (4268, 0.0), (4269, 0.0), (4272, 0.0), (4273, 0.0), (4274, 0.0), (4275, 0.0), (4276, 0.0), (4278, 0.0), (4283, 0.0), (4285, 0.0), (4286, 0.0), (4287, 0.0), (4289, 0.0), (4291, 0.0), (4294, 0.0), (4295, 0.0), (4296, 0.0), (4297, 0.0), (4298, 0.0), (4301, 0.0), (4302, 0.0), (4303, 0.0), (4304, 0.0), (4306, 0.0), (4307, 0.0), (4308, 0.0), (4309, 0.0), (4310, 0.0), (4311, 0.0), (4315, 0.0), (4318, 0.0), (4321, 0.0), (4322, 0.0), (4323, 0.0), (4326, 0.0), (4328, 0.0), (4334, 0.0), (4337, 0.0), (4338, 0.0), (4340, 0.0), (4342, 0.0), (4344, 0.0), (4345, 0.0), (4346, 0.0), (4347, 0.0), (4350, 0.0), (4352, 0.0), (4354, 0.0), (4356, 0.0), (4360, 0.0), (4361, 0.0), (4363, 0.0), (4364, 0.0), (4366, 0.0), (4367, 0.0), (4370, 0.0), (4373, 0.0), (4374, 0.0), (4376, 0.0), (4378, 0.0), (4379, 0.0), (4381, 0.0), (4385, 0.0), (4386, 0.0), (4387, 0.0), (4389, 0.0), (4391, 0.0), (4393, 0.0), (4394, 0.0), (4395, 0.0), (4396, 0.0), (4398, 0.0), (4404, 0.0), (4407, 0.0), (4409, 0.0), (4411, 0.0), (4414, 0.0), (4415, 0.0), (4416, 0.0), (4417, 0.0), (4418, 0.0), (4419, 0.0), (4423, 0.0), (4424, 0.0), (4425, 0.0), (4426, 0.0), (4428, 0.0), (4430, 0.0), (4432, 0.0), (4433, 0.0), (4435, 0.0), (4436, 0.0), (4437, 0.0), (4438, 0.0), (4439, 0.0), (4440, 0.0), (4441, 0.0), (4442, 0.0), (4444, 0.0), (4445, 0.0), (4447, 0.0), (4448, 0.0), (4449, 0.0), (4452, 0.0), (4454, 0.0), (4455, 0.0), (4456, 0.0), (4457, 0.0), (4461, 0.0), (4462, 0.0), (4464, 0.0), (4465, 0.0), (4467, 0.0), (4470, 0.0), (4471, 0.0), (4474, 0.0), (4475, 0.0), (4476, 0.0), (4477, 0.0), (4478, 0.0), (4479, 0.0), (4480, 0.0), (4481, 0.0), (4483, 0.0), (4486, 0.0), (4487, 0.0), (4488, 0.0), (4489, 0.0), (4491, 0.0), (4493, 0.0), (4494, 0.0), (4495, 0.0), (4496, 0.0), (4497, 0.0), (4499, 0.0), (4500, 0.0), (4501, 0.0), (4503, 0.0), (4504, 0.0), (4505, 0.0), (4507, 0.0), (4508, 0.0), (4509, 0.0), (4511, 0.0), (4513, 0.0), (4514, 0.0), (4515, 0.0), (4517, 0.0), (4518, 0.0), (4520, 0.0), (4521, 0.0), (4522, 0.0), (4523, 0.0), (4524, 0.0), (4526, 0.0), (4527, 0.0), (4531, 0.0), (4534, 0.0), (4537, 0.0), (4539, 0.0), (4541, 0.0), (4544, 0.0), (4546, 0.0), (4547, 0.0), (4548, 0.0), (4550, 0.0), (4551, 0.0), (4556, 0.0), (4561, 0.0), (4562, 0.0), (4563, 0.0), (4567, 0.0), (4571, 0.0), (4572, 0.0), (4574, 0.0), (4577, 0.0), (4578, 0.0), (4579, 0.0), (4580, 0.0), (4581, 0.0), (4583, 0.0), (4584, 0.0), (4585, 0.0), (4586, 0.0), (4588, 0.0), (4592, 0.0), (4593, 0.0), (4595, 0.0), (4598, 0.0), (4599, 0.0), (4600, 0.0), (4601, 0.0), (4603, 0.0), (4605, 0.0), (4606, 0.0), (4608, 0.0), (4609, 0.0), (4610, 0.0), (4612, 0.0), (4613, 0.0), (4614, 0.0), (4615, 0.0), (4616, 0.0), (4617, 0.0), (4619, 0.0), (4621, 0.0), (4622, 0.0), (4625, 0.0), (4627, 0.0), (4628, 0.0), (4631, 0.0), (4637, 0.0), (4639, 0.0), (4644, 0.0), (4645, 0.0), (4648, 0.0), (4649, 0.0), (4650, 0.0), (4651, 0.0), (4653, 0.0), (4655, 0.0), (4658, 0.0), (4659, 0.0), (4660, 0.0), (4662, 0.0), (4663, 0.0), (4665, 0.0), (4668, 0.0), (4671, 0.0), (4676, 0.0), (4677, 0.0), (4678, 0.0), (4679, 0.0), (4681, 0.0), (4683, 0.0), (4684, 0.0), (4685, 0.0), (4686, 0.0), (4687, 0.0), (4688, 0.0), (4689, 0.0), (4692, 0.0), (4697, 0.0), (4698, 0.0), (4701, 0.0), (4702, 0.0), (4705, 0.0), (4708, 0.0), (4709, 0.0), (4710, 0.0), (4712, 0.0), (4714, 0.0), (4715, 0.0), (4716, 0.0), (4717, 0.0), (4719, 0.0), (4721, 0.0), (4723, 0.0), (4724, 0.0), (4725, 0.0), (4726, 0.0), (4728, 0.0), (4729, 0.0), (4732, 0.0), (4733, 0.0), (4734, 0.0), (4735, 0.0), (4736, 0.0), (4738, 0.0), (4740, 0.0), (4745, 0.0), (4746, 0.0), (4747, 0.0), (4749, 0.0), (4750, 0.0), (4751, 0.0), (4753, 0.0), (4756, 0.0), (4758, 0.0), (4760, 0.0), (4762, 0.0), (4763, 0.0), (4764, 0.0), (4765, 0.0), (4768, 0.0), (4769, 0.0), (4770, 0.0), (4774, 0.0), (4776, 0.0), (4778, 0.0), (4779, 0.0), (4783, 0.0), (4785, 0.0), (4786, 0.0), (4788, 0.0), (4791, 0.0), (4792, 0.0), (4794, 0.0), (4795, 0.0), (4796, 0.0), (4797, 0.0), (4800, 0.0), (4805, 0.0)]\n"
     ]
    }
   ],
   "source": [
    "results = sorted(list(enumerate(similarity[0])), reverse=True, key=lambda x:x[1])\n",
    "formatted_results = [(index, float(score)) for index, score in results]\n",
    "print(formatted_results)"
   ]
  },
  {
   "cell_type": "code",
   "execution_count": 60,
   "metadata": {},
   "outputs": [
    {
     "name": "stdout",
     "output_type": "stream",
     "text": [
      "Titan A.E.\n",
      "Small Soldiers\n",
      "Ender's Game\n",
      "Independence Day\n",
      "Aliens vs Predator: Requiem\n"
     ]
    }
   ],
   "source": [
    "recommend('Avatar')"
   ]
  },
  {
   "cell_type": "code",
   "execution_count": 61,
   "metadata": {},
   "outputs": [
    {
     "data": {
      "text/plain": [
       "'Aliens vs Predator: Requiem'"
      ]
     },
     "execution_count": 61,
     "metadata": {},
     "output_type": "execute_result"
    }
   ],
   "source": [
    "new_df.iloc[1214].title"
   ]
  },
  {
   "cell_type": "code",
   "execution_count": 62,
   "metadata": {},
   "outputs": [
    {
     "name": "stdout",
     "output_type": "stream",
     "text": [
      "The Dark Knight\n",
      "The Dark Knight Rises\n",
      "Batman\n",
      "Batman & Robin\n",
      "Batman\n"
     ]
    }
   ],
   "source": [
    "recommend('Batman Begins')"
   ]
  },
  {
   "cell_type": "code",
   "execution_count": 63,
   "metadata": {},
   "outputs": [],
   "source": [
    "import pickle"
   ]
  },
  {
   "cell_type": "code",
   "execution_count": 64,
   "metadata": {},
   "outputs": [],
   "source": [
    "pickle.dump(new_df, open('movies.pkl', 'wb'))"
   ]
  },
  {
   "cell_type": "code",
   "execution_count": 65,
   "metadata": {},
   "outputs": [],
   "source": [
    "pickle.dump(similarity, open('similarity.pkl', 'wb'))"
   ]
  },
  {
   "cell_type": "code",
   "execution_count": null,
   "metadata": {},
   "outputs": [],
   "source": []
  }
 ],
 "metadata": {
  "kernelspec": {
   "display_name": "maqksad",
   "language": "python",
   "name": "python3"
  },
  "language_info": {
   "codemirror_mode": {
    "name": "ipython",
    "version": 3
   },
   "file_extension": ".py",
   "mimetype": "text/x-python",
   "name": "python",
   "nbconvert_exporter": "python",
   "pygments_lexer": "ipython3",
   "version": "3.12.1"
  }
 },
 "nbformat": 4,
 "nbformat_minor": 2
}
